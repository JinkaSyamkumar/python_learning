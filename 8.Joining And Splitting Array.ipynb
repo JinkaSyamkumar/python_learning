{
 "cells": [
  {
   "cell_type": "markdown",
   "metadata": {},
   "source": [
    "# Joining And Splitting Array\n",
    "\n",
    "- concatenate\n",
    "- stack\n",
    "- split"
   ]
  },
  {
   "cell_type": "code",
   "execution_count": 1,
   "metadata": {},
   "outputs": [],
   "source": [
    "import numpy as np"
   ]
  },
  {
   "cell_type": "markdown",
   "metadata": {},
   "source": [
    "### 1.Concatenate\n",
    "- concatenate((a1, a2, ...), axis=0, out=None)\n",
    "- #Join a sequence of arrays along an existing axis."
   ]
  },
  {
   "cell_type": "code",
   "execution_count": 2,
   "metadata": {},
   "outputs": [
    {
     "data": {
      "text/plain": [
       "array([[1, 2],\n",
       "       [3, 4]])"
      ]
     },
     "execution_count": 2,
     "metadata": {},
     "output_type": "execute_result"
    }
   ],
   "source": [
    "#lets create two arrays\n",
    "a= np.array([[1,2],[3,4]])\n",
    "b=np.array([[5,6]])\n",
    "a"
   ]
  },
  {
   "cell_type": "code",
   "execution_count": 4,
   "metadata": {},
   "outputs": [
    {
     "data": {
      "text/plain": [
       "(1, 2)"
      ]
     },
     "execution_count": 4,
     "metadata": {},
     "output_type": "execute_result"
    }
   ],
   "source": [
    "b.shape"
   ]
  },
  {
   "cell_type": "code",
   "execution_count": 19,
   "metadata": {},
   "outputs": [
    {
     "data": {
      "text/plain": [
       "array([[1, 2],\n",
       "       [3, 4],\n",
       "       [5, 6]])"
      ]
     },
     "execution_count": 19,
     "metadata": {},
     "output_type": "execute_result"
    }
   ],
   "source": [
    "together = np.concatenate((a,b), axis=0)\n",
    "#concatenate((a1, a2, ...), axis=0, out=None)\n",
    "#Join a sequence of arrays along an existing axis.\n",
    "together"
   ]
  },
  {
   "cell_type": "code",
   "execution_count": 13,
   "metadata": {},
   "outputs": [
    {
     "data": {
      "text/plain": [
       "(3, 2)"
      ]
     },
     "execution_count": 13,
     "metadata": {},
     "output_type": "execute_result"
    }
   ],
   "source": [
    "together.shape"
   ]
  },
  {
   "cell_type": "code",
   "execution_count": 14,
   "metadata": {},
   "outputs": [],
   "source": [
    "#with append, the original list is simply modified. \n",
    "#On the other hand, with concatenation, an entirely new list is created."
   ]
  },
  {
   "cell_type": "code",
   "execution_count": 15,
   "metadata": {},
   "outputs": [
    {
     "data": {
      "text/plain": [
       "array([[  1,   2],\n",
       "       [  3, 999],\n",
       "       [  5,   6]])"
      ]
     },
     "execution_count": 15,
     "metadata": {},
     "output_type": "execute_result"
    }
   ],
   "source": [
    "together[1,1]=999\n",
    "together"
   ]
  },
  {
   "cell_type": "code",
   "execution_count": 16,
   "metadata": {},
   "outputs": [
    {
     "data": {
      "text/plain": [
       "array([[1, 2],\n",
       "       [3, 4]])"
      ]
     },
     "execution_count": 16,
     "metadata": {},
     "output_type": "execute_result"
    }
   ],
   "source": [
    "#lets verify together is view or copy\n",
    "a"
   ]
  },
  {
   "cell_type": "code",
   "execution_count": 17,
   "metadata": {},
   "outputs": [],
   "source": [
    "#so togetehr is A COPY"
   ]
  },
  {
   "cell_type": "markdown",
   "metadata": {},
   "source": [
    "### 2.Stack\n",
    "- Stack a sequence of arrays along a new axis."
   ]
  },
  {
   "cell_type": "code",
   "execution_count": 21,
   "metadata": {},
   "outputs": [
    {
     "data": {
      "text/plain": [
       "array([[[0., 0., 0., 0.],\n",
       "        [0., 0., 0., 0.],\n",
       "        [0., 0., 0., 0.]],\n",
       "\n",
       "       [[0., 0., 0., 0.],\n",
       "        [0., 0., 0., 0.],\n",
       "        [0., 0., 0., 0.]],\n",
       "\n",
       "       [[0., 0., 0., 0.],\n",
       "        [0., 0., 0., 0.],\n",
       "        [0., 0., 0., 0.]],\n",
       "\n",
       "       [[0., 0., 0., 0.],\n",
       "        [0., 0., 0., 0.],\n",
       "        [0., 0., 0., 0.]],\n",
       "\n",
       "       [[0., 0., 0., 0.],\n",
       "        [0., 0., 0., 0.],\n",
       "        [0., 0., 0., 0.]]])"
      ]
     },
     "execution_count": 21,
     "metadata": {},
     "output_type": "execute_result"
    }
   ],
   "source": [
    "#lets create array\n",
    "arrays=np.zeros((5,3,4))\n",
    "arrays"
   ]
  },
  {
   "cell_type": "code",
   "execution_count": 23,
   "metadata": {},
   "outputs": [
    {
     "data": {
      "text/plain": [
       "array([[[-0.09602591,  0.40291735,  0.41275709, -0.40181281],\n",
       "        [ 0.37130212,  0.80084619,  0.17792995,  0.81236294],\n",
       "        [ 0.51978414,  0.68246307, -1.42966161,  0.20090736]],\n",
       "\n",
       "       [[ 0.31416621, -0.11113855,  0.56179031, -1.38039833],\n",
       "        [-0.48996634, -0.09085299,  0.38109611, -0.22830622],\n",
       "        [ 0.54621575,  0.48676908,  0.57757537,  0.67958853]],\n",
       "\n",
       "       [[-0.04028869, -0.01890507,  1.97750399,  1.07818154],\n",
       "        [-0.10450978,  1.20869537,  1.60245602, -2.25365803],\n",
       "        [ 1.31539375,  0.411608  , -1.27389424,  1.37722907]],\n",
       "\n",
       "       [[-1.76902494, -0.00566613,  1.47643408, -0.06979272],\n",
       "        [ 0.63897387,  0.47286582, -1.52921279,  0.17470042],\n",
       "        [ 0.80876819, -0.28709892, -0.50965191,  1.20056249]],\n",
       "\n",
       "       [[ 0.94224726, -1.15059293,  0.52012421, -0.00579941],\n",
       "        [-0.00927194,  0.9055793 , -0.35380701, -0.70197862],\n",
       "        [-0.17423644,  1.19622514,  1.68966093, -0.72495918]]])"
      ]
     },
     "execution_count": 23,
     "metadata": {},
     "output_type": "execute_result"
    }
   ],
   "source": [
    "#lets add random no with a mean of 3, and sd of 4\n",
    "for n in range(5):\n",
    "    arrays[n]=np.random.randn(3,4)\n",
    "arrays"
   ]
  },
  {
   "cell_type": "code",
   "execution_count": 26,
   "metadata": {},
   "outputs": [
    {
     "data": {
      "text/plain": [
       "array([[[-0.09602591,  0.40291735,  0.41275709, -0.40181281],\n",
       "        [ 0.37130212,  0.80084619,  0.17792995,  0.81236294],\n",
       "        [ 0.51978414,  0.68246307, -1.42966161,  0.20090736]],\n",
       "\n",
       "       [[ 0.31416621, -0.11113855,  0.56179031, -1.38039833],\n",
       "        [-0.48996634, -0.09085299,  0.38109611, -0.22830622],\n",
       "        [ 0.54621575,  0.48676908,  0.57757537,  0.67958853]],\n",
       "\n",
       "       [[-0.04028869, -0.01890507,  1.97750399,  1.07818154],\n",
       "        [-0.10450978,  1.20869537,  1.60245602, -2.25365803],\n",
       "        [ 1.31539375,  0.411608  , -1.27389424,  1.37722907]],\n",
       "\n",
       "       [[-1.76902494, -0.00566613,  1.47643408, -0.06979272],\n",
       "        [ 0.63897387,  0.47286582, -1.52921279,  0.17470042],\n",
       "        [ 0.80876819, -0.28709892, -0.50965191,  1.20056249]],\n",
       "\n",
       "       [[ 0.94224726, -1.15059293,  0.52012421, -0.00579941],\n",
       "        [-0.00927194,  0.9055793 , -0.35380701, -0.70197862],\n",
       "        [-0.17423644,  1.19622514,  1.68966093, -0.72495918]]])"
      ]
     },
     "execution_count": 26,
     "metadata": {},
     "output_type": "execute_result"
    }
   ],
   "source": [
    "#above we got 5 2ds and each with 3 rows and 4 columns\n",
    "#lets try stack\n",
    "stack0=np.stack(arrays,axis=0)\n",
    "stack1=np.stack(arrays,axis=1)\n",
    "stack2=np.stack(arrays,axis=2)\n",
    "stack0 #Contains all of the elements in oRIGINAL array"
   ]
  },
  {
   "cell_type": "code",
   "execution_count": 27,
   "metadata": {},
   "outputs": [
    {
     "data": {
      "text/plain": [
       "array([[[-0.09602591,  0.40291735,  0.41275709, -0.40181281],\n",
       "        [ 0.31416621, -0.11113855,  0.56179031, -1.38039833],\n",
       "        [-0.04028869, -0.01890507,  1.97750399,  1.07818154],\n",
       "        [-1.76902494, -0.00566613,  1.47643408, -0.06979272],\n",
       "        [ 0.94224726, -1.15059293,  0.52012421, -0.00579941]],\n",
       "\n",
       "       [[ 0.37130212,  0.80084619,  0.17792995,  0.81236294],\n",
       "        [-0.48996634, -0.09085299,  0.38109611, -0.22830622],\n",
       "        [-0.10450978,  1.20869537,  1.60245602, -2.25365803],\n",
       "        [ 0.63897387,  0.47286582, -1.52921279,  0.17470042],\n",
       "        [-0.00927194,  0.9055793 , -0.35380701, -0.70197862]],\n",
       "\n",
       "       [[ 0.51978414,  0.68246307, -1.42966161,  0.20090736],\n",
       "        [ 0.54621575,  0.48676908,  0.57757537,  0.67958853],\n",
       "        [ 1.31539375,  0.411608  , -1.27389424,  1.37722907],\n",
       "        [ 0.80876819, -0.28709892, -0.50965191,  1.20056249],\n",
       "        [-0.17423644,  1.19622514,  1.68966093, -0.72495918]]])"
      ]
     },
     "execution_count": 27,
     "metadata": {},
     "output_type": "execute_result"
    }
   ],
   "source": [
    "stack1 #Three two-dimensional arrays, each with five rows, and four columns"
   ]
  },
  {
   "cell_type": "code",
   "execution_count": 29,
   "metadata": {},
   "outputs": [
    {
     "data": {
      "text/plain": [
       "array([[[-0.09602591,  0.31416621, -0.04028869, -1.76902494,\n",
       "          0.94224726],\n",
       "        [ 0.40291735, -0.11113855, -0.01890507, -0.00566613,\n",
       "         -1.15059293],\n",
       "        [ 0.41275709,  0.56179031,  1.97750399,  1.47643408,\n",
       "          0.52012421],\n",
       "        [-0.40181281, -1.38039833,  1.07818154, -0.06979272,\n",
       "         -0.00579941]],\n",
       "\n",
       "       [[ 0.37130212, -0.48996634, -0.10450978,  0.63897387,\n",
       "         -0.00927194],\n",
       "        [ 0.80084619, -0.09085299,  1.20869537,  0.47286582,\n",
       "          0.9055793 ],\n",
       "        [ 0.17792995,  0.38109611,  1.60245602, -1.52921279,\n",
       "         -0.35380701],\n",
       "        [ 0.81236294, -0.22830622, -2.25365803,  0.17470042,\n",
       "         -0.70197862]],\n",
       "\n",
       "       [[ 0.51978414,  0.54621575,  1.31539375,  0.80876819,\n",
       "         -0.17423644],\n",
       "        [ 0.68246307,  0.48676908,  0.411608  , -0.28709892,\n",
       "          1.19622514],\n",
       "        [-1.42966161,  0.57757537, -1.27389424, -0.50965191,\n",
       "          1.68966093],\n",
       "        [ 0.20090736,  0.67958853,  1.37722907,  1.20056249,\n",
       "         -0.72495918]]])"
      ]
     },
     "execution_count": 29,
     "metadata": {},
     "output_type": "execute_result"
    }
   ],
   "source": [
    "stack2 #Contains three two-dimensional arrays, each with four rows, and five columns."
   ]
  },
  {
   "cell_type": "markdown",
   "metadata": {},
   "source": [
    "### 3.Split\n",
    "- numpy.split(ary, indices_or_sections, axis=0)[source]¶\n",
    "- Split an array into multiple sub-arrays. \n",
    "- splits evenly ie array elements should be divisble by 2"
   ]
  },
  {
   "cell_type": "code",
   "execution_count": 35,
   "metadata": {},
   "outputs": [
    {
     "data": {
      "text/plain": [
       "[array([0, 1, 2, 3, 4, 5])]"
      ]
     },
     "execution_count": 35,
     "metadata": {},
     "output_type": "execute_result"
    }
   ],
   "source": [
    "#lets create temp array\n",
    "temp = np.arange(6)\n",
    "#np.split(temp,0) causes error because you can split into 0 ararys\n",
    "np.split(temp,1) # if it is 1 , it returns the same error\n"
   ]
  },
  {
   "cell_type": "code",
   "execution_count": 37,
   "metadata": {},
   "outputs": [
    {
     "data": {
      "text/plain": [
       "[array([0, 1, 2]), array([3, 4, 5])]"
      ]
     },
     "execution_count": 37,
     "metadata": {},
     "output_type": "execute_result"
    }
   ],
   "source": [
    "np.split(temp,2) # it"
   ]
  },
  {
   "cell_type": "code",
   "execution_count": 41,
   "metadata": {},
   "outputs": [
    {
     "data": {
      "text/plain": [
       "(5, 3, 4)"
      ]
     },
     "execution_count": 41,
     "metadata": {},
     "output_type": "execute_result"
    }
   ],
   "source": [
    "before_split=stack0\n",
    "before_split.shape"
   ]
  },
  {
   "cell_type": "code",
   "execution_count": 42,
   "metadata": {},
   "outputs": [
    {
     "data": {
      "text/plain": [
       "[array([[[-0.09602591,  0.40291735,  0.41275709, -0.40181281],\n",
       "         [ 0.37130212,  0.80084619,  0.17792995,  0.81236294],\n",
       "         [ 0.51978414,  0.68246307, -1.42966161,  0.20090736]]]),\n",
       " array([[[ 0.31416621, -0.11113855,  0.56179031, -1.38039833],\n",
       "         [-0.48996634, -0.09085299,  0.38109611, -0.22830622],\n",
       "         [ 0.54621575,  0.48676908,  0.57757537,  0.67958853]]]),\n",
       " array([[[-0.04028869, -0.01890507,  1.97750399,  1.07818154],\n",
       "         [-0.10450978,  1.20869537,  1.60245602, -2.25365803],\n",
       "         [ 1.31539375,  0.411608  , -1.27389424,  1.37722907]]]),\n",
       " array([[[-1.76902494, -0.00566613,  1.47643408, -0.06979272],\n",
       "         [ 0.63897387,  0.47286582, -1.52921279,  0.17470042],\n",
       "         [ 0.80876819, -0.28709892, -0.50965191,  1.20056249]]]),\n",
       " array([[[ 0.94224726, -1.15059293,  0.52012421, -0.00579941],\n",
       "         [-0.00927194,  0.9055793 , -0.35380701, -0.70197862],\n",
       "         [-0.17423644,  1.19622514,  1.68966093, -0.72495918]]])]"
      ]
     },
     "execution_count": 42,
     "metadata": {},
     "output_type": "execute_result"
    }
   ],
   "source": [
    "s0=np.split(stack0,5,axis=0) #splitted stack into 5 3Ds\n",
    "s0"
   ]
  },
  {
   "cell_type": "code",
   "execution_count": 43,
   "metadata": {},
   "outputs": [
    {
     "data": {
      "text/plain": [
       "list"
      ]
     },
     "execution_count": 43,
     "metadata": {},
     "output_type": "execute_result"
    }
   ],
   "source": [
    "type(s0)"
   ]
  },
  {
   "cell_type": "code",
   "execution_count": 46,
   "metadata": {},
   "outputs": [
    {
     "data": {
      "text/plain": [
       "(1, 3, 4)"
      ]
     },
     "execution_count": 46,
     "metadata": {},
     "output_type": "execute_result"
    }
   ],
   "source": [
    "s0[1].shape # 1 3D arary with 4 columns"
   ]
  },
  {
   "cell_type": "code",
   "execution_count": null,
   "metadata": {},
   "outputs": [],
   "source": []
  }
 ],
 "metadata": {
  "kernelspec": {
   "display_name": "Python 3",
   "language": "python",
   "name": "python3"
  },
  "language_info": {
   "codemirror_mode": {
    "name": "ipython",
    "version": 3
   },
   "file_extension": ".py",
   "mimetype": "text/x-python",
   "name": "python",
   "nbconvert_exporter": "python",
   "pygments_lexer": "ipython3",
   "version": "3.6.4"
  }
 },
 "nbformat": 4,
 "nbformat_minor": 2
}
