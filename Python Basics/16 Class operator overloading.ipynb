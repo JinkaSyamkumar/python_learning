{
 "cells": [
  {
   "cell_type": "markdown",
   "metadata": {},
   "source": [
    "We can use +  operator for adding numbers and at the same time to concatenate strings. \n",
    "It is possible because +  operator is overloaded by both int  class and str  class. \n",
    "The operators are actually methods defined in respective classes.\n",
    "Defining methods for operators is known as operator overloading. \n",
    "For e.g. To use +  operator with custom objects \n",
    "(EARLIER WE USED ON INT AND STRING NOW with Objects) you need to \n",
    "define a method called __add__  ."
   ]
  },
  {
   "cell_type": "markdown",
   "metadata": {},
   "source": [
    "same is the case for \\_\\_str\\_\\_ operator..after overloading\n",
    "we can use print(obj) or str(obj)"
   ]
  },
  {
   "cell_type": "code",
   "execution_count": 4,
   "metadata": {},
   "outputs": [
    {
     "name": "stdout",
     "output_type": "stream",
     "text": [
      "x value is 6\n"
     ]
    }
   ],
   "source": [
    "class OpClass:\n",
    "    def __init__(self,x):\n",
    "        self._x=x\n",
    "        \n",
    "    def __str__(self):\n",
    "        return f'x value is {self._x}'\n",
    "    \n",
    "    #+ operator overloading\n",
    "    def __add__(self,otherobject):\n",
    "        total_x = self._x+otherobject._x #summing up\n",
    "        return OpClass(total_x) #instantiating with summed up x value\n",
    "    \n",
    "obj1=OpClass(2)\n",
    "obj2=OpClass(4)\n",
    "obj3=obj1+obj2\n",
    "print(str(obj3))\n"
   ]
  },
  {
   "cell_type": "markdown",
   "metadata": {},
   "source": [
    "sameway we can do * with \\_\\_mul\\_\\_\n",
    "- \\- with __sub__\n",
    "- % with mod\n",
    "- / with truediv\n",
    "- < with lt\n",
    "- \\> with gt\n",
    "- <= with le & >= with ge & == with eq & != with ne\n",
    "- [index] with getitem\n",
    "- in with contains\n",
    "- len with __len__\n",
    "- str with __str__"
   ]
  },
  {
   "cell_type": "code",
   "execution_count": null,
   "metadata": {},
   "outputs": [],
   "source": []
  }
 ],
 "metadata": {
  "kernelspec": {
   "display_name": "Python 3",
   "language": "python",
   "name": "python3"
  },
  "language_info": {
   "codemirror_mode": {
    "name": "ipython",
    "version": 3
   },
   "file_extension": ".py",
   "mimetype": "text/x-python",
   "name": "python",
   "nbconvert_exporter": "python",
   "pygments_lexer": "ipython3",
   "version": "3.6.4"
  }
 },
 "nbformat": 4,
 "nbformat_minor": 2
}
