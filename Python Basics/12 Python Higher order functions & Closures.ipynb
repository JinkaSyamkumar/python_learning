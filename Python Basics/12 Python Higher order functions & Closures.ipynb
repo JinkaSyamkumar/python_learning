{
 "cells": [
  {
   "cell_type": "code",
   "execution_count": 1,
   "metadata": {},
   "outputs": [],
   "source": [
    "# A Higher Order Function is a function which is capable of doing any one of the following things\n",
    "# It can be functioned as a data and be assigned to a variable\n",
    "# It can accept any other function as an argument\n",
    "# It can return a function as its result\n",
    "# The ability to build higher order functions, allows a programmer to create Closures, which in turn are used to create decorators"
   ]
  },
  {
   "cell_type": "markdown",
   "metadata": {},
   "source": [
    "#### Function as a Data"
   ]
  },
  {
   "cell_type": "code",
   "execution_count": 2,
   "metadata": {},
   "outputs": [
    {
     "name": "stdout",
     "output_type": "stream",
     "text": [
      "<class 'str'>\n",
      "hello\n"
     ]
    }
   ],
   "source": [
    "def greet():\n",
    "    return 'hello'\n",
    "\n",
    "wish=greet() #greet function assigned to variable wish\n",
    "\n",
    "print(type(wish))\n",
    "print(wish)"
   ]
  },
  {
   "cell_type": "markdown",
   "metadata": {},
   "source": [
    "#### Function as argument"
   ]
  },
  {
   "cell_type": "code",
   "execution_count": 9,
   "metadata": {},
   "outputs": [
    {
     "name": "stdout",
     "output_type": "stream",
     "text": [
      "26\n"
     ]
    }
   ],
   "source": [
    "def add(x,y):\n",
    "   # print(x)\n",
    "    return x+y\n",
    "def sub(x,y):\n",
    "    return x-y\n",
    "\n",
    "def do(func,x,y):\n",
    "    return func(x,y) #returning func as aresult\n",
    "    \n",
    "print(do(add, 12,14)) #Passing add func as argument"
   ]
  },
  {
   "cell_type": "markdown",
   "metadata": {},
   "source": [
    "#### Function as result - (inner func & above)"
   ]
  },
  {
   "cell_type": "code",
   "execution_count": 10,
   "metadata": {},
   "outputs": [
    {
     "name": "stdout",
     "output_type": "stream",
     "text": [
      "hello\n"
     ]
    }
   ],
   "source": [
    "def outer():\n",
    "    def inner():\n",
    "        s='hello'\n",
    "        return s\n",
    "    return inner()\n",
    "print(outer())"
   ]
  },
  {
   "cell_type": "markdown",
   "metadata": {},
   "source": [
    "#### In above , it executes inner() and returns\n",
    "when we want to control execution\n",
    "we need to remove ( )"
   ]
  },
  {
   "cell_type": "code",
   "execution_count": 12,
   "metadata": {},
   "outputs": [
    {
     "name": "stdout",
     "output_type": "stream",
     "text": [
      "gives inner -  <function outer.<locals>.inner at 0x10b6b4c80>\n",
      "hello\n"
     ]
    }
   ],
   "source": [
    "def outer():\n",
    "    def inner():\n",
    "        s='hello'\n",
    "        return s\n",
    "    return inner\n",
    "print('gives inner - ',outer())\n",
    "func=outer()\n",
    "#calling inner now\n",
    "print(func())"
   ]
  },
  {
   "cell_type": "markdown",
   "metadata": {},
   "source": [
    "## Closures"
   ]
  },
  {
   "cell_type": "code",
   "execution_count": 13,
   "metadata": {},
   "outputs": [],
   "source": [
    "# A closures is a function returned by a higher order function, whose return value depends on the data associated with \n",
    "#the higher order function"
   ]
  },
  {
   "cell_type": "code",
   "execution_count": 14,
   "metadata": {},
   "outputs": [
    {
     "name": "stdout",
     "output_type": "stream",
     "text": [
      "16\n",
      "25\n"
     ]
    }
   ],
   "source": [
    "def multiple_of(x):\n",
    "    def multiple(y):\n",
    "        return x*y\n",
    "    return multiple\n",
    "#ABOVE multiple_of is a HIGER ORDER FUNCTION since its satisfies one of the\n",
    "#three chars of Higher order function as its returning function as a result\n",
    "\n",
    "#Now as per CLOSURE DEF, is a function returned by Higer Order function\n",
    "#we are assigning return which fun to c1..OBSERVER we retruning multiple\n",
    "#NOT multiple( )\n",
    "c1= multiple_of(4) #is a closure\n",
    "c2=multiple_of(5) #is a closure\n",
    "\n",
    "print(c1(4))\n",
    "print(c2(5))"
   ]
  },
  {
   "cell_type": "code",
   "execution_count": 24,
   "metadata": {},
   "outputs": [
    {
     "name": "stdout",
     "output_type": "stream",
     "text": [
      "True\n",
      "True\n",
      "True\n",
      "False\n",
      "False\n",
      "False\n"
     ]
    }
   ],
   "source": [
    "def detecter(element):\n",
    "    def isIn(sequence):\n",
    "        return element in sequence\n",
    "    return isIn\n",
    "detect30 = detecter(30)\n",
    "detect45 = detecter(45)\n",
    "print(detect30([2,30,45,6]))\n",
    "print(detect45([2,30,45,6]))\n",
    "\n",
    "print(detect30([8,30,4,6]))\n",
    "print(detect45([8,30,4,6]))\n",
    "\n",
    "print(detect30([8,3,4,6,9,4,5,0,1,445,300]))\n",
    "print(detect45([8,3,4,6,9,4,5,0,1,445,300]))"
   ]
  },
  {
   "cell_type": "code",
   "execution_count": 25,
   "metadata": {},
   "outputs": [
    {
     "name": "stdout",
     "output_type": "stream",
     "text": [
      "2\n",
      "3\n",
      "89\n",
      "90\n"
     ]
    }
   ],
   "source": [
    "def factory(n=0):\n",
    "    def current():\n",
    "        return n\n",
    "    def counter():\n",
    "        nonlocal n\n",
    "        n+=1\n",
    "        return n\n",
    "    return current,counter\n",
    "\n",
    "f_current, f_counter = factory(2)\n",
    "print(f_current())\n",
    "print(f_counter())\n",
    "f_current, f_counter = factory(89)\n",
    "print(f_current())\n",
    "print(f_counter())"
   ]
  },
  {
   "cell_type": "code",
   "execution_count": 26,
   "metadata": {},
   "outputs": [
    {
     "name": "stdout",
     "output_type": "stream",
     "text": [
      "World\n",
      "Hello\n"
     ]
    }
   ],
   "source": [
    "v = 'Hello'\n",
    "\n",
    "def f():\n",
    "    v = 'World'\n",
    "    return v\n",
    "\n",
    "print(f())\n",
    "print(v)"
   ]
  },
  {
   "cell_type": "code",
   "execution_count": 27,
   "metadata": {},
   "outputs": [
    {
     "name": "stdout",
     "output_type": "stream",
     "text": [
      "[6, 6, 6, 6]\n"
     ]
    }
   ],
   "source": [
    "def multipliers():\n",
    "    return [lambda x : i * x for i in range(4)]\n",
    "\n",
    "print([m(2) for m in multipliers()])"
   ]
  },
  {
   "cell_type": "code",
   "execution_count": 28,
   "metadata": {},
   "outputs": [
    {
     "name": "stdout",
     "output_type": "stream",
     "text": [
      "35\n",
      "250\n"
     ]
    }
   ],
   "source": [
    "def outer(x, y):\n",
    "\n",
    "    def inner1():\n",
    "        return x+y\n",
    "\n",
    "    def inner2():\n",
    "        return x*y\n",
    "\n",
    "    return (inner1, inner2)\n",
    "\n",
    "\n",
    "(f1, f2) = outer(10, 25)\n",
    "\n",
    "print(f1())\n",
    "print(f2())"
   ]
  },
  {
   "cell_type": "code",
   "execution_count": 30,
   "metadata": {},
   "outputs": [
    {
     "name": "stdout",
     "output_type": "stream",
     "text": [
      "24\n"
     ]
    }
   ],
   "source": [
    "def f(x):\n",
    "    return 3*x\n",
    "\n",
    "def g(x):\n",
    "    return 4*x\n",
    "\n",
    "print(f(g(2)))"
   ]
  },
  {
   "cell_type": "code",
   "execution_count": 31,
   "metadata": {},
   "outputs": [
    {
     "name": "stdout",
     "output_type": "stream",
     "text": [
      "50\n"
     ]
    }
   ],
   "source": [
    "def outer(x, y):\n",
    "\n",
    "    def inner1():\n",
    "        return x+y\n",
    "\n",
    "    def inner2(z):\n",
    "        return inner1() + z\n",
    "\n",
    "    return inner2\n",
    "\n",
    "\n",
    "f = outer(10, 25)\n",
    "\n",
    "print(f(15))"
   ]
  },
  {
   "cell_type": "code",
   "execution_count": null,
   "metadata": {},
   "outputs": [],
   "source": []
  }
 ],
 "metadata": {
  "kernelspec": {
   "display_name": "Python 3",
   "language": "python",
   "name": "python3"
  },
  "language_info": {
   "codemirror_mode": {
    "name": "ipython",
    "version": 3
   },
   "file_extension": ".py",
   "mimetype": "text/x-python",
   "name": "python",
   "nbconvert_exporter": "python",
   "pygments_lexer": "ipython3",
   "version": "3.6.4"
  }
 },
 "nbformat": 4,
 "nbformat_minor": 2
}
