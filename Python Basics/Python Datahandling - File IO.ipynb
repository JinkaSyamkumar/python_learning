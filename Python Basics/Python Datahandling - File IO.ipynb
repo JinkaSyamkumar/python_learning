{
 "cells": [
  {
   "cell_type": "code",
   "execution_count": 136,
   "metadata": {},
   "outputs": [],
   "source": [
    "#example reading a file"
   ]
  },
  {
   "cell_type": "code",
   "execution_count": 137,
   "metadata": {},
   "outputs": [
    {
     "name": "stdout",
     "output_type": "stream",
     "text": [
      "E\n",
      "m\n",
      "p\n",
      "_\n",
      "I\n",
      "D\n",
      ";\n",
      "E\n",
      "m\n",
      "p\n",
      "_\n",
      "N\n",
      "a\n",
      "m\n",
      "e\n",
      ";\n",
      "D\n",
      "e\n",
      "s\n",
      "g\n",
      ";\n",
      "D\n",
      "O\n",
      "J\n",
      ";\n",
      "W\n",
      "o\n",
      "r\n",
      "k\n",
      "_\n",
      "L\n",
      "o\n",
      "c\n",
      "a\n",
      "t\n",
      "i\n",
      "o\n",
      "n\n",
      ";\n",
      "S\n",
      "k\n",
      "i\n",
      "l\n",
      "l\n",
      "_\n",
      "s\n",
      "e\n",
      "t\n",
      "\n",
      "\n",
      "1\n",
      "3\n",
      "0\n",
      "2\n",
      "3\n",
      ";\n",
      "N\n",
      "a\n",
      "v\n",
      "e\n",
      "e\n",
      "n\n",
      ";\n",
      "A\n",
      "S\n",
      "E\n",
      ";\n",
      "0\n",
      "7\n",
      "-\n",
      "M\n",
      "a\n",
      "r\n",
      "-\n",
      "2\n",
      "0\n",
      "1\n",
      "3\n",
      ";\n",
      "H\n",
      "Y\n",
      "D\n",
      ";\n",
      "P\n",
      "y\n",
      "t\n",
      "h\n",
      "o\n",
      "n\n",
      ",\n",
      "P\n",
      "e\n",
      "r\n",
      "l\n",
      ",\n",
      "S\n",
      "h\n",
      "e\n",
      "l\n",
      "l\n",
      "\n",
      "\n",
      "1\n",
      "2\n",
      "0\n",
      "7\n",
      "6\n",
      ";\n",
      "s\n",
      "y\n",
      "a\n",
      "m\n",
      ";\n",
      "I\n",
      "T\n",
      "A\n",
      ";\n",
      "0\n",
      "9\n",
      "-\n",
      "A\n",
      "u\n",
      "g\n",
      "-\n",
      "2\n",
      "0\n",
      "1\n",
      "2\n",
      ";\n",
      "C\n",
      "H\n",
      "N\n",
      ";\n",
      "J\n",
      "a\n",
      "v\n",
      "a\n",
      ",\n",
      "P\n",
      "y\n",
      "t\n",
      "h\n",
      "o\n",
      "n\n",
      ",\n",
      "J\n",
      "S\n",
      "\n",
      "\n",
      "6\n",
      "6\n",
      "2\n",
      "1\n",
      "7\n",
      "7\n",
      ";\n",
      "k\n",
      "u\n",
      "m\n",
      "a\n",
      "r\n",
      ";\n",
      "A\n",
      "S\n",
      "T\n",
      ";\n",
      "1\n",
      "9\n",
      "-\n",
      "N\n",
      "o\n",
      "v\n",
      "-\n",
      "2\n",
      "0\n",
      "1\n",
      "2\n",
      ";\n",
      "P\n",
      "U\n",
      "N\n",
      ";\n",
      "U\n",
      "N\n",
      "I\n",
      "X\n",
      ",\n",
      "P\n",
      "y\n",
      "t\n",
      "h\n",
      "o\n",
      "n\n",
      ",\n",
      "J\n",
      "S\n",
      "\n",
      "\n",
      "3\n",
      "0\n",
      "2\n",
      "7\n",
      "3\n",
      "2\n",
      ";\n",
      "s\n",
      "r\n",
      "a\n",
      "v\n",
      "a\n",
      "n\n",
      "i\n",
      ";\n",
      "A\n",
      "S\n",
      "T\n",
      ";\n",
      "2\n",
      "9\n",
      "-\n",
      "O\n",
      "c\n",
      "t\n",
      "-\n",
      "2\n",
      "0\n",
      "1\n",
      "1\n",
      ";\n",
      "M\n",
      "U\n",
      "M\n",
      ";\n",
      "S\n",
      "Q\n",
      "L\n",
      ",\n",
      "P\n",
      "y\n",
      "t\n",
      "h\n",
      "o\n",
      "n\n",
      ",\n",
      "J\n",
      "S\n",
      "\n",
      "\n"
     ]
    }
   ],
   "source": [
    "fp = open('/Users/syamkumarj/Documents/Workspace/python_anaconda_workspace/temp.txt', 'r')   # opening\n",
    "\n",
    "content = fp.read()          # reading\n",
    "\n",
    "for l in content:\n",
    "    print(l)\n",
    "fp.close()                   # closing\n"
   ]
  },
  {
   "cell_type": "code",
   "execution_count": 138,
   "metadata": {},
   "outputs": [
    {
     "data": {
      "text/plain": [
       "'Emp_ID;Emp_Name;Desg;DOJ;Work_Location;Skill_set\\n13023;Naveen;ASE;07-Mar-2013;HYD;Python,Perl,Shell\\n12076;syam;ITA;09-Aug-2012;CHN;Java,Python,JS\\n662177;kumar;AST;19-Nov-2012;PUN;UNIX,Python,JS\\n302732;sravani;AST;29-Oct-2011;MUM;SQL,Python,JS\\n'"
      ]
     },
     "execution_count": 138,
     "metadata": {},
     "output_type": "execute_result"
    }
   ],
   "source": [
    "#read\n",
    "fp = open('/Users/syamkumarj/Documents/Workspace/python_anaconda_workspace/temp.txt', 'r')   # opening\n",
    "content=fp.read()\n",
    "content"
   ]
  },
  {
   "cell_type": "code",
   "execution_count": 139,
   "metadata": {},
   "outputs": [
    {
     "data": {
      "text/plain": [
       "''"
      ]
     },
     "execution_count": 139,
     "metadata": {},
     "output_type": "execute_result"
    }
   ],
   "source": [
    "content1 = fp.readline()\n",
    "content1"
   ]
  },
  {
   "cell_type": "code",
   "execution_count": 140,
   "metadata": {},
   "outputs": [
    {
     "data": {
      "text/plain": [
       "[]"
      ]
     },
     "execution_count": 140,
     "metadata": {},
     "output_type": "execute_result"
    }
   ],
   "source": [
    "content1 = fp.readlines()\n",
    "content1"
   ]
  },
  {
   "cell_type": "markdown",
   "metadata": {},
   "source": [
    "### File IO "
   ]
  },
  {
   "cell_type": "markdown",
   "metadata": {},
   "source": [
    "#### 1.First operation - Read data from temp.txt and store each employee record in a dictionary as HEADER as keys"
   ]
  },
  {
   "cell_type": "code",
   "execution_count": 141,
   "metadata": {},
   "outputs": [
    {
     "data": {
      "text/plain": [
       "['Emp_ID;Emp_Name;Desg;DOJ;Work_Location;Skill_set\\n',\n",
       " '13023;Naveen;ASE;07-Mar-2013;HYD;Python,Perl,Shell\\n',\n",
       " '12076;syam;ITA;09-Aug-2012;CHN;Java,Python,JS\\n',\n",
       " '662177;kumar;AST;19-Nov-2012;PUN;UNIX,Python,JS\\n',\n",
       " '302732;sravani;AST;29-Oct-2011;MUM;SQL,Python,JS\\n']"
      ]
     },
     "execution_count": 141,
     "metadata": {},
     "output_type": "execute_result"
    }
   ],
   "source": [
    "file_source= open('/Users/syamkumarj/Documents/Workspace/python_anaconda_workspace/temp.txt', 'r')   # opening\n",
    "emps = file_source.readlines() # Reads complete set of data\n",
    "emps"
   ]
  },
  {
   "cell_type": "code",
   "execution_count": 142,
   "metadata": {},
   "outputs": [
    {
     "data": {
      "text/plain": [
       "['Emp_ID;Emp_Name;Desg;DOJ;Work_Location;Skill_set',\n",
       " '13023;Naveen;ASE;07-Mar-2013;HYD;Python,Perl,Shell',\n",
       " '12076;syam;ITA;09-Aug-2012;CHN;Java,Python,JS',\n",
       " '662177;kumar;AST;19-Nov-2012;PUN;UNIX,Python,JS',\n",
       " '302732;sravani;AST;29-Oct-2011;MUM;SQL,Python,JS']"
      ]
     },
     "execution_count": 142,
     "metadata": {},
     "output_type": "execute_result"
    }
   ],
   "source": [
    "#pre processing to strip special chars\n",
    "#we have ; \\n\n",
    "#lets remove\n",
    "emps=[emp.strip('\\n') for emp in emps]\n",
    "emps"
   ]
  },
  {
   "cell_type": "markdown",
   "metadata": {},
   "source": [
    "##### above we used strip to strip special chars at the end\n",
    "below we used split to split the special char WITHIN"
   ]
  },
  {
   "cell_type": "code",
   "execution_count": 143,
   "metadata": {},
   "outputs": [
    {
     "data": {
      "text/plain": [
       "[['Emp_ID', 'Emp_Name', 'Desg', 'DOJ', 'Work_Location', 'Skill_set'],\n",
       " ['13023', 'Naveen', 'ASE', '07-Mar-2013', 'HYD', 'Python,Perl,Shell'],\n",
       " ['12076', 'syam', 'ITA', '09-Aug-2012', 'CHN', 'Java,Python,JS'],\n",
       " ['662177', 'kumar', 'AST', '19-Nov-2012', 'PUN', 'UNIX,Python,JS'],\n",
       " ['302732', 'sravani', 'AST', '29-Oct-2011', 'MUM', 'SQL,Python,JS']]"
      ]
     },
     "execution_count": 143,
     "metadata": {},
     "output_type": "execute_result"
    }
   ],
   "source": [
    "emps=[emp.split(';') for emp in emps]\n",
    "emps"
   ]
  },
  {
   "cell_type": "markdown",
   "metadata": {},
   "source": [
    "##### Now..lets get the first row\n",
    "- best way is to use the pop method\n",
    "- default is last BUT we want first..so lets pass index 0"
   ]
  },
  {
   "cell_type": "code",
   "execution_count": 144,
   "metadata": {},
   "outputs": [
    {
     "data": {
      "text/plain": [
       "['Emp_ID', 'Emp_Name', 'Desg', 'DOJ', 'Work_Location', 'Skill_set']"
      ]
     },
     "execution_count": 144,
     "metadata": {},
     "output_type": "execute_result"
    }
   ],
   "source": [
    "header=emps.pop(0)\n",
    "header"
   ]
  },
  {
   "cell_type": "markdown",
   "metadata": {},
   "source": [
    "##### lets create dictionary now with zip method"
   ]
  },
  {
   "cell_type": "code",
   "execution_count": 145,
   "metadata": {},
   "outputs": [
    {
     "data": {
      "text/plain": [
       "[{'DOJ': '07-Mar-2013',\n",
       "  'Desg': 'ASE',\n",
       "  'Emp_ID': '13023',\n",
       "  'Emp_Name': 'Naveen',\n",
       "  'Skill_set': 'Python,Perl,Shell',\n",
       "  'Work_Location': 'HYD'},\n",
       " {'DOJ': '09-Aug-2012',\n",
       "  'Desg': 'ITA',\n",
       "  'Emp_ID': '12076',\n",
       "  'Emp_Name': 'syam',\n",
       "  'Skill_set': 'Java,Python,JS',\n",
       "  'Work_Location': 'CHN'},\n",
       " {'DOJ': '19-Nov-2012',\n",
       "  'Desg': 'AST',\n",
       "  'Emp_ID': '662177',\n",
       "  'Emp_Name': 'kumar',\n",
       "  'Skill_set': 'UNIX,Python,JS',\n",
       "  'Work_Location': 'PUN'},\n",
       " {'DOJ': '29-Oct-2011',\n",
       "  'Desg': 'AST',\n",
       "  'Emp_ID': '302732',\n",
       "  'Emp_Name': 'sravani',\n",
       "  'Skill_set': 'SQL,Python,JS',\n",
       "  'Work_Location': 'MUM'}]"
      ]
     },
     "execution_count": 145,
     "metadata": {},
     "output_type": "execute_result"
    }
   ],
   "source": [
    "emps=[dict(zip(header,emp)) for emp in emps]\n",
    "emps[:]"
   ]
  },
  {
   "cell_type": "markdown",
   "metadata": {},
   "source": [
    "#### 2.Write a script to filter the employees working in hyd"
   ]
  },
  {
   "cell_type": "code",
   "execution_count": 146,
   "metadata": {},
   "outputs": [
    {
     "data": {
      "text/plain": [
       "['Naveen']"
      ]
     },
     "execution_count": 146,
     "metadata": {},
     "output_type": "execute_result"
    }
   ],
   "source": [
    "hyd_emps=[emp['Emp_Name'] for emp in emps if emp['Work_Location']=='HYD']\n",
    "hyd_emps"
   ]
  },
  {
   "cell_type": "markdown",
   "metadata": {},
   "source": [
    "#### 3.Filter employees with python skillset"
   ]
  },
  {
   "cell_type": "code",
   "execution_count": 147,
   "metadata": {},
   "outputs": [
    {
     "data": {
      "text/plain": [
       "['Naveen', 'syam', 'kumar', 'sravani']"
      ]
     },
     "execution_count": 147,
     "metadata": {},
     "output_type": "execute_result"
    }
   ],
   "source": [
    "#import regular expressions\n",
    "import re\n",
    "pattern=re.compile(r'Python',re.IGNORECASE)\n",
    "orc_emp = [emp['Emp_Name'] for emp in emps if pattern.search(emp['Skill_set'])]\n",
    "orc_emp"
   ]
  },
  {
   "cell_type": "markdown",
   "metadata": {},
   "source": [
    "#### 4.Filter all AST and display in incresing order of their name "
   ]
  },
  {
   "cell_type": "code",
   "execution_count": 148,
   "metadata": {},
   "outputs": [
    {
     "data": {
      "text/plain": [
       "['kumar', 'sravani']"
      ]
     },
     "execution_count": 148,
     "metadata": {},
     "output_type": "execute_result"
    }
   ],
   "source": [
    "#you dont need any pattern matching here bcoz its straingt forward\n",
    "ase_emps=[emp['Emp_Name'] for emp in emps if emp['Desg']=='AST']\n",
    "sorted(ase_emps)"
   ]
  },
  {
   "cell_type": "markdown",
   "metadata": {},
   "source": [
    "##### or"
   ]
  },
  {
   "cell_type": "code",
   "execution_count": 149,
   "metadata": {},
   "outputs": [
    {
     "name": "stdout",
     "output_type": "stream",
     "text": [
      "['kumar', 'sravani']\n"
     ]
    }
   ],
   "source": [
    "    ase_emps=[emp for emp in emps if emp['Desg']=='AST']\n",
    "    ase_emps=sorted(ase_emps,key= lambda k: k['Emp_Name'] )#\n",
    "    print([emp['Emp_Name'] for emp in ase_emps])"
   ]
  },
  {
   "cell_type": "markdown",
   "metadata": {},
   "source": [
    "#### 5.sort all employees in increasing order of their designation"
   ]
  },
  {
   "cell_type": "code",
   "execution_count": 150,
   "metadata": {},
   "outputs": [
    {
     "data": {
      "text/plain": [
       "[{'DOJ': '07-Mar-2013',\n",
       "  'Desg': 'ASE',\n",
       "  'Emp_ID': '13023',\n",
       "  'Emp_Name': 'Naveen',\n",
       "  'Skill_set': 'Python,Perl,Shell',\n",
       "  'Work_Location': 'HYD'},\n",
       " {'DOJ': '09-Aug-2012',\n",
       "  'Desg': 'ITA',\n",
       "  'Emp_ID': '12076',\n",
       "  'Emp_Name': 'syam',\n",
       "  'Skill_set': 'Java,Python,JS',\n",
       "  'Work_Location': 'CHN'},\n",
       " {'DOJ': '19-Nov-2012',\n",
       "  'Desg': 'AST',\n",
       "  'Emp_ID': '662177',\n",
       "  'Emp_Name': 'kumar',\n",
       "  'Skill_set': 'UNIX,Python,JS',\n",
       "  'Work_Location': 'PUN'},\n",
       " {'DOJ': '29-Oct-2011',\n",
       "  'Desg': 'AST',\n",
       "  'Emp_ID': '302732',\n",
       "  'Emp_Name': 'sravani',\n",
       "  'Skill_set': 'SQL,Python,JS',\n",
       "  'Work_Location': 'MUM'}]"
      ]
     },
     "execution_count": 150,
     "metadata": {},
     "output_type": "execute_result"
    }
   ],
   "source": [
    "order={'ASE':1,'ITA':2,'AST':3}\n",
    "sorted_emps=sorted(emps,key=lambda k:order[k['Desg']])\n",
    "sorted_emps"
   ]
  },
  {
   "cell_type": "markdown",
   "metadata": {},
   "source": [
    "In above, if we dont define customized ORDER..we get ASE followed BY AST and then ITA\n",
    "WHICH IS wrong\n",
    "That is why we defined customized ORDER"
   ]
  },
  {
   "cell_type": "markdown",
   "metadata": {},
   "source": [
    "#### 6.Filter all AST's and write details to another file"
   ]
  },
  {
   "cell_type": "code",
   "execution_count": 151,
   "metadata": {},
   "outputs": [
    {
     "data": {
      "text/plain": [
       "[{'DOJ': '19-Nov-2012',\n",
       "  'Desg': 'AST',\n",
       "  'Emp_ID': '662177',\n",
       "  'Emp_Name': 'kumar',\n",
       "  'Skill_set': 'UNIX,Python,JS',\n",
       "  'Work_Location': 'PUN'},\n",
       " {'DOJ': '29-Oct-2011',\n",
       "  'Desg': 'AST',\n",
       "  'Emp_ID': '302732',\n",
       "  'Emp_Name': 'sravani',\n",
       "  'Skill_set': 'SQL,Python,JS',\n",
       "  'Work_Location': 'MUM'}]"
      ]
     },
     "execution_count": 151,
     "metadata": {},
     "output_type": "execute_result"
    }
   ],
   "source": [
    "#lets get all ita emps\n",
    "ast_emp=[emp for emp in emps if emp['Desg']=='AST']\n",
    "ast_emp"
   ]
  },
  {
   "cell_type": "markdown",
   "metadata": {},
   "source": [
    "##### prepare the output file"
   ]
  },
  {
   "cell_type": "code",
   "execution_count": 168,
   "metadata": {},
   "outputs": [],
   "source": [
    "ofp=open(r'/Users/syamkumarj/Documents/Workspace/python_anaconda_workspace/tempout.txt', 'w')   # opening"
   ]
  },
  {
   "cell_type": "markdown",
   "metadata": {},
   "source": [
    "##### create the header from dictionary"
   ]
  },
  {
   "cell_type": "code",
   "execution_count": 169,
   "metadata": {},
   "outputs": [
    {
     "name": "stdout",
     "output_type": "stream",
     "text": [
      "dict_keys(['Emp_ID', 'Emp_Name', 'Desg', 'DOJ', 'Work_Location', 'Skill_set'])\n"
     ]
    }
   ],
   "source": [
    "#prepare the data\n",
    "#get the header ie keys\n",
    "keys_header=ast_emp[0].keys()\n",
    "for header in keys_header:\n",
    "    ofp.write(header+'\\t')\n",
    "ofp.write('\\n')\n",
    "print(keys_header)"
   ]
  },
  {
   "cell_type": "markdown",
   "metadata": {},
   "source": [
    "##### write the data"
   ]
  },
  {
   "cell_type": "code",
   "execution_count": 170,
   "metadata": {},
   "outputs": [
    {
     "data": {
      "text/plain": [
       "<function TextIOWrapper.close>"
      ]
     },
     "execution_count": 170,
     "metadata": {},
     "output_type": "execute_result"
    }
   ],
   "source": [
    "for emp in ast_emp:\n",
    "    for key in keys_header:\n",
    "        ofp.write(emp[key]+'\\t')\n",
    "    ofp.write('\\n')\n",
    "ofp.close"
   ]
  },
  {
   "cell_type": "code",
   "execution_count": 172,
   "metadata": {},
   "outputs": [
    {
     "data": {
      "text/plain": [
       "''"
      ]
     },
     "execution_count": 172,
     "metadata": {},
     "output_type": "execute_result"
    }
   ],
   "source": [
    "#read\n",
    "fp1 = open(r'/Users/syamkumarj/Documents/Workspace/python_anaconda_workspace/tempout.txt', 'r')   # opening\n",
    "cont=fp1.read()\n",
    "cont"
   ]
  },
  {
   "cell_type": "code",
   "execution_count": 173,
   "metadata": {},
   "outputs": [],
   "source": [
    "import io"
   ]
  },
  {
   "cell_type": "code",
   "execution_count": 175,
   "metadata": {},
   "outputs": [],
   "source": [
    "fp=io.StringIO('hello')"
   ]
  },
  {
   "cell_type": "code",
   "execution_count": 177,
   "metadata": {},
   "outputs": [],
   "source": [
    "#     fp=io.StringIO(zenPython)\n",
    "#     return fp"
   ]
  },
  {
   "cell_type": "code",
   "execution_count": 199,
   "metadata": {},
   "outputs": [],
   "source": [
    "    zenPython = '''\n",
    "    The Zen of Python, by Tim Peters\n",
    "    \n",
    "    Beautiful is better than ugly.\n",
    "    Explicit is better than implicit.\n",
    "    Simple is better than complex.\n",
    "    Complex is better than complicated.\n",
    "    Flat is better than nested.\n",
    "    Sparse is better than dense.\n",
    "    Readability counts.\n",
    "    Special cases aren't special enough to break the rules.\n",
    "    Although practicality beats purity.\n",
    "    Errors should never pass silently.\n",
    "    Unless explicitly silenced.\n",
    "    In the face of ambiguity, refuse the temptation to guess.\n",
    "    There should be one-- and preferably only one --obvious way to do it.\n",
    "    Although that way may not be obvious at first unless you're Dutch.\n",
    "    Now is better than never.\n",
    "    Although never is often better than *right* now.\n",
    "    If the implementation is hard to explain, it's a bad idea.\n",
    "    If the implementation is easy to explain, it may be a good idea.\n",
    "    Namespaces are one honking great idea -- let's do more of those!\n",
    "    '''"
   ]
  },
  {
   "cell_type": "code",
   "execution_count": 200,
   "metadata": {},
   "outputs": [],
   "source": [
    "fp = io.StringIO(zenPython)"
   ]
  },
  {
   "cell_type": "code",
   "execution_count": 197,
   "metadata": {},
   "outputs": [
    {
     "data": {
      "text/plain": [
       "['\\n',\n",
       " 'The Zen of Python, by Tim Peters\\n',\n",
       " '\\n',\n",
       " 'Beautiful is better than ugly.\\n',\n",
       " 'Explicit is better than implicit.\\n']"
      ]
     },
     "execution_count": 197,
     "metadata": {},
     "output_type": "execute_result"
    }
   ],
   "source": [
    "5line= fp.readlines()[0:5]\n",
    "5line"
   ]
  },
  {
   "cell_type": "code",
   "execution_count": 201,
   "metadata": {},
   "outputs": [
    {
     "data": {
      "text/plain": [
       "['\\n',\n",
       " 'The Zen of Python, by Tim Peters\\n',\n",
       " '\\n',\n",
       " 'Beautiful is better than ugly.\\n',\n",
       " 'Explicit is better than implicit.\\n',\n",
       " 'Simple is better than complex.\\n',\n",
       " 'Complex is better than complicated.\\n',\n",
       " 'Flat is better than nested.\\n',\n",
       " 'Sparse is better than dense.\\n',\n",
       " 'Readability counts.\\n',\n",
       " \"Special cases aren't special enough to break the rules.\\n\",\n",
       " 'Although practicality beats purity.\\n',\n",
       " 'Errors should never pass silently.\\n',\n",
       " 'Unless explicitly silenced.\\n',\n",
       " 'In the face of ambiguity, refuse the temptation to guess.\\n',\n",
       " 'There should be one-- and preferably only one --obvious way to do it.\\n',\n",
       " \"Although that way may not be obvious at first unless you're Dutch.\\n\",\n",
       " 'Now is better than never.\\n',\n",
       " 'Although never is often better than *right* now.\\n',\n",
       " \"If the implementation is hard to explain, it's a bad idea.\\n\",\n",
       " 'If the implementation is easy to explain, it may be a good idea.\\n',\n",
       " \"Namespaces are one honking great idea -- let's do more of those!\\n\"]"
      ]
     },
     "execution_count": 201,
     "metadata": {},
     "output_type": "execute_result"
    }
   ],
   "source": [
    "allLines=fp.readlines()\n",
    "allLines"
   ]
  },
  {
   "cell_type": "code",
   "execution_count": 203,
   "metadata": {},
   "outputs": [
    {
     "data": {
      "text/plain": [
       "['',\n",
       " 'The Zen of Python, by Tim Peters',\n",
       " '',\n",
       " 'Beautiful is better than ugly.',\n",
       " 'Explicit is better than implicit.',\n",
       " 'Simple is better than complex.',\n",
       " 'Complex is better than complicated.',\n",
       " 'Flat is better than nested.',\n",
       " 'Sparse is better than dense.',\n",
       " 'Readability counts.',\n",
       " \"Special cases aren't special enough to break the rules.\",\n",
       " 'Although practicality beats purity.',\n",
       " 'Errors should never pass silently.',\n",
       " 'Unless explicitly silenced.',\n",
       " 'In the face of ambiguity, refuse the temptation to guess.',\n",
       " 'There should be one-- and preferably only one --obvious way to do it.',\n",
       " \"Although that way may not be obvious at first unless you're Dutch.\",\n",
       " 'Now is better than never.',\n",
       " 'Although never is often better than *right* now.',\n",
       " \"If the implementation is hard to explain, it's a bad idea.\",\n",
       " 'If the implementation is easy to explain, it may be a good idea.',\n",
       " \"Namespaces are one honking great idea -- let's do more of those!\"]"
      ]
     },
     "execution_count": 203,
     "metadata": {},
     "output_type": "execute_result"
    }
   ],
   "source": [
    "    fp = io.StringIO(zenPython)\n",
    "    \n",
    "    zenlines = fp.readlines()\n",
    "    \n",
    "    #Add implementation step here\n",
    "    zenlines = [line.strip('\\n') for line in zenlines]\n",
    "    return zenlines"
   ]
  },
  {
   "cell_type": "code",
   "execution_count": 212,
   "metadata": {},
   "outputs": [
    {
     "name": "stdout",
     "output_type": "stream",
     "text": [
      "\n",
      "The Zen of Python, by Tim Peters\n",
      "\n",
      "Beautiful is better than ugly.\n",
      "Explicit is better than implicit.\n",
      "Simple is better than complex.\n",
      "Complex is better than complicated.\n",
      "Flat is better than nested.\n",
      "Sparse is better than dense.\n",
      "Readability counts.\n",
      "Special cases aren't special enough to break the rules.\n",
      "Although practicality beats purity.\n",
      "Errors should never pass silently.\n",
      "Unless explicitly silenced.\n",
      "In the face of ambiguity, refuse the temptation to guess.\n",
      "There should be one-- and preferably only one --obvious way to do it.\n",
      "Although that way may not be obvious at first unless you're Dutch.\n",
      "Now is better than never.\n",
      "Although never is often better than *right* now.\n",
      "If the implementation is hard to explain, it's a bad idea.\n",
      "If the implementation is easy to explain, it may be a good idea.\n",
      "Namespaces are one honking great idea -- let's do more of those!\n",
      "\n"
     ]
    },
    {
     "data": {
      "text/plain": [
       "[]"
      ]
     },
     "execution_count": 212,
     "metadata": {},
     "output_type": "execute_result"
    }
   ],
   "source": [
    "zenPython = '''\n",
    "    The Zen of Python, by Tim Peters\n",
    "    \n",
    "    Beautiful is better than ugly.\n",
    "    Explicit is better than implicit.\n",
    "    Simple is better than complex.\n",
    "    Complex is better than complicated.\n",
    "    Flat is better than nested.\n",
    "    Sparse is better than dense.\n",
    "    Readability counts.\n",
    "    Special cases aren't special enough to break the rules.\n",
    "    Although practicality beats purity.\n",
    "    Errors should never pass silently.\n",
    "    Unless explicitly silenced.\n",
    "    In the face of ambiguity, refuse the temptation to guess.\n",
    "    There should be one-- and preferably only one --obvious way to do it.\n",
    "    Although that way may not be obvious at first unless you're Dutch.\n",
    "    Now is better than never.\n",
    "    Although never is often better than *right* now.\n",
    "    If the implementation is hard to explain, it's a bad idea.\n",
    "    If the implementation is easy to explain, it may be a good idea.\n",
    "    Namespaces are one honking great idea -- let's do more of those!\n",
    "    '''\n",
    "    \n",
    "fp = io.StringIO(zenPython)\n",
    "    \n",
    "zenlines = fp.readlines()\n",
    "    \n",
    "zenlines = [ line.strip() for line in zenlines ]\n",
    "    \n",
    "    #Add implementation here to set and match patterns\n",
    "for x in zenlines:\n",
    "    print(x)\n",
    "    m = re.findall(r'\\*\\w+', x)\n",
    "m"
   ]
  },
  {
   "cell_type": "code",
   "execution_count": 8,
   "metadata": {},
   "outputs": [],
   "source": [
    "import re\n",
    "s='Although never is often better than *right* now'\n",
    "# m = re.findall(r'\\*\\w+', s)\n",
    "# m"
   ]
  },
  {
   "cell_type": "code",
   "execution_count": 9,
   "metadata": {},
   "outputs": [
    {
     "ename": "error",
     "evalue": "multiple repeat at position 9",
     "output_type": "error",
     "traceback": [
      "\u001b[0;31m---------------------------------------------------------------------------\u001b[0m",
      "\u001b[0;31merror\u001b[0m                                     Traceback (most recent call last)",
      "\u001b[0;32m<ipython-input-9-0e3398d02921>\u001b[0m in \u001b[0;36m<module>\u001b[0;34m()\u001b[0m\n\u001b[1;32m      3\u001b[0m \u001b[0;34m\u001b[0m\u001b[0m\n\u001b[1;32m      4\u001b[0m ]:\n\u001b[0;32m----> 5\u001b[0;31m     \u001b[0mregex\u001b[0m\u001b[0;34m=\u001b[0m\u001b[0mre\u001b[0m\u001b[0;34m.\u001b[0m\u001b[0mcompile\u001b[0m\u001b[0;34m(\u001b[0m\u001b[0mpattern\u001b[0m\u001b[0;34m)\u001b[0m\u001b[0;34m\u001b[0m\u001b[0m\n\u001b[0m\u001b[1;32m      6\u001b[0m     \u001b[0mmatch\u001b[0m\u001b[0;34m=\u001b[0m\u001b[0mregex\u001b[0m\u001b[0;34m.\u001b[0m\u001b[0msearch\u001b[0m\u001b[0;34m(\u001b[0m\u001b[0ms\u001b[0m\u001b[0;34m)\u001b[0m\u001b[0;34m\u001b[0m\u001b[0m\n\u001b[1;32m      7\u001b[0m     \u001b[0mprint\u001b[0m\u001b[0;34m(\u001b[0m\u001b[0mmatch\u001b[0m\u001b[0;34m)\u001b[0m\u001b[0;34m\u001b[0m\u001b[0m\n",
      "\u001b[0;32m/anaconda3/lib/python3.6/re.py\u001b[0m in \u001b[0;36mcompile\u001b[0;34m(pattern, flags)\u001b[0m\n\u001b[1;32m    231\u001b[0m \u001b[0;32mdef\u001b[0m \u001b[0mcompile\u001b[0m\u001b[0;34m(\u001b[0m\u001b[0mpattern\u001b[0m\u001b[0;34m,\u001b[0m \u001b[0mflags\u001b[0m\u001b[0;34m=\u001b[0m\u001b[0;36m0\u001b[0m\u001b[0;34m)\u001b[0m\u001b[0;34m:\u001b[0m\u001b[0;34m\u001b[0m\u001b[0m\n\u001b[1;32m    232\u001b[0m     \u001b[0;34m\"Compile a regular expression pattern, returning a pattern object.\"\u001b[0m\u001b[0;34m\u001b[0m\u001b[0m\n\u001b[0;32m--> 233\u001b[0;31m     \u001b[0;32mreturn\u001b[0m \u001b[0m_compile\u001b[0m\u001b[0;34m(\u001b[0m\u001b[0mpattern\u001b[0m\u001b[0;34m,\u001b[0m \u001b[0mflags\u001b[0m\u001b[0;34m)\u001b[0m\u001b[0;34m\u001b[0m\u001b[0m\n\u001b[0m\u001b[1;32m    234\u001b[0m \u001b[0;34m\u001b[0m\u001b[0m\n\u001b[1;32m    235\u001b[0m \u001b[0;32mdef\u001b[0m \u001b[0mpurge\u001b[0m\u001b[0;34m(\u001b[0m\u001b[0;34m)\u001b[0m\u001b[0;34m:\u001b[0m\u001b[0;34m\u001b[0m\u001b[0m\n",
      "\u001b[0;32m/anaconda3/lib/python3.6/re.py\u001b[0m in \u001b[0;36m_compile\u001b[0;34m(pattern, flags)\u001b[0m\n\u001b[1;32m    299\u001b[0m     \u001b[0;32mif\u001b[0m \u001b[0;32mnot\u001b[0m \u001b[0msre_compile\u001b[0m\u001b[0;34m.\u001b[0m\u001b[0misstring\u001b[0m\u001b[0;34m(\u001b[0m\u001b[0mpattern\u001b[0m\u001b[0;34m)\u001b[0m\u001b[0;34m:\u001b[0m\u001b[0;34m\u001b[0m\u001b[0m\n\u001b[1;32m    300\u001b[0m         \u001b[0;32mraise\u001b[0m \u001b[0mTypeError\u001b[0m\u001b[0;34m(\u001b[0m\u001b[0;34m\"first argument must be string or compiled pattern\"\u001b[0m\u001b[0;34m)\u001b[0m\u001b[0;34m\u001b[0m\u001b[0m\n\u001b[0;32m--> 301\u001b[0;31m     \u001b[0mp\u001b[0m \u001b[0;34m=\u001b[0m \u001b[0msre_compile\u001b[0m\u001b[0;34m.\u001b[0m\u001b[0mcompile\u001b[0m\u001b[0;34m(\u001b[0m\u001b[0mpattern\u001b[0m\u001b[0;34m,\u001b[0m \u001b[0mflags\u001b[0m\u001b[0;34m)\u001b[0m\u001b[0;34m\u001b[0m\u001b[0m\n\u001b[0m\u001b[1;32m    302\u001b[0m     \u001b[0;32mif\u001b[0m \u001b[0;32mnot\u001b[0m \u001b[0;34m(\u001b[0m\u001b[0mflags\u001b[0m \u001b[0;34m&\u001b[0m \u001b[0mDEBUG\u001b[0m\u001b[0;34m)\u001b[0m\u001b[0;34m:\u001b[0m\u001b[0;34m\u001b[0m\u001b[0m\n\u001b[1;32m    303\u001b[0m         \u001b[0;32mif\u001b[0m \u001b[0mlen\u001b[0m\u001b[0;34m(\u001b[0m\u001b[0m_cache\u001b[0m\u001b[0;34m)\u001b[0m \u001b[0;34m>=\u001b[0m \u001b[0m_MAXCACHE\u001b[0m\u001b[0;34m:\u001b[0m\u001b[0;34m\u001b[0m\u001b[0m\n",
      "\u001b[0;32m/anaconda3/lib/python3.6/sre_compile.py\u001b[0m in \u001b[0;36mcompile\u001b[0;34m(p, flags)\u001b[0m\n\u001b[1;32m    560\u001b[0m     \u001b[0;32mif\u001b[0m \u001b[0misstring\u001b[0m\u001b[0;34m(\u001b[0m\u001b[0mp\u001b[0m\u001b[0;34m)\u001b[0m\u001b[0;34m:\u001b[0m\u001b[0;34m\u001b[0m\u001b[0m\n\u001b[1;32m    561\u001b[0m         \u001b[0mpattern\u001b[0m \u001b[0;34m=\u001b[0m \u001b[0mp\u001b[0m\u001b[0;34m\u001b[0m\u001b[0m\n\u001b[0;32m--> 562\u001b[0;31m         \u001b[0mp\u001b[0m \u001b[0;34m=\u001b[0m \u001b[0msre_parse\u001b[0m\u001b[0;34m.\u001b[0m\u001b[0mparse\u001b[0m\u001b[0;34m(\u001b[0m\u001b[0mp\u001b[0m\u001b[0;34m,\u001b[0m \u001b[0mflags\u001b[0m\u001b[0;34m)\u001b[0m\u001b[0;34m\u001b[0m\u001b[0m\n\u001b[0m\u001b[1;32m    563\u001b[0m     \u001b[0;32melse\u001b[0m\u001b[0;34m:\u001b[0m\u001b[0;34m\u001b[0m\u001b[0m\n\u001b[1;32m    564\u001b[0m         \u001b[0mpattern\u001b[0m \u001b[0;34m=\u001b[0m \u001b[0;32mNone\u001b[0m\u001b[0;34m\u001b[0m\u001b[0m\n",
      "\u001b[0;32m/anaconda3/lib/python3.6/sre_parse.py\u001b[0m in \u001b[0;36mparse\u001b[0;34m(str, flags, pattern)\u001b[0m\n\u001b[1;32m    853\u001b[0m \u001b[0;34m\u001b[0m\u001b[0m\n\u001b[1;32m    854\u001b[0m     \u001b[0;32mtry\u001b[0m\u001b[0;34m:\u001b[0m\u001b[0;34m\u001b[0m\u001b[0m\n\u001b[0;32m--> 855\u001b[0;31m         \u001b[0mp\u001b[0m \u001b[0;34m=\u001b[0m \u001b[0m_parse_sub\u001b[0m\u001b[0;34m(\u001b[0m\u001b[0msource\u001b[0m\u001b[0;34m,\u001b[0m \u001b[0mpattern\u001b[0m\u001b[0;34m,\u001b[0m \u001b[0mflags\u001b[0m \u001b[0;34m&\u001b[0m \u001b[0mSRE_FLAG_VERBOSE\u001b[0m\u001b[0;34m,\u001b[0m \u001b[0;36m0\u001b[0m\u001b[0;34m)\u001b[0m\u001b[0;34m\u001b[0m\u001b[0m\n\u001b[0m\u001b[1;32m    856\u001b[0m     \u001b[0;32mexcept\u001b[0m \u001b[0mVerbose\u001b[0m\u001b[0;34m:\u001b[0m\u001b[0;34m\u001b[0m\u001b[0m\n\u001b[1;32m    857\u001b[0m         \u001b[0;31m# the VERBOSE flag was switched on inside the pattern.  to be\u001b[0m\u001b[0;34m\u001b[0m\u001b[0;34m\u001b[0m\u001b[0m\n",
      "\u001b[0;32m/anaconda3/lib/python3.6/sre_parse.py\u001b[0m in \u001b[0;36m_parse_sub\u001b[0;34m(source, state, verbose, nested)\u001b[0m\n\u001b[1;32m    414\u001b[0m     \u001b[0;32mwhile\u001b[0m \u001b[0;32mTrue\u001b[0m\u001b[0;34m:\u001b[0m\u001b[0;34m\u001b[0m\u001b[0m\n\u001b[1;32m    415\u001b[0m         itemsappend(_parse(source, state, verbose, nested + 1,\n\u001b[0;32m--> 416\u001b[0;31m                            not nested and not items))\n\u001b[0m\u001b[1;32m    417\u001b[0m         \u001b[0;32mif\u001b[0m \u001b[0;32mnot\u001b[0m \u001b[0msourcematch\u001b[0m\u001b[0;34m(\u001b[0m\u001b[0;34m\"|\"\u001b[0m\u001b[0;34m)\u001b[0m\u001b[0;34m:\u001b[0m\u001b[0;34m\u001b[0m\u001b[0m\n\u001b[1;32m    418\u001b[0m             \u001b[0;32mbreak\u001b[0m\u001b[0;34m\u001b[0m\u001b[0m\n",
      "\u001b[0;32m/anaconda3/lib/python3.6/sre_parse.py\u001b[0m in \u001b[0;36m_parse\u001b[0;34m(source, state, verbose, nested, first)\u001b[0m\n\u001b[1;32m    763\u001b[0m                 sub_verbose = ((verbose or (add_flags & SRE_FLAG_VERBOSE)) and\n\u001b[1;32m    764\u001b[0m                                not (del_flags & SRE_FLAG_VERBOSE))\n\u001b[0;32m--> 765\u001b[0;31m                 \u001b[0mp\u001b[0m \u001b[0;34m=\u001b[0m \u001b[0m_parse_sub\u001b[0m\u001b[0;34m(\u001b[0m\u001b[0msource\u001b[0m\u001b[0;34m,\u001b[0m \u001b[0mstate\u001b[0m\u001b[0;34m,\u001b[0m \u001b[0msub_verbose\u001b[0m\u001b[0;34m,\u001b[0m \u001b[0mnested\u001b[0m \u001b[0;34m+\u001b[0m \u001b[0;36m1\u001b[0m\u001b[0;34m)\u001b[0m\u001b[0;34m\u001b[0m\u001b[0m\n\u001b[0m\u001b[1;32m    766\u001b[0m             \u001b[0;32mif\u001b[0m \u001b[0;32mnot\u001b[0m \u001b[0msource\u001b[0m\u001b[0;34m.\u001b[0m\u001b[0mmatch\u001b[0m\u001b[0;34m(\u001b[0m\u001b[0;34m\")\"\u001b[0m\u001b[0;34m)\u001b[0m\u001b[0;34m:\u001b[0m\u001b[0;34m\u001b[0m\u001b[0m\n\u001b[1;32m    767\u001b[0m                 raise source.error(\"missing ), unterminated subpattern\",\n",
      "\u001b[0;32m/anaconda3/lib/python3.6/sre_parse.py\u001b[0m in \u001b[0;36m_parse_sub\u001b[0;34m(source, state, verbose, nested)\u001b[0m\n\u001b[1;32m    414\u001b[0m     \u001b[0;32mwhile\u001b[0m \u001b[0;32mTrue\u001b[0m\u001b[0;34m:\u001b[0m\u001b[0;34m\u001b[0m\u001b[0m\n\u001b[1;32m    415\u001b[0m         itemsappend(_parse(source, state, verbose, nested + 1,\n\u001b[0;32m--> 416\u001b[0;31m                            not nested and not items))\n\u001b[0m\u001b[1;32m    417\u001b[0m         \u001b[0;32mif\u001b[0m \u001b[0;32mnot\u001b[0m \u001b[0msourcematch\u001b[0m\u001b[0;34m(\u001b[0m\u001b[0;34m\"|\"\u001b[0m\u001b[0;34m)\u001b[0m\u001b[0;34m:\u001b[0m\u001b[0;34m\u001b[0m\u001b[0m\n\u001b[1;32m    418\u001b[0m             \u001b[0;32mbreak\u001b[0m\u001b[0;34m\u001b[0m\u001b[0m\n",
      "\u001b[0;32m/anaconda3/lib/python3.6/sre_parse.py\u001b[0m in \u001b[0;36m_parse\u001b[0;34m(source, state, verbose, nested, first)\u001b[0m\n\u001b[1;32m    617\u001b[0m             \u001b[0;32mif\u001b[0m \u001b[0mitem\u001b[0m\u001b[0;34m[\u001b[0m\u001b[0;36m0\u001b[0m\u001b[0;34m]\u001b[0m\u001b[0;34m[\u001b[0m\u001b[0;36m0\u001b[0m\u001b[0;34m]\u001b[0m \u001b[0;32min\u001b[0m \u001b[0m_REPEATCODES\u001b[0m\u001b[0;34m:\u001b[0m\u001b[0;34m\u001b[0m\u001b[0m\n\u001b[1;32m    618\u001b[0m                 raise source.error(\"multiple repeat\",\n\u001b[0;32m--> 619\u001b[0;31m                                    source.tell() - here + len(this))\n\u001b[0m\u001b[1;32m    620\u001b[0m             \u001b[0;32mif\u001b[0m \u001b[0msourcematch\u001b[0m\u001b[0;34m(\u001b[0m\u001b[0;34m\"?\"\u001b[0m\u001b[0;34m)\u001b[0m\u001b[0;34m:\u001b[0m\u001b[0;34m\u001b[0m\u001b[0m\n\u001b[1;32m    621\u001b[0m                 \u001b[0msubpattern\u001b[0m\u001b[0;34m[\u001b[0m\u001b[0;34m-\u001b[0m\u001b[0;36m1\u001b[0m\u001b[0;34m]\u001b[0m \u001b[0;34m=\u001b[0m \u001b[0;34m(\u001b[0m\u001b[0mMIN_REPEAT\u001b[0m\u001b[0;34m,\u001b[0m \u001b[0;34m(\u001b[0m\u001b[0mmin\u001b[0m\u001b[0;34m,\u001b[0m \u001b[0mmax\u001b[0m\u001b[0;34m,\u001b[0m \u001b[0mitem\u001b[0m\u001b[0;34m)\u001b[0m\u001b[0;34m)\u001b[0m\u001b[0;34m\u001b[0m\u001b[0m\n",
      "\u001b[0;31merror\u001b[0m: multiple repeat at position 9"
     ]
    }
   ],
   "source": [
    "for pattern in [\n",
    "     r'\\*\\w+')+(r'(\\w+*)\\b'\n",
    "\n",
    "]:\n",
    "    regex=re.compile(pattern)\n",
    "    match=regex.search(s)\n",
    "    print(match)"
   ]
  },
  {
   "cell_type": "code",
   "execution_count": 230,
   "metadata": {},
   "outputs": [],
   "source": [
    "#2"
   ]
  },
  {
   "cell_type": "code",
   "execution_count": 231,
   "metadata": {},
   "outputs": [
    {
     "ename": "IndentationError",
     "evalue": "unexpected indent (<ipython-input-231-6f6b92374721>, line 2)",
     "output_type": "error",
     "traceback": [
      "\u001b[0;36m  File \u001b[0;32m\"<ipython-input-231-6f6b92374721>\"\u001b[0;36m, line \u001b[0;32m2\u001b[0m\n\u001b[0;31m    return fp\u001b[0m\n\u001b[0m    ^\u001b[0m\n\u001b[0;31mIndentationError\u001b[0m\u001b[0;31m:\u001b[0m unexpected indent\n"
     ]
    }
   ],
   "source": [
    "fp=io.StringIO(zenPython)\n",
    "    return fp\n",
    "\n",
    "#2 answer\n",
    "fp=io.StringIO(zenPython)\n",
    "    return isinstance(fp,io.StringIO) "
   ]
  },
  {
   "cell_type": "code",
   "execution_count": 232,
   "metadata": {},
   "outputs": [
    {
     "data": {
      "text/plain": [
       "3"
      ]
     },
     "execution_count": 232,
     "metadata": {},
     "output_type": "execute_result"
    }
   ],
   "source": [
    "3"
   ]
  },
  {
   "cell_type": "code",
   "execution_count": 233,
   "metadata": {},
   "outputs": [
    {
     "ename": "IndentationError",
     "evalue": "unexpected indent (<ipython-input-233-c02970552584>, line 2)",
     "output_type": "error",
     "traceback": [
      "\u001b[0;36m  File \u001b[0;32m\"<ipython-input-233-c02970552584>\"\u001b[0;36m, line \u001b[0;32m2\u001b[0m\n\u001b[0;31m    zenLines=fp.readlines()[0:5]\u001b[0m\n\u001b[0m    ^\u001b[0m\n\u001b[0;31mIndentationError\u001b[0m\u001b[0;31m:\u001b[0m unexpected indent\n"
     ]
    }
   ],
   "source": [
    " fp = io.StringIO(zenPython)\n",
    "    zenLines=fp.readlines()[0:5]\n",
    "    print(zenLines)\n",
    "#2\n",
    "    fp = io.StringIO(zenPython)\n",
    "    zenLines=fp.readlines()[0:5]\n",
    "    return zenLines"
   ]
  },
  {
   "cell_type": "code",
   "execution_count": 234,
   "metadata": {},
   "outputs": [
    {
     "data": {
      "text/plain": [
       "4"
      ]
     },
     "execution_count": 234,
     "metadata": {},
     "output_type": "execute_result"
    }
   ],
   "source": [
    "4"
   ]
  },
  {
   "cell_type": "code",
   "execution_count": 235,
   "metadata": {},
   "outputs": [
    {
     "ename": "IndentationError",
     "evalue": "unexpected indent (<ipython-input-235-aa7421f2f746>, line 3)",
     "output_type": "error",
     "traceback": [
      "\u001b[0;36m  File \u001b[0;32m\"<ipython-input-235-aa7421f2f746>\"\u001b[0;36m, line \u001b[0;32m3\u001b[0m\n\u001b[0;31m    zenlines = fp.readlines()\u001b[0m\n\u001b[0m    ^\u001b[0m\n\u001b[0;31mIndentationError\u001b[0m\u001b[0;31m:\u001b[0m unexpected indent\n"
     ]
    }
   ],
   "source": [
    " fp = io.StringIO(zenPython)\n",
    "    \n",
    "    zenlines = fp.readlines()\n",
    "    \n",
    "    #Add implementation step here\n",
    "    zenlines = [line.strip('\\n') for line in zenlines]\n",
    "    return zenlines"
   ]
  },
  {
   "cell_type": "code",
   "execution_count": null,
   "metadata": {},
   "outputs": [],
   "source": [
    "import sys\n",
    "import os\n",
    "import io\n",
    "import re\n",
    "zenPython = '''\n",
    "    The Zen of Python, by Tim Peters\n",
    "    \n",
    "    Beautiful is better than ugly.\n",
    "    Explicit is better than implicit.\n",
    "    Simple is better than complex.\n",
    "    Complex is better than complicated.\n",
    "    Flat is better than nested.\n",
    "    Sparse is better than dense.\n",
    "    Readability counts.\n",
    "    Special cases aren't special enough to break the rules.\n",
    "    Although practicality beats purity.\n",
    "    Errors should never pass silently.\n",
    "    Unless explicitly silenced.\n",
    "    In the face of ambiguity, refuse the temptation to guess.\n",
    "    There should be one-- and preferably only one --obvious way to do it.\n",
    "    Although that way may not be obvious at first unless you're Dutch.\n",
    "    Now is better than never.\n",
    "    Although never is often better than *right* now.\n",
    "    If the implementation is hard to explain, it's a bad idea.\n",
    "    If the implementation is easy to explain, it may be a good idea.\n",
    "    Namespaces are one honking great idea -- let's do more of those!\n",
    "    '''\n",
    "    \n",
    "fp = io.StringIO(zenPython)\n",
    "    \n",
    "zenlines = fp.readlines()\n",
    "    \n",
    "zenlines = [ line.strip('\\n') for line in zenlines ]\n",
    "portions=[]\n",
    "for pattern in [\n",
    "    r'\\--(.*?)\\--',\n",
    "    r'\\*(.*?)\\*'\n",
    "]:\n",
    "    regex=re.compile(pattern)\n",
    "    portions+=[m.group(1).strip() for l in zenlines for m in [regex.search(l)] if m]\n",
    "zenlines1"
   ]
  },
  {
   "cell_type": "code",
   "execution_count": 25,
   "metadata": {},
   "outputs": [],
   "source": [
    "import re\n",
    "s='Although never is often better than *right* now'\n"
   ]
  },
  {
   "cell_type": "code",
   "execution_count": 26,
   "metadata": {},
   "outputs": [
    {
     "data": {
      "text/plain": [
       "<_sre.SRE_Match object; span=(36, 42), match='*right'>"
      ]
     },
     "execution_count": 26,
     "metadata": {},
     "output_type": "execute_result"
    }
   ],
   "source": [
    "regex= r'(\\*\\w+)'\n",
    "match=re.search(regex,s)\n",
    "match"
   ]
  },
  {
   "cell_type": "code",
   "execution_count": 50,
   "metadata": {},
   "outputs": [
    {
     "name": "stdout",
     "output_type": "stream",
     "text": [
      "('This',)\n",
      "('punctuation',)\n",
      "('text', 'with')\n",
      "('text',)\n"
     ]
    }
   ],
   "source": [
    "text='This is some text -- with punctuation'\n",
    "for pattern in [\n",
    "     r'^(\\w+)', #word at the start of the string\n",
    "    r'(\\w+)\\S*$',#word at the start of the string with punctuation\n",
    "    r'(\\bt\\w+)\\W+(\\w+)',#word starting with t and the next\n",
    "    r'(\\w+t)\\b'#word ending with t\n",
    "]:\n",
    "    regex=re.compile(pattern)\n",
    "    match=regex.search(text)\n",
    "    print(match.groups())"
   ]
  },
  {
   "cell_type": "code",
   "execution_count": 69,
   "metadata": {},
   "outputs": [
    {
     "data": {
      "text/plain": [
       "' and preferably only one '"
      ]
     },
     "execution_count": 69,
     "metadata": {},
     "output_type": "execute_result"
    }
   ],
   "source": [
    "m='There should be one-- and preferably only one --obvious way to do it.'\n",
    "re.search(r'\\--(.*?)\\--', m).group(1)"
   ]
  },
  {
   "cell_type": "code",
   "execution_count": 70,
   "metadata": {},
   "outputs": [
    {
     "data": {
      "text/plain": [
       "'right'"
      ]
     },
     "execution_count": 70,
     "metadata": {},
     "output_type": "execute_result"
    }
   ],
   "source": [
    "m='Although never is often better than *right* now'\n",
    "re.search(r'\\*(.*?)\\*', s).group(1)"
   ]
  },
  {
   "cell_type": "markdown",
   "metadata": {},
   "source": [
    "##### --\\w+\n",
    "- meaning to lloks for word following --"
   ]
  },
  {
   "cell_type": "code",
   "execution_count": 168,
   "metadata": {},
   "outputs": [
    {
     "data": {
      "text/plain": [
       "['and preferably only one', 'right']"
      ]
     },
     "execution_count": 168,
     "metadata": {},
     "output_type": "execute_result"
    }
   ],
   "source": [
    "import sys\n",
    "import os\n",
    "import io\n",
    "import re\n",
    "zenPython = '''\n",
    "    The Zen of Python, by Tim Peters\n",
    "    \n",
    "    Beautiful is better than ugly.\n",
    "    Explicit is better than implicit.\n",
    "    Simple is better than complex.\n",
    "    Complex is better than complicated.\n",
    "    Flat is better than nested.\n",
    "    Sparse is better than dense.\n",
    "    Readability counts.\n",
    "    Special cases aren't special enough to break the rules.\n",
    "    Although practicality beats purity.\n",
    "    Errors should never pass silently.\n",
    "    Unless explicitly silenced.\n",
    "    In the face of ambiguity, refuse the temptation to guess.\n",
    "    There should be one-- and preferably only one --obvious way to do it.\n",
    "    Although that way may not be obvious at first unless you're Dutch.\n",
    "    Now is better than never.\n",
    "    Although never is often better than *right* now.\n",
    "    If the implementation is hard to explain, it's a bad idea.\n",
    "    If the implementation is easy to explain, it may be a good idea.\n",
    "    Namespaces are one honking great idea -- let's do more of those!\n",
    "    '''\n",
    "    \n",
    "fp = io.StringIO(zenPython)\n",
    "    \n",
    "zenlines = fp.readlines()\n",
    "    \n",
    "zenlines = [ line.strip('\\n') for line in zenlines ]\n",
    "portions=[]\n",
    "for pattern in [\n",
    "    r'\\--(.*?)\\--',\n",
    "    r'\\*(.*?)\\*'\n",
    "]:\n",
    "    regex=re.compile(pattern)\n",
    "    portions+=[m.group(1).strip() for l in zenlines for m in [regex.search(l)] if m]\n",
    "portions\n"
   ]
  },
  {
   "cell_type": "code",
   "execution_count": 136,
   "metadata": {},
   "outputs": [
    {
     "data": {
      "text/plain": [
       "['100 NORTH MAIN ROAD',\n",
       " '100 BROAD ROAD APT.',\n",
       " 'SAROJINI DEVI ROAD',\n",
       " 'BROAD AVENUE ROAD']"
      ]
     },
     "execution_count": 136,
     "metadata": {},
     "output_type": "execute_result"
    }
   ],
   "source": [
    "addr = ['100 NORTH MAIN ROAD',\n",
    "  '100 BROAD ROAD APT.',\n",
    "  'SAROJINI DEVI ROAD',\n",
    "  'BROAD AVENUE ROAD']\n",
    "addr"
   ]
  },
  {
   "cell_type": "markdown",
   "metadata": {},
   "source": [
    "##### and replace all road with rd\n",
    "Output should be\n",
    "['100 NORTH MAIN RD',\n",
    " '100 BROAD RD APT.',\n",
    " 'SAROJINI DEVI RD',\n",
    " 'BROAD AVENUE RD']"
   ]
  },
  {
   "cell_type": "code",
   "execution_count": 163,
   "metadata": {},
   "outputs": [
    {
     "data": {
      "text/plain": [
       "['BROAD AVENUE RD', 'BROAD AVENUE RD', 'BROAD AVENUE RD', 'BROAD AVENUE RD']"
      ]
     },
     "execution_count": 163,
     "metadata": {},
     "output_type": "execute_result"
    }
   ],
   "source": [
    "addr = ['100 NORTH MAIN ROAD',\n",
    "  '100 BROAD ROAD APT.',\n",
    "  'SAROJINI DEVI ROAD',\n",
    "  'BROAD AVENUE ROAD']\n",
    "new_address=[]\n",
    "for a in addr:\n",
    "    new_strng= re.sub(r'\\bROAD\\b', 'RD.', a) \n",
    "    new_address.append(strng_)\n",
    "new_address\n",
    "\n",
    "\n"
   ]
  },
  {
   "cell_type": "code",
   "execution_count": 173,
   "metadata": {},
   "outputs": [
    {
     "data": {
      "text/plain": [
       "['100 NORTH MAIN RD.',\n",
       " '100 BROAD RD. APT.',\n",
       " 'SAROJINI DEVI RD.',\n",
       " 'BROAD AVENUE RD.']"
      ]
     },
     "execution_count": 173,
     "metadata": {},
     "output_type": "execute_result"
    }
   ],
   "source": [
    "addr = ['100 NORTH MAIN ROAD',\n",
    "  '100 BROAD ROAD APT.',\n",
    "  'SAROJINI DEVI ROAD',\n",
    "  'BROAD AVENUE ROAD']\n",
    "new_address=[]\n",
    "\n",
    "def subst(pattern, replace_str, string):\n",
    "    new_string=re.sub(r'\\bROAD\\b', 'RD.', a)\n",
    "    return new_string\n",
    "\n",
    "pattern=r'\\bROAD\\b'\n",
    "for a in addr:\n",
    "    new_address.append(subst(pattern,'RD',a))\n",
    "    \n",
    "new_address\n",
    "    "
   ]
  },
  {
   "cell_type": "code",
   "execution_count": null,
   "metadata": {},
   "outputs": [],
   "source": []
  }
 ],
 "metadata": {
  "kernelspec": {
   "display_name": "Python 3",
   "language": "python",
   "name": "python3"
  },
  "language_info": {
   "codemirror_mode": {
    "name": "ipython",
    "version": 3
   },
   "file_extension": ".py",
   "mimetype": "text/x-python",
   "name": "python",
   "nbconvert_exporter": "python",
   "pygments_lexer": "ipython3",
   "version": "3.6.4"
  }
 },
 "nbformat": 4,
 "nbformat_minor": 2
}
