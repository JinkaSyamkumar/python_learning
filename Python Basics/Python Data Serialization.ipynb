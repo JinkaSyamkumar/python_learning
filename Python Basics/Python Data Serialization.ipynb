{
 "cells": [
  {
   "cell_type": "markdown",
   "metadata": {},
   "source": [
    "## Data serializationUsing Pickle"
   ]
  },
  {
   "cell_type": "code",
   "execution_count": 1,
   "metadata": {},
   "outputs": [],
   "source": [
    "import pickle"
   ]
  },
  {
   "cell_type": "code",
   "execution_count": 5,
   "metadata": {},
   "outputs": [],
   "source": [
    "data =[{'name':'syam','age':26,'desg':'ITA'},\n",
    "      {'name':'sravs','age':24,'desg':'SE'}] "
   ]
  },
  {
   "cell_type": "code",
   "execution_count": 6,
   "metadata": {},
   "outputs": [
    {
     "name": "stdout",
     "output_type": "stream",
     "text": [
      "Before pickling [{'name': 'syam', 'age': 26, 'desg': 'ITA'}, {'name': 'sravs', 'age': 24, 'desg': 'SE'}]\n"
     ]
    }
   ],
   "source": [
    "print('Before pickling',data)"
   ]
  },
  {
   "cell_type": "markdown",
   "metadata": {},
   "source": [
    "##### writing"
   ]
  },
  {
   "cell_type": "code",
   "execution_count": 7,
   "metadata": {},
   "outputs": [],
   "source": [
    "with open('records.pickle','wb') as fo:\n",
    "    pickle.dump(data,fo)"
   ]
  },
  {
   "cell_type": "markdown",
   "metadata": {},
   "source": [
    "##### reading"
   ]
  },
  {
   "cell_type": "code",
   "execution_count": 8,
   "metadata": {},
   "outputs": [],
   "source": [
    "with open('records.pickle','rb') as fo:\n",
    "    data_new=pickle.load(fo)"
   ]
  },
  {
   "cell_type": "code",
   "execution_count": 9,
   "metadata": {},
   "outputs": [
    {
     "name": "stdout",
     "output_type": "stream",
     "text": [
      "After pickling [{'name': 'syam', 'age': 26, 'desg': 'ITA'}, {'name': 'sravs', 'age': 24, 'desg': 'SE'}]\n"
     ]
    }
   ],
   "source": [
    "print('After pickling',data_new)"
   ]
  },
  {
   "cell_type": "code",
   "execution_count": 11,
   "metadata": {},
   "outputs": [
    {
     "name": "stdout",
     "output_type": "stream",
     "text": [
      "same ? False\n",
      "equal ?  True\n"
     ]
    }
   ],
   "source": [
    "print('same ?',data is data_new)\n",
    "print('equal ? ',data==data_new)"
   ]
  },
  {
   "cell_type": "markdown",
   "metadata": {},
   "source": [
    "## Data serialization Using JSON"
   ]
  },
  {
   "cell_type": "code",
   "execution_count": 12,
   "metadata": {},
   "outputs": [],
   "source": [
    "import json"
   ]
  },
  {
   "cell_type": "code",
   "execution_count": 13,
   "metadata": {},
   "outputs": [],
   "source": [
    "data =[{'name':'syam','age':26,'desg':'ITA'},\n",
    "      {'name':'sravs','age':24,'desg':'SE'}] "
   ]
  },
  {
   "cell_type": "code",
   "execution_count": 15,
   "metadata": {},
   "outputs": [
    {
     "name": "stdout",
     "output_type": "stream",
     "text": [
      "Before encoding [{'name': 'syam', 'age': 26, 'desg': 'ITA'}, {'name': 'sravs', 'age': 24, 'desg': 'SE'}]\n"
     ]
    }
   ],
   "source": [
    "print('Before encoding',data)"
   ]
  },
  {
   "cell_type": "markdown",
   "metadata": {},
   "source": [
    "##### writing"
   ]
  },
  {
   "cell_type": "code",
   "execution_count": 16,
   "metadata": {},
   "outputs": [],
   "source": [
    "with open('records.json','w') as fo:\n",
    "    json.dump(data,fo,indent=2)"
   ]
  },
  {
   "cell_type": "markdown",
   "metadata": {},
   "source": [
    "##### reading"
   ]
  },
  {
   "cell_type": "code",
   "execution_count": 18,
   "metadata": {},
   "outputs": [
    {
     "name": "stdout",
     "output_type": "stream",
     "text": [
      "after decoding [{'name': 'syam', 'age': 26, 'desg': 'ITA'}, {'name': 'sravs', 'age': 24, 'desg': 'SE'}]\n"
     ]
    }
   ],
   "source": [
    "with open('records.json') as fo:\n",
    "    data_new=json.load(fo)\n",
    "print('after decoding',data_new)"
   ]
  },
  {
   "cell_type": "code",
   "execution_count": 19,
   "metadata": {},
   "outputs": [
    {
     "name": "stdout",
     "output_type": "stream",
     "text": [
      "same ? False\n",
      "equal ?  True\n"
     ]
    }
   ],
   "source": [
    "print('same ?',data is data_new)\n",
    "print('equal ? ',data==data_new)"
   ]
  },
  {
   "cell_type": "code",
   "execution_count": null,
   "metadata": {},
   "outputs": [],
   "source": []
  }
 ],
 "metadata": {
  "kernelspec": {
   "display_name": "Python 3",
   "language": "python",
   "name": "python3"
  },
  "language_info": {
   "codemirror_mode": {
    "name": "ipython",
    "version": 3
   },
   "file_extension": ".py",
   "mimetype": "text/x-python",
   "name": "python",
   "nbconvert_exporter": "python",
   "pygments_lexer": "ipython3",
   "version": "3.6.4"
  }
 },
 "nbformat": 4,
 "nbformat_minor": 2
}
