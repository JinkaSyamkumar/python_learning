{
 "cells": [
  {
   "cell_type": "code",
   "execution_count": 1,
   "metadata": {},
   "outputs": [],
   "source": [
    "#executes suit of code for each statement"
   ]
  },
  {
   "cell_type": "code",
   "execution_count": 2,
   "metadata": {},
   "outputs": [
    {
     "name": "stdout",
     "output_type": "stream",
     "text": [
      "0\n",
      "1\n",
      "2\n",
      "3\n"
     ]
    }
   ],
   "source": [
    "for elem in range(4):\n",
    "    print(elem)"
   ]
  },
  {
   "cell_type": "code",
   "execution_count": 4,
   "metadata": {},
   "outputs": [
    {
     "name": "stdout",
     "output_type": "stream",
     "text": [
      "s t a r i n g \n"
     ]
    }
   ],
   "source": [
    "for char in 'staring':\n",
    "    print(char,end=' ')\n",
    "print() #print a new line..not required here..useful in terminal"
   ]
  },
  {
   "cell_type": "code",
   "execution_count": 5,
   "metadata": {},
   "outputs": [
    {
     "name": "stdout",
     "output_type": "stream",
     "text": [
      "1 3 5 "
     ]
    }
   ],
   "source": [
    "for tup in (1,3,5):\n",
    "    print(tup,end=' ')\n",
    "    "
   ]
  },
  {
   "cell_type": "code",
   "execution_count": 6,
   "metadata": {},
   "outputs": [
    {
     "name": "stdout",
     "output_type": "stream",
     "text": [
      "hey\n",
      "hi\n",
      "hello\n"
     ]
    }
   ],
   "source": [
    "for val in ['hey','hi','hello']:\n",
    "    print(val)"
   ]
  },
  {
   "cell_type": "code",
   "execution_count": 7,
   "metadata": {},
   "outputs": [
    {
     "name": "stdout",
     "output_type": "stream",
     "text": [
      "alpha 1\n"
     ]
    }
   ],
   "source": [
    "greek={'alpha':1,'beta':2}\n",
    "for key in greek:\n",
    "    if key=='beta':\n",
    "        continue\n",
    "    print(key,greek[key])"
   ]
  },
  {
   "cell_type": "code",
   "execution_count": 8,
   "metadata": {},
   "outputs": [
    {
     "name": "stdout",
     "output_type": "stream",
     "text": [
      "3 is prime\n",
      "4 = 2 * 2\n",
      "5 is prime\n",
      "5 is prime\n",
      "5 is prime\n",
      "6 = 2 * 3\n",
      "7 is prime\n",
      "7 is prime\n",
      "7 is prime\n",
      "7 is prime\n",
      "7 is prime\n",
      "8 = 2 * 4\n",
      "9 is prime\n",
      "9 = 3 * 3\n"
     ]
    }
   ],
   "source": [
    "for outer in range(2,10):\n",
    "    for inner in range(2,outer):\n",
    "        if not outer % inner:\n",
    "            print(outer,'=',inner,'*',int(outer/inner))\n",
    "            break\n",
    "        else:\n",
    "            print(outer,'is prime')"
   ]
  },
  {
   "cell_type": "code",
   "execution_count": null,
   "metadata": {},
   "outputs": [],
   "source": []
  }
 ],
 "metadata": {
  "kernelspec": {
   "display_name": "Python 3",
   "language": "python",
   "name": "python3"
  },
  "language_info": {
   "codemirror_mode": {
    "name": "ipython",
    "version": 3
   },
   "file_extension": ".py",
   "mimetype": "text/x-python",
   "name": "python",
   "nbconvert_exporter": "python",
   "pygments_lexer": "ipython3",
   "version": "3.6.4"
  }
 },
 "nbformat": 4,
 "nbformat_minor": 2
}
