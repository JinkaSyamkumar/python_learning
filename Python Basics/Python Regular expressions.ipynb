{
 "cells": [
  {
   "cell_type": "code",
   "execution_count": 5,
   "metadata": {},
   "outputs": [],
   "source": [
    "import re"
   ]
  },
  {
   "cell_type": "code",
   "execution_count": 7,
   "metadata": {},
   "outputs": [
    {
     "name": "stdout",
     "output_type": "stream",
     "text": [
      "Searching for \"this\" in \"does this text match the pattern\"\n",
      "found\n",
      "Searching for \"that\" in \"does this text match the pattern\"\n",
      "no match\n"
     ]
    }
   ],
   "source": [
    "patterns=['this','that']\n",
    "text='does this text match the pattern'\n",
    "\n",
    "for pattern in patterns:\n",
    "    print('Searching for \"{}\" in \"{}\"'.format(pattern,text))\n",
    "    if re.search(pattern,text):\n",
    "        print('found')\n",
    "    else:\n",
    "        print('no match')"
   ]
  },
  {
   "cell_type": "code",
   "execution_count": 8,
   "metadata": {},
   "outputs": [],
   "source": [
    "# The Match object returned by search( ) holds information about the nature of the match.It will have\n",
    "# Original input string\n",
    "# Regular expression being used\n",
    "# Location within the string where pattern occurs\n",
    "# The Match object returned by"
   ]
  },
  {
   "cell_type": "code",
   "execution_count": 11,
   "metadata": {},
   "outputs": [
    {
     "name": "stdout",
     "output_type": "stream",
     "text": [
      "Found \"this\" pattern, in \"does this text match the pattern\" from 5 to 9\n"
     ]
    }
   ],
   "source": [
    "patterns='this'\n",
    "text='does this text match the pattern'\n",
    "\n",
    "match = re.search(patterns,text)\n",
    "s=match.start()\n",
    "e=match.end()\n",
    "pt=match.re.pattern\n",
    "\n",
    "print('Found \"{}\" pattern, in \"{}\" from {} to {}'.format(pt,text,s,e))"
   ]
  },
  {
   "cell_type": "markdown",
   "metadata": {},
   "source": [
    "##### Compiling Expressions"
   ]
  },
  {
   "cell_type": "code",
   "execution_count": 12,
   "metadata": {},
   "outputs": [],
   "source": [
    "# In Python, it is more efficient to compile the patterns that are used frequently\n",
    "# The compile( ) function of a re module converts an expression string into a RegexObject\n",
    "# Once we have the regularEx Object… we can directly call the search method on it"
   ]
  },
  {
   "cell_type": "markdown",
   "metadata": {},
   "source": [
    "##### RegEx Object"
   ]
  },
  {
   "cell_type": "code",
   "execution_count": 15,
   "metadata": {},
   "outputs": [
    {
     "data": {
      "text/plain": [
       "[re.compile(r'this', re.UNICODE), re.compile(r'that', re.UNICODE)]"
      ]
     },
     "execution_count": 15,
     "metadata": {},
     "output_type": "execute_result"
    }
   ],
   "source": [
    "patterns=['this','that']\n",
    "text='Does this text match the pattern?'\n",
    "regexes=[re.compile(p) for p in patterns]\n",
    "regexes"
   ]
  },
  {
   "cell_type": "code",
   "execution_count": 16,
   "metadata": {},
   "outputs": [
    {
     "name": "stdout",
     "output_type": "stream",
     "text": [
      "Found\n",
      "not found\n"
     ]
    }
   ],
   "source": [
    "for regex in regexes:\n",
    "    if regex.search(text): #before re.search(pt,txt) NOW regex.search(text)\n",
    "        print('Found')\n",
    "    else:\n",
    "        print('not found')\n",
    "    "
   ]
  },
  {
   "cell_type": "markdown",
   "metadata": {},
   "source": [
    "##### Finding multiple matches \n",
    "- findall( ) method"
   ]
  },
  {
   "cell_type": "code",
   "execution_count": 22,
   "metadata": {},
   "outputs": [
    {
     "name": "stdout",
     "output_type": "stream",
     "text": [
      "found -  ab\n",
      "found -  ab\n",
      "found -  ab\n"
     ]
    }
   ],
   "source": [
    "pattern='ab'\n",
    "text='abbassabbbbabaaa'\n",
    "for match in re.findall(pattern,text):\n",
    "    print('found - ',match)"
   ]
  },
  {
   "cell_type": "markdown",
   "metadata": {},
   "source": [
    "##### Grouping matches"
   ]
  },
  {
   "cell_type": "code",
   "execution_count": 23,
   "metadata": {},
   "outputs": [],
   "source": [
    "# Adding groups to a pattern enables us to isolate parts of the matching text, expanding those capabilities to create a parse\n",
    "# Groups are defined by enclosing the patterns in ( )"
   ]
  },
  {
   "cell_type": "code",
   "execution_count": 31,
   "metadata": {},
   "outputs": [
    {
     "name": "stdout",
     "output_type": "stream",
     "text": [
      "('This',)\n",
      "('punctuation',)\n",
      "('text', 'with')\n",
      "('text',)\n"
     ]
    }
   ],
   "source": [
    "text='This is some text -- with punctuation'\n",
    "for pattern in [\n",
    "     r'^(\\w+)', #word at the start of the string\n",
    "    r'(\\w+)\\S*$',#word at the start of the string with punctuation\n",
    "    r'(\\bt\\w+)\\W+(\\w+)',#word starting ith t and the next\n",
    "    r'(\\w+t)\\b'#word ending with t\n",
    "]:\n",
    "    regex=re.compile(pattern)\n",
    "    match=regex.search(text)\n",
    "    print(match.groups())\n",
    "    \n",
    "    \n"
   ]
  },
  {
   "cell_type": "markdown",
   "metadata": {},
   "source": [
    "##### Naming Grouped matches\n",
    "\n",
    "- with \"?Pscriptlets\""
   ]
  },
  {
   "cell_type": "code",
   "execution_count": 34,
   "metadata": {},
   "outputs": [
    {
     "name": "stdout",
     "output_type": "stream",
     "text": [
      "Groups:  ('This',)\n",
      "Groups dict:  {'first_word': 'This'}\n",
      "Groups:  ('punctuation',)\n",
      "Groups dict:  {'end_word': 'punctuation'}\n",
      "Groups:  ('text', 'with')\n",
      "Groups dict:  {'t_word': 'text', 'other_word': 'with'}\n",
      "Groups:  ('text',)\n",
      "Groups dict:  {'ends_with_t': 'text'}\n"
     ]
    }
   ],
   "source": [
    "text='This is some text -- with punctuation'\n",
    "for pattern in [\n",
    "     r'^(?P<first_word>\\w+)', #word at the start of the string\n",
    "     r'(?P<end_word>\\w+)\\S*$',#word at the start of the string with punctuation\n",
    "     r'(?P<t_word>\\bt\\w+)\\W+(?P<other_word>\\w+)',#word starting ith t and the next\n",
    "     r'(?P<ends_with_t>\\w+t)\\b'#word ending with t\n",
    "]:\n",
    "    regex=re.compile(pattern)\n",
    "    match=regex.search(text)\n",
    "    print('Groups: ',match.groups())\n",
    "    print('Groups dict: ',match.groupdict())"
   ]
  },
  {
   "cell_type": "code",
   "execution_count": 35,
   "metadata": {},
   "outputs": [
    {
     "data": {
      "text/plain": [
       "['', 'bcd', 'fgh', 'j']"
      ]
     },
     "execution_count": 35,
     "metadata": {},
     "output_type": "execute_result"
    }
   ],
   "source": [
    "re.split(r'[aeiou]', 'abcdefghij')"
   ]
  },
  {
   "cell_type": "code",
   "execution_count": 36,
   "metadata": {},
   "outputs": [
    {
     "data": {
      "text/plain": [
       "<function re.match>"
      ]
     },
     "execution_count": 36,
     "metadata": {},
     "output_type": "execute_result"
    }
   ],
   "source": [
    "re.match"
   ]
  },
  {
   "cell_type": "code",
   "execution_count": 39,
   "metadata": {},
   "outputs": [
    {
     "ename": "ModuleNotFoundError",
     "evalue": "No module named 'StringIO'",
     "output_type": "error",
     "traceback": [
      "\u001b[0;31m---------------------------------------------------------------------------\u001b[0m",
      "\u001b[0;31mModuleNotFoundError\u001b[0m                       Traceback (most recent call last)",
      "\u001b[0;32m<ipython-input-39-3e4825b8299f>\u001b[0m in \u001b[0;36m<module>\u001b[0;34m()\u001b[0m\n\u001b[0;32m----> 1\u001b[0;31m \u001b[0;32mimport\u001b[0m \u001b[0mStringIO\u001b[0m\u001b[0;34m\u001b[0m\u001b[0m\n\u001b[0m",
      "\u001b[0;31mModuleNotFoundError\u001b[0m: No module named 'StringIO'"
     ]
    }
   ],
   "source": [
    "import StringIO"
   ]
  },
  {
   "cell_type": "code",
   "execution_count": null,
   "metadata": {},
   "outputs": [],
   "source": []
  }
 ],
 "metadata": {
  "kernelspec": {
   "display_name": "Python 3",
   "language": "python",
   "name": "python3"
  },
  "language_info": {
   "codemirror_mode": {
    "name": "ipython",
    "version": 3
   },
   "file_extension": ".py",
   "mimetype": "text/x-python",
   "name": "python",
   "nbconvert_exporter": "python",
   "pygments_lexer": "ipython3",
   "version": "3.6.4"
  }
 },
 "nbformat": 4,
 "nbformat_minor": 2
}
