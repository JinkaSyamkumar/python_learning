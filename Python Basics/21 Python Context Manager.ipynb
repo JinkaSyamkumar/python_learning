{
 "cells": [
  {
   "cell_type": "code",
   "execution_count": 1,
   "metadata": {},
   "outputs": [],
   "source": [
    "# A Context Manager allows a programmer to perform required \n",
    "#activities, automatically, while entering or exiting a Context.\n",
    "\n",
    "# Context can be any..it can be a file for example\n",
    "\n",
    "# For example, opening a file, doing few file operations, \n",
    "#and closing the file is managed using Context Manager as shown below"
   ]
  },
  {
   "cell_type": "code",
   "execution_count": 2,
   "metadata": {},
   "outputs": [],
   "source": [
    "# with open('sample.txt', 'w') as fp:\n",
    "\n",
    "#     content = fp.read()"
   ]
  },
  {
   "cell_type": "markdown",
   "metadata": {},
   "source": [
    "##### without"
   ]
  },
  {
   "cell_type": "code",
   "execution_count": 3,
   "metadata": {},
   "outputs": [],
   "source": [
    "import sqlite3\n",
    "\n",
    "try:\n",
    "    dbConnection = sqlite3.connect('TEST.db')\n",
    "    cursor = dbConnection.cursor()\n",
    "\n",
    "    '''\n",
    "\n",
    "    Few db operations\n",
    "\n",
    "    ...\n",
    "\n",
    "    '''\n",
    "\n",
    "except Exception:\n",
    "\n",
    "    print('No Connection.')\n",
    "\n",
    "finally:\n",
    "\n",
    "    dbConnection.close()\n"
   ]
  },
  {
   "cell_type": "markdown",
   "metadata": {},
   "source": [
    "### with WITH"
   ]
  },
  {
   "cell_type": "code",
   "execution_count": 4,
   "metadata": {},
   "outputs": [],
   "source": [
    "import sqlite3\n",
    "\n",
    "\n",
    "\n",
    "class DbConnect(object):\n",
    "    def __init__(self, dbname):\n",
    "        self.dbname = dbname\n",
    "\n",
    "    def __enter__(self):\n",
    "        self.dbConnection = sqlite3.connect(self.dbname)\n",
    "        return self.dbConnection\n",
    "\n",
    "    def __exit__(self, exc_type, exc_val, exc_tb):\n",
    "        self.dbConnection.close()\n",
    "\n",
    "with DbConnect('TEST.db') as db:\n",
    "    cursor = db.cursor()\n",
    "\n",
    "    '''\n",
    "\n",
    "    Few db operations\n",
    "\n",
    "    ...\n",
    "\n",
    "    '''\n"
   ]
  },
  {
   "cell_type": "code",
   "execution_count": 5,
   "metadata": {},
   "outputs": [
    {
     "name": "stdout",
     "output_type": "stream",
     "text": [
      "Entering Context\n",
      "In Context\n",
      "Exiting Context\n"
     ]
    }
   ],
   "source": [
    "from contextlib import contextmanager\n",
    "\n",
    "@contextmanager\n",
    "def context():\n",
    "    print('Entering Context')\n",
    "    yield \n",
    "    print(\"Exiting Context\")\n",
    "\n",
    "with context():\n",
    "    print('In Context')"
   ]
  },
  {
   "cell_type": "code",
   "execution_count": null,
   "metadata": {},
   "outputs": [],
   "source": [
    "#1\n",
    "from contextlib import contextmanager\n",
    "\n",
    "@contextmanager\n",
    "def writeTo(filename, input_text):\n",
    "    with open(filename,'w') as f:\n",
    "        f.write(input_text)"
   ]
  },
  {
   "cell_type": "code",
   "execution_count": null,
   "metadata": {},
   "outputs": [],
   "source": [
    "#2\n",
    "# Define 'writeTo' function below, such that \n",
    "# it writes input_text string to filename.\n",
    "from contextlib import contextmanager\n",
    "\n",
    "@contextmanager\n",
    "def writeTo(filename, input_text):\n",
    "    with open(filename,'w') as f:\n",
    "        f.write(input_text)\n",
    "    \n",
    "# Define the function 'archive' below, such that\n",
    "# it archives 'filename' into the 'zipfile'\n",
    "def archive(zfile, filename):\n",
    "    with zipfile.ZipFile(zfile,'w') as z:\n",
    "        z.write(filename)"
   ]
  },
  {
   "cell_type": "code",
   "execution_count": 6,
   "metadata": {},
   "outputs": [],
   "source": [
    "import subprocess"
   ]
  },
  {
   "cell_type": "code",
   "execution_count": null,
   "metadata": {},
   "outputs": [],
   "source": [
    "#3\n",
    "def run_process(cmd_args):\n",
    "    with subprocess.Popen(cmd_args, stdout=subprocess.PIPE) as proc:       \n",
    "        for line in proc.stdout:\n",
    "            return line"
   ]
  }
 ],
 "metadata": {
  "kernelspec": {
   "display_name": "Python 3",
   "language": "python",
   "name": "python3"
  },
  "language_info": {
   "codemirror_mode": {
    "name": "ipython",
    "version": 3
   },
   "file_extension": ".py",
   "mimetype": "text/x-python",
   "name": "python",
   "nbconvert_exporter": "python",
   "pygments_lexer": "ipython3",
   "version": "3.6.4"
  }
 },
 "nbformat": 4,
 "nbformat_minor": 2
}
