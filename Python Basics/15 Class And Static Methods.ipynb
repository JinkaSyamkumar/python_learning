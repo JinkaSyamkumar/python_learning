{
 "cells": [
  {
   "cell_type": "markdown",
   "metadata": {},
   "source": [
    "### Class Methods"
   ]
  },
  {
   "cell_type": "markdown",
   "metadata": {},
   "source": [
    "##### Here we can not access the function with class name...without passing object"
   ]
  },
  {
   "cell_type": "code",
   "execution_count": 3,
   "metadata": {},
   "outputs": [
    {
     "name": "stdout",
     "output_type": "stream",
     "text": [
      "4\n",
      "4\n",
      "4\n"
     ]
    },
    {
     "ename": "TypeError",
     "evalue": "getCirclesCount() missing 1 required positional argument: 'self'",
     "output_type": "error",
     "traceback": [
      "\u001b[0;31m---------------------------------------------------------------------------\u001b[0m",
      "\u001b[0;31mTypeError\u001b[0m                                 Traceback (most recent call last)",
      "\u001b[0;32m<ipython-input-3-3296b4778619>\u001b[0m in \u001b[0;36m<module>\u001b[0;34m()\u001b[0m\n\u001b[1;32m     18\u001b[0m \u001b[0mprint\u001b[0m\u001b[0;34m(\u001b[0m\u001b[0mc2\u001b[0m\u001b[0;34m.\u001b[0m\u001b[0mgetCirclesCount\u001b[0m\u001b[0;34m(\u001b[0m\u001b[0;34m)\u001b[0m\u001b[0;34m)\u001b[0m     \u001b[0;31m# -> 3\u001b[0m\u001b[0;34m\u001b[0m\u001b[0m\n\u001b[1;32m     19\u001b[0m \u001b[0mprint\u001b[0m\u001b[0;34m(\u001b[0m\u001b[0mCircle\u001b[0m\u001b[0;34m.\u001b[0m\u001b[0mgetCirclesCount\u001b[0m\u001b[0;34m(\u001b[0m\u001b[0mc3\u001b[0m\u001b[0;34m)\u001b[0m\u001b[0;34m)\u001b[0m \u001b[0;31m# -> 3\u001b[0m\u001b[0;34m\u001b[0m\u001b[0m\n\u001b[0;32m---> 20\u001b[0;31m \u001b[0mprint\u001b[0m\u001b[0;34m(\u001b[0m\u001b[0mCircle\u001b[0m\u001b[0;34m.\u001b[0m\u001b[0mgetCirclesCount\u001b[0m\u001b[0;34m(\u001b[0m\u001b[0;34m)\u001b[0m\u001b[0;34m)\u001b[0m \u001b[0;31m# -> TypeError\u001b[0m\u001b[0;34m\u001b[0m\u001b[0m\n\u001b[0m",
      "\u001b[0;31mTypeError\u001b[0m: getCirclesCount() missing 1 required positional argument: 'self'"
     ]
    }
   ],
   "source": [
    "#Example 1 -getCirclesCount, bound to an object of Circle class.\n",
    "class Circle(object):\n",
    "    no_of_circles = 0 #is a class variable\n",
    "\n",
    "    def __init__(self, radius):\n",
    "        self.__radius = radius\n",
    "        Circle.no_of_circles += 1\n",
    "\n",
    "    def getCirclesCount(self): #here it is bound to object\n",
    "        return Circle.no_of_circles\n",
    "\n",
    "c1 = Circle(3.5) #at this moment, class variable value is 1\n",
    "c2 = Circle(5.2) #at this moment, class variable value is 2\n",
    "c3 = Circle(4.8) #at this moment, class variable value is 3\n",
    "\n",
    "#since its a class variable, there will be only\n",
    "#one copy..unlike object varable where each is different\n",
    "\n",
    "print(c1.getCirclesCount())     # -> 3\n",
    "print(c2.getCirclesCount())     # -> 3\n",
    "\n",
    "#So can you call directly???? with just classname.classmethod?\n",
    "#no..you have to pass Object as like below\n",
    "print(Circle.getCirclesCount(c3)) # -> 3\n",
    "\n",
    "####to get Circle object count, you have to pass c3 object ..which does not make sense\n",
    "#as circle count belongs to other objects also\n",
    "\n",
    "\n",
    "#if you dont pass object and ACCESS DIRECTLY, you get error like below\n",
    "print(Circle.getCirclesCount()) # -> TypeError"
   ]
  },
  {
   "cell_type": "markdown",
   "metadata": {},
   "source": [
    "#### Class Method\n",
    "#same as below but below with @class method annotation, \n",
    "#it becomes class method instead of object method"
   ]
  },
  {
   "cell_type": "code",
   "execution_count": 11,
   "metadata": {},
   "outputs": [
    {
     "name": "stdout",
     "output_type": "stream",
     "text": [
      "3\n",
      "3\n",
      "3\n"
     ]
    }
   ],
   "source": [
    "class Circle(object):\n",
    "    no_of_circles = 0\n",
    "    \n",
    "    def __init__(self, radius):\n",
    "        self.__radius = radius\n",
    "        Circle.no_of_circles += 1\n",
    "\n",
    "    @classmethod\n",
    "    def getCirclesCount(self):\n",
    "        return Circle.no_of_circles\n",
    "\n",
    "\n",
    "c1 = Circle(3.5)\n",
    "c2 = Circle(5.2)\n",
    "c3 = Circle(4.8)\n",
    "\n",
    "#Just like Object method..we can access class method with\n",
    "#OBJECT also\n",
    "print(c1.getCirclesCount())     # -> 3\n",
    "print(c2.getCirclesCount())     # -> 3\n",
    "#ALONG iwth that we can access with Class also..\n",
    "#WITHOUT PASSING any OBJECT as PARAM\n",
    "print(Circle.getCirclesCount()) # -> 3"
   ]
  },
  {
   "cell_type": "markdown",
   "metadata": {},
   "source": [
    "### Static Method"
   ]
  },
  {
   "cell_type": "code",
   "execution_count": 12,
   "metadata": {},
   "outputs": [
    {
     "name": "stdout",
     "output_type": "stream",
     "text": [
      "47.7594\n",
      "100\n"
     ]
    }
   ],
   "source": [
    "#In this example, eventhough square function defined outside\n",
    "#we can access it inside of circle class\n",
    "#Here it is not packaged properly\n",
    "def square1(x):\n",
    "        return x**2\n",
    "\n",
    "class Circle(object):\n",
    "\n",
    "    def __init__(self, radius):\n",
    "        self.__radius = radius\n",
    "\n",
    "    def area(self):\n",
    "        return 3.14*square1(self.__radius)\n",
    "\n",
    "\n",
    "c1 = Circle(3.9)\n",
    "print(c1.area()) #we can use it inside object method of circle class also\n",
    "print(square1(10)) #We can aceess it Directly also\n"
   ]
  },
  {
   "cell_type": "markdown",
   "metadata": {},
   "source": [
    "##### Defining static method"
   ]
  },
  {
   "cell_type": "code",
   "execution_count": 18,
   "metadata": {},
   "outputs": [
    {
     "name": "stdout",
     "output_type": "stream",
     "text": [
      "47.7594\n"
     ]
    },
    {
     "ename": "NameError",
     "evalue": "name 'square3' is not defined",
     "output_type": "error",
     "traceback": [
      "\u001b[0;31m---------------------------------------------------------------------------\u001b[0m",
      "\u001b[0;31mNameError\u001b[0m                                 Traceback (most recent call last)",
      "\u001b[0;32m<ipython-input-18-bac6cd41312a>\u001b[0m in \u001b[0;36m<module>\u001b[0;34m()\u001b[0m\n\u001b[1;32m     16\u001b[0m \u001b[0mc2\u001b[0m \u001b[0;34m=\u001b[0m \u001b[0mCircle\u001b[0m\u001b[0;34m(\u001b[0m\u001b[0;36m3.9\u001b[0m\u001b[0;34m)\u001b[0m\u001b[0;34m\u001b[0m\u001b[0m\n\u001b[1;32m     17\u001b[0m \u001b[0mprint\u001b[0m\u001b[0;34m(\u001b[0m\u001b[0mc2\u001b[0m\u001b[0;34m.\u001b[0m\u001b[0marea\u001b[0m\u001b[0;34m(\u001b[0m\u001b[0;34m)\u001b[0m\u001b[0;34m)\u001b[0m\u001b[0;34m\u001b[0m\u001b[0m\n\u001b[0;32m---> 18\u001b[0;31m \u001b[0mprint\u001b[0m\u001b[0;34m(\u001b[0m\u001b[0msquare3\u001b[0m\u001b[0;34m(\u001b[0m\u001b[0;36m10\u001b[0m\u001b[0;34m)\u001b[0m\u001b[0;34m)\u001b[0m \u001b[0;31m# -> NameError\u001b[0m\u001b[0;34m\u001b[0m\u001b[0m\n\u001b[0m",
      "\u001b[0;31mNameError\u001b[0m: name 'square3' is not defined"
     ]
    }
   ],
   "source": [
    "#below you can only access , square within the class itself\n",
    "#you CAN NOT ACCESS IT outside the class directly  \n",
    "#but can be accessed with object or class\n",
    "class Circle(object):\n",
    "    def __init__(self, radius):\n",
    "        self.__radius = radius\n",
    "        \n",
    "    @staticmethod\n",
    "    def square3(x):\n",
    "        return x**2\n",
    "    \n",
    "    def area(self):\n",
    "        return 3.14*self.square3(self.__radius)\n",
    "\n",
    "\n",
    "c2 = Circle(3.9)\n",
    "print(c2.area())  \n",
    "print(square3(10)) # -> NameError"
   ]
  },
  {
   "cell_type": "markdown",
   "metadata": {},
   "source": [
    "##### However, it is possible to access the static method using Class or the Object as shown below."
   ]
  },
  {
   "cell_type": "code",
   "execution_count": 21,
   "metadata": {},
   "outputs": [
    {
     "name": "stdout",
     "output_type": "stream",
     "text": [
      "100\n",
      "100\n"
     ]
    }
   ],
   "source": [
    "print(Circle.square3(10)) # -> 100\n",
    "\n",
    "print(c2.square3(10))     # -> 100"
   ]
  },
  {
   "cell_type": "code",
   "execution_count": 22,
   "metadata": {},
   "outputs": [
    {
     "name": "stdout",
     "output_type": "stream",
     "text": [
      "In Class A, Method m1.\n"
     ]
    }
   ],
   "source": [
    "class A:\n",
    "\n",
    "    @classmethod\n",
    "    def m1(self):\n",
    "        print('In Class A, Class Method m1.')\n",
    "\n",
    "    def m1(self):\n",
    "        print('In Class A, Method m1.')\n",
    "\n",
    "a = A()\n",
    "\n",
    "a.m1()"
   ]
  },
  {
   "cell_type": "code",
   "execution_count": 23,
   "metadata": {},
   "outputs": [
    {
     "ename": "TypeError",
     "evalue": "'classmethod' object is not callable",
     "output_type": "error",
     "traceback": [
      "\u001b[0;31m---------------------------------------------------------------------------\u001b[0m",
      "\u001b[0;31mTypeError\u001b[0m                                 Traceback (most recent call last)",
      "\u001b[0;32m<ipython-input-23-67281bb618b6>\u001b[0m in \u001b[0;36m<module>\u001b[0;34m()\u001b[0m\n\u001b[1;32m      6\u001b[0m         \u001b[0mprint\u001b[0m\u001b[0;34m(\u001b[0m\u001b[0;34m'Hello'\u001b[0m\u001b[0;34m)\u001b[0m\u001b[0;34m\u001b[0m\u001b[0m\n\u001b[1;32m      7\u001b[0m \u001b[0;34m\u001b[0m\u001b[0m\n\u001b[0;32m----> 8\u001b[0;31m \u001b[0mA\u001b[0m\u001b[0;34m.\u001b[0m\u001b[0mm1\u001b[0m\u001b[0;34m(\u001b[0m\u001b[0;36m5\u001b[0m\u001b[0;34m)\u001b[0m\u001b[0;34m\u001b[0m\u001b[0m\n\u001b[0m",
      "\u001b[0;31mTypeError\u001b[0m: 'classmethod' object is not callable"
     ]
    }
   ],
   "source": [
    "class A:\n",
    "\n",
    "    @staticmethod\n",
    "    @classmethod\n",
    "    def m1(self):\n",
    "        print('Hello')\n",
    "\n",
    "A.m1(5)"
   ]
  },
  {
   "cell_type": "markdown",
   "metadata": {},
   "source": [
    "### special case 1"
   ]
  },
  {
   "cell_type": "code",
   "execution_count": 24,
   "metadata": {},
   "outputs": [
    {
     "name": "stdout",
     "output_type": "stream",
     "text": [
      "Class Method\n"
     ]
    }
   ],
   "source": [
    "class A:\n",
    "    @staticmethod\n",
    "    def m1(self):\n",
    "        print('Static Method')\n",
    "    @classmethod\n",
    "    def m1(self):\n",
    "        print('Class Method')\n",
    "\n",
    "A.m1()"
   ]
  },
  {
   "cell_type": "code",
   "execution_count": 25,
   "metadata": {},
   "outputs": [
    {
     "name": "stdout",
     "output_type": "stream",
     "text": [
      "21\n"
     ]
    }
   ],
   "source": [
    "def s1(x, y):\n",
    "    return x*y\n",
    "\n",
    "class A:\n",
    "\n",
    "    @staticmethod\n",
    "    def s1(x, y):\n",
    "        return x + y\n",
    "\n",
    "    def s2(self, x, y):\n",
    "        return s1(x, y)\n",
    "\n",
    "a = A()\n",
    "print(a.s2(3, 7))"
   ]
  },
  {
   "cell_type": "code",
   "execution_count": 26,
   "metadata": {},
   "outputs": [
    {
     "name": "stdout",
     "output_type": "stream",
     "text": [
      "In Class A, method getC.\n",
      "In Class A, method getC.\n"
     ]
    }
   ],
   "source": [
    "class A:\n",
    "\n",
    "    @classmethod\n",
    "    def getC(self):\n",
    "        print('In Class A, method getC.')\n",
    "\n",
    "class B(A):\n",
    "    pass\n",
    "\n",
    "b = B()\n",
    "B.getC()\n",
    "b.getC()"
   ]
  },
  {
   "cell_type": "markdown",
   "metadata": {},
   "source": [
    "## special case. 2"
   ]
  },
  {
   "cell_type": "code",
   "execution_count": 27,
   "metadata": {},
   "outputs": [
    {
     "ename": "TypeError",
     "evalue": "'classmethod' object is not callable",
     "output_type": "error",
     "traceback": [
      "\u001b[0;31m---------------------------------------------------------------------------\u001b[0m",
      "\u001b[0;31mTypeError\u001b[0m                                 Traceback (most recent call last)",
      "\u001b[0;32m<ipython-input-27-67281bb618b6>\u001b[0m in \u001b[0;36m<module>\u001b[0;34m()\u001b[0m\n\u001b[1;32m      6\u001b[0m         \u001b[0mprint\u001b[0m\u001b[0;34m(\u001b[0m\u001b[0;34m'Hello'\u001b[0m\u001b[0;34m)\u001b[0m\u001b[0;34m\u001b[0m\u001b[0m\n\u001b[1;32m      7\u001b[0m \u001b[0;34m\u001b[0m\u001b[0m\n\u001b[0;32m----> 8\u001b[0;31m \u001b[0mA\u001b[0m\u001b[0;34m.\u001b[0m\u001b[0mm1\u001b[0m\u001b[0;34m(\u001b[0m\u001b[0;36m5\u001b[0m\u001b[0;34m)\u001b[0m\u001b[0;34m\u001b[0m\u001b[0m\n\u001b[0m",
      "\u001b[0;31mTypeError\u001b[0m: 'classmethod' object is not callable"
     ]
    }
   ],
   "source": [
    "class A:\n",
    "\n",
    "    @staticmethod\n",
    "    @classmethod\n",
    "    def m1(self):\n",
    "        print('Hello')\n",
    "\n",
    "A.m1(5)"
   ]
  },
  {
   "cell_type": "markdown",
   "metadata": {},
   "source": [
    "### special case 3"
   ]
  },
  {
   "cell_type": "code",
   "execution_count": 36,
   "metadata": {},
   "outputs": [
    {
     "name": "stdout",
     "output_type": "stream",
     "text": [
      "In Class A, Method m1.\n"
     ]
    },
    {
     "ename": "TypeError",
     "evalue": "m1() missing 1 required positional argument: 'self'",
     "output_type": "error",
     "traceback": [
      "\u001b[0;31m---------------------------------------------------------------------------\u001b[0m",
      "\u001b[0;31mTypeError\u001b[0m                                 Traceback (most recent call last)",
      "\u001b[0;32m<ipython-input-36-3a48c64d6c11>\u001b[0m in \u001b[0;36m<module>\u001b[0;34m()\u001b[0m\n\u001b[1;32m      9\u001b[0m \u001b[0ma\u001b[0m\u001b[0;34m.\u001b[0m\u001b[0mm1\u001b[0m\u001b[0;34m(\u001b[0m\u001b[0;34m)\u001b[0m\u001b[0;34m\u001b[0m\u001b[0m\n\u001b[1;32m     10\u001b[0m \u001b[0;31m#Gives - In Class A, Method m1.\u001b[0m\u001b[0;34m\u001b[0m\u001b[0;34m\u001b[0m\u001b[0m\n\u001b[0;32m---> 11\u001b[0;31m \u001b[0mA\u001b[0m\u001b[0;34m.\u001b[0m\u001b[0mm1\u001b[0m\u001b[0;34m(\u001b[0m\u001b[0;34m)\u001b[0m  \u001b[0;31m# gives error\u001b[0m\u001b[0;34m\u001b[0m\u001b[0m\n\u001b[0m",
      "\u001b[0;31mTypeError\u001b[0m: m1() missing 1 required positional argument: 'self'"
     ]
    }
   ],
   "source": [
    "class A:\n",
    "    @classmethod\n",
    "    def m1(self):\n",
    "        print('In Class A, Class Method m1.')\n",
    "    def m1(self):\n",
    "        print('In Class A, Method m1.')\n",
    "\n",
    "a = A()\n",
    "a.m1() #******Gives - In Class A, Method m1.\n",
    "A.m1(a) #works\n",
    "A.m1()  # gives error - gets confused but if remove instance method works\n"
   ]
  },
  {
   "cell_type": "code",
   "execution_count": 44,
   "metadata": {},
   "outputs": [
    {
     "data": {
      "text/plain": [
       "314.0"
      ]
     },
     "execution_count": 44,
     "metadata": {},
     "output_type": "execute_result"
    }
   ],
   "source": [
    "#1\n",
    "def square_(x):\n",
    "    return x*x\n",
    "        \n",
    "class Circle:\n",
    "    no_of_circles=0\n",
    "    def __init__(self,_radius):\n",
    "        self.radius=_radius\n",
    "        Circle.no_of_circles+=1\n",
    "    \n",
    "    def area(self):\n",
    "        return 3.14*square_(self.radius)\n",
    "    \n",
    "\n",
    "        \n",
    "    \n",
    "\n",
    "    \n",
    "# c=Circle(10)\n",
    "# c.area()\n",
    "        "
   ]
  },
  {
   "cell_type": "code",
   "execution_count": 45,
   "metadata": {},
   "outputs": [],
   "source": [
    "#2\n",
    "def square_(x):\n",
    "    return x*x\n",
    "        \n",
    "class Circle:\n",
    "    no_of_circles=0\n",
    "    def __init__(self,_radius):\n",
    "        self.radius=_radius\n",
    "        Circle.no_of_circles+=1\n",
    "    \n",
    "    def area(self):\n",
    "        return 3.14*square_(self.radius)\n",
    "    \n",
    "    @classmethod\n",
    "    def getCircleCount(self):\n",
    "        return Circle.no_of_circles\n",
    "   "
   ]
  },
  {
   "cell_type": "code",
   "execution_count": 46,
   "metadata": {},
   "outputs": [
    {
     "name": "stdout",
     "output_type": "stream",
     "text": [
      "3.14\n",
      "3.14\n"
     ]
    }
   ],
   "source": [
    "#3\n",
    "def square_(x):\n",
    "    return x*x\n",
    "        \n",
    "class Circle:\n",
    "    no_of_circles=0\n",
    "    def __init__(self,_radius):\n",
    "        self.radius=_radius\n",
    "        Circle.no_of_circles+=1\n",
    "    \n",
    "    def area(self):\n",
    "        pi=self.getPi()\n",
    "        return pi*square_(self.radius)\n",
    "    \n",
    "    @classmethod\n",
    "    def getCircleCount(self):\n",
    "        return Circle.no_of_circles\n",
    "   \n",
    "    @staticmethod\n",
    "    def getPi():\n",
    "        return 3.14\n",
    "obj=Circle(4) \n",
    "print(obj.getPi())\n",
    "print(Circle.getPi())"
   ]
  },
  {
   "cell_type": "code",
   "execution_count": 47,
   "metadata": {},
   "outputs": [],
   "source": [
    "#1 - new\n",
    "class Circle:\n",
    "    no_of_circles=0\n",
    "    count=no_of_circles\n",
    "    def __init__(self,_radius):\n",
    "        self.radius=_radius\n",
    "        Circle.no_of_circles+=1\n",
    "    \n",
    "    def area(self):\n",
    "        return 3.14*self.square_(self.radius)\n"
   ]
  },
  {
   "cell_type": "code",
   "execution_count": 48,
   "metadata": {},
   "outputs": [
    {
     "ename": "IndentationError",
     "evalue": "unexpected indent (<ipython-input-48-185a3367e0c5>, line 18)",
     "output_type": "error",
     "traceback": [
      "\u001b[0;36m  File \u001b[0;32m\"<ipython-input-48-185a3367e0c5>\"\u001b[0;36m, line \u001b[0;32m18\u001b[0m\n\u001b[0;31m    return Circle.no_of_circles\u001b[0m\n\u001b[0m    ^\u001b[0m\n\u001b[0;31mIndentationError\u001b[0m\u001b[0;31m:\u001b[0m unexpected indent\n"
     ]
    }
   ],
   "source": [
    "#2 - new\n",
    "import sys\n",
    "class Circle:\n",
    "    no_of_circles=0\n",
    "    def __init__(self,_radius):\n",
    "        self.radius=_radius\n",
    "        Circle.no_of_circles+=1\n",
    "    \n",
    "    def area(self):\n",
    "        return 3.14*self.square_(self.radius)\n",
    "    \n",
    "    @staticmethod\n",
    "    def square_(x):\n",
    "        return x*x\n",
    "    \n",
    "    @classmethod\n",
    "    def getCircleCount(self):\n",
    "        sys.stdout.write\n",
    "        return Circle.no_of_circles\n"
   ]
  },
  {
   "cell_type": "code",
   "execution_count": null,
   "metadata": {},
   "outputs": [],
   "source": [
    "#3 - new\n",
    "        \n",
    "class Circle:\n",
    "    no_of_circles=0\n",
    "    def __init__(self,_radius):\n",
    "        self.radius=_radius\n",
    "        Circle.no_of_circles+=1\n",
    "    \n",
    "    def area(self):\n",
    "        pi=self.getPi()\n",
    "        return (self.getPi())*self.square_(self.radius)\n",
    "    \n",
    "    @classmethod\n",
    "    def getCircleCount(self):\n",
    "        return Circle.no_of_circles\n",
    "   \n",
    "    @staticmethod\n",
    "    def square_(x):\n",
    "        return x*x\n",
    "    \n",
    "    @staticmethod\n",
    "    def getPi():\n",
    "        return 3.14\n",
    "obj=Circle(4) \n",
    "print(obj.getPi())\n",
    "print(Circle.getPi())"
   ]
  }
 ],
 "metadata": {
  "kernelspec": {
   "display_name": "Python 3",
   "language": "python",
   "name": "python3"
  },
  "language_info": {
   "codemirror_mode": {
    "name": "ipython",
    "version": 3
   },
   "file_extension": ".py",
   "mimetype": "text/x-python",
   "name": "python",
   "nbconvert_exporter": "python",
   "pygments_lexer": "ipython3",
   "version": "3.6.4"
  }
 },
 "nbformat": 4,
 "nbformat_minor": 2
}
