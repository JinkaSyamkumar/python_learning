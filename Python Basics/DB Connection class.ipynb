{
 "cells": [
  {
   "cell_type": "code",
   "execution_count": 3,
   "metadata": {},
   "outputs": [
    {
     "name": "stdout",
     "output_type": "stream",
     "text": [
      "fetchall (Decimal('12345'), 'Syam', 'CITI')\n",
      "fetchall (Decimal('2'), 'Syam', 'CITI')\n",
      "fetchall (Decimal('9'), 'Syam', 'CITI')\n",
      "fetchall (Decimal('11'), 'Updated', 'CITI')\n",
      "fetchall (Decimal('3'), 'Syam', 'CITI')\n",
      "fetchall (Decimal('4'), 'Syam', 'CITI')\n",
      "fetchall (Decimal('5'), 'Syam', 'CITI')\n",
      "fetchall (Decimal('10'), 'UPDATED3', 'icici4')\n"
     ]
    }
   ],
   "source": [
    "import psycopg2\n",
    "class DBase:\n",
    "    def __init__(self):\n",
    "        self.conn = psycopg2.connect(\"dbname='postgres' user='postgres' host='localhost' password='postgres'\")\n",
    "        self.cur = self.conn.cursor()\n",
    "\n",
    "    def __enter__(self):\n",
    "        return self\n",
    "\n",
    "    def __exit__(self, exc_type, exc_val, exc_tb):\n",
    "        if self.conn:\n",
    "            self.conn.close()\n",
    "db=DBase()\n",
    "db.cur.execute('select * from account')\n",
    "allrecs = db.cur.fetchall()\n",
    "for l in allrecs:\n",
    "    print('fetchall',l)"
   ]
  },
  {
   "cell_type": "code",
   "execution_count": null,
   "metadata": {},
   "outputs": [],
   "source": []
  }
 ],
 "metadata": {
  "kernelspec": {
   "display_name": "Python 3",
   "language": "python",
   "name": "python3"
  },
  "language_info": {
   "codemirror_mode": {
    "name": "ipython",
    "version": 3
   },
   "file_extension": ".py",
   "mimetype": "text/x-python",
   "name": "python",
   "nbconvert_exporter": "python",
   "pygments_lexer": "ipython3",
   "version": "3.6.2"
  }
 },
 "nbformat": 4,
 "nbformat_minor": 2
}
