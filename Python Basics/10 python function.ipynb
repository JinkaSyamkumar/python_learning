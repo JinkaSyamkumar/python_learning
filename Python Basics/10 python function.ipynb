{
 "cells": [
  {
   "cell_type": "code",
   "execution_count": 1,
   "metadata": {},
   "outputs": [],
   "source": [
    "#Functions return a value based on the given arguments.\n",
    "#A function is a piece of code, capable of performing a similar task repeatedly.\n",
    "#In python, functions are created with def keyword"
   ]
  },
  {
   "cell_type": "code",
   "execution_count": 2,
   "metadata": {},
   "outputs": [],
   "source": [
    "#syntax\n",
    "\n",
    "# def <function_name>(param1,param2..):\n",
    "#     'Function Documentation'\n",
    "#     function_body\n",
    "#     return <value>\n",
    "\n",
    "#params, function documentation and return value are optional"
   ]
  },
  {
   "cell_type": "code",
   "execution_count": 3,
   "metadata": {},
   "outputs": [],
   "source": [
    "def square(x):\n",
    "    'Returns square of a number'\n",
    "    \n",
    "    return x*2"
   ]
  },
  {
   "cell_type": "code",
   "execution_count": 5,
   "metadata": {},
   "outputs": [],
   "source": [
    "#1.variable length args\n",
    "def showinfo(name,*vartuple,**vardictkw):\n",
    "    '''This function deals with variable length args'''\n",
    "    print('name : ',name)\n",
    "    for arg in vartuple:\n",
    "        print('variable non_kwd arg: ',arg)\n",
    "    for key in vardictkw:\n",
    "        print('variable dictkwd arg :',vardictkw[key])\n",
    "    "
   ]
  },
  {
   "cell_type": "markdown",
   "metadata": {},
   "source": [
    "###  \\* or \\** indicates optional args & varying length args\n",
    "- that is why we can call the showinfo( ) function with just name attribute alone"
   ]
  },
  {
   "cell_type": "code",
   "execution_count": 7,
   "metadata": {},
   "outputs": [
    {
     "name": "stdout",
     "output_type": "stream",
     "text": [
      "name :  Syam\n"
     ]
    }
   ],
   "source": [
    "#calling with only one arg\n",
    "#this time no tuple..no kwd loop wont be executed\n",
    "showinfo('Syam')"
   ]
  },
  {
   "cell_type": "code",
   "execution_count": 7,
   "metadata": {},
   "outputs": [
    {
     "name": "stdout",
     "output_type": "stream",
     "text": [
      "name :  Syam\n",
      "variable non_kwd arg:  26\n",
      "variable non_kwd arg:  M\n"
     ]
    }
   ],
   "source": [
    "#calling with name and variable length of tuple\n",
    "showinfo('Syam',26,'M')\n",
    "#SEE BELOW after syam..everything is considered part of tuple\n",
    "#nothing was printed for dictkw"
   ]
  },
  {
   "cell_type": "code",
   "execution_count": 8,
   "metadata": {},
   "outputs": [
    {
     "name": "stdout",
     "output_type": "stream",
     "text": [
      "name :  syam\n",
      "variable non_kwd arg:  26\n",
      "variable non_kwd arg:  M\n",
      "variable dictkwd arg : Chennai\n",
      "variable dictkwd arg : SW\n"
     ]
    }
   ],
   "source": [
    "#calling a fixed variable, tuple and kw..\n",
    "#see all will be accessed \n",
    "showinfo('syam',26,'M',location='Chennai',job='SW')"
   ]
  },
  {
   "cell_type": "code",
   "execution_count": null,
   "metadata": {},
   "outputs": [],
   "source": [
    "def my_func(*args):\n",
    "    for n in args:\n",
    "        print(n)"
   ]
  },
  {
   "cell_type": "code",
   "execution_count": 2,
   "metadata": {},
   "outputs": [
    {
     "name": "stdout",
     "output_type": "stream",
     "text": [
      "1\n",
      "2\n",
      "3\n",
      "4\n"
     ]
    }
   ],
   "source": [
    "my_func(1,2,3,4)"
   ]
  },
  {
   "cell_type": "code",
   "execution_count": 3,
   "metadata": {},
   "outputs": [
    {
     "name": "stdout",
     "output_type": "stream",
     "text": [
      "1\n",
      "2\n",
      "3\n",
      "4\n"
     ]
    }
   ],
   "source": [
    "my_tuple=(1,2,3,4)\n",
    "my_func(*my_tuple)"
   ]
  },
  {
   "cell_type": "code",
   "execution_count": 6,
   "metadata": {},
   "outputs": [
    {
     "name": "stdout",
     "output_type": "stream",
     "text": [
      "name:  syam\n",
      "age:  10\n"
     ]
    }
   ],
   "source": [
    "#default args\n",
    "def my_func1(name,age=10):\n",
    "    print('name: ',name)\n",
    "    print('age: ', age)\n",
    "my_func1('syam')"
   ]
  },
  {
   "cell_type": "code",
   "execution_count": 7,
   "metadata": {},
   "outputs": [
    {
     "ename": "SyntaxError",
     "evalue": "positional argument follows keyword argument (<ipython-input-7-3d78878c0c79>, line 2)",
     "output_type": "error",
     "traceback": [
      "\u001b[0;36m  File \u001b[0;32m\"<ipython-input-7-3d78878c0c79>\"\u001b[0;36m, line \u001b[0;32m2\u001b[0m\n\u001b[0;31m    my_func1(name='syam',20)\u001b[0m\n\u001b[0m                        ^\u001b[0m\n\u001b[0;31mSyntaxError\u001b[0m\u001b[0;31m:\u001b[0m positional argument follows keyword argument\n"
     ]
    }
   ],
   "source": [
    "#Python does not allow passing non keyword args after keyword args\n",
    "my_func1(name='syam',20) #gives error"
   ]
  },
  {
   "cell_type": "code",
   "execution_count": 8,
   "metadata": {},
   "outputs": [
    {
     "name": "stdout",
     "output_type": "stream",
     "text": [
      "name:  syam\n",
      "age:  20\n"
     ]
    }
   ],
   "source": [
    "my_func1('syam',age=20) #works"
   ]
  },
  {
   "cell_type": "code",
   "execution_count": 32,
   "metadata": {},
   "outputs": [],
   "source": [
    "#keyword args\n",
    "#1 way\n",
    "def kwargs(**kw):\n",
    "    for k in kw:\n",
    "        print(kw[k])"
   ]
  },
  {
   "cell_type": "code",
   "execution_count": 33,
   "metadata": {},
   "outputs": [
    {
     "name": "stdout",
     "output_type": "stream",
     "text": [
      "syam1\n",
      "20\n"
     ]
    }
   ],
   "source": [
    "kwargs(name='syam1',age='20')"
   ]
  },
  {
   "cell_type": "code",
   "execution_count": 34,
   "metadata": {},
   "outputs": [],
   "source": [
    "#or\n",
    "#2 way\n",
    "def kwargs(name,age): #without **\n",
    "    print(name)\n",
    "    print(age)\n"
   ]
  },
  {
   "cell_type": "code",
   "execution_count": 36,
   "metadata": {},
   "outputs": [
    {
     "name": "stdout",
     "output_type": "stream",
     "text": [
      "20\n",
      "syam\n"
     ]
    }
   ],
   "source": [
    "kwargs1(age='20',name='syam')"
   ]
  },
  {
   "cell_type": "code",
   "execution_count": 44,
   "metadata": {},
   "outputs": [],
   "source": [
    "zenPython='''hello i am\n",
    "helloo i am'''\n"
   ]
  },
  {
   "cell_type": "code",
   "execution_count": 43,
   "metadata": {},
   "outputs": [
    {
     "data": {
      "text/plain": [
       "['hello', 'i', 'am', 'helloo', 'i', 'am']"
      ]
     },
     "execution_count": 43,
     "metadata": {},
     "output_type": "execute_result"
    }
   ],
   "source": [
    "#if you use split() - it will split every special char on the way..like space..\\n..\\t etc\n",
    "words=zenPython.split()\n",
    "words"
   ]
  },
  {
   "cell_type": "code",
   "execution_count": 45,
   "metadata": {},
   "outputs": [
    {
     "data": {
      "text/plain": [
       "['hello', 'i', 'am\\nhelloo', 'i', 'am']"
      ]
     },
     "execution_count": 45,
     "metadata": {},
     "output_type": "execute_result"
    }
   ],
   "source": [
    "#but if you use split and pass exclusively \" \" \n",
    "#then it will split only space like below\n",
    "words=zenPython.split(\" \") #u can see \\n\n",
    "words"
   ]
  },
  {
   "cell_type": "code",
   "execution_count": null,
   "metadata": {},
   "outputs": [],
   "source": []
  }
 ],
 "metadata": {
  "kernelspec": {
   "display_name": "Python 3",
   "language": "python",
   "name": "python3"
  },
  "language_info": {
   "codemirror_mode": {
    "name": "ipython",
    "version": 3
   },
   "file_extension": ".py",
   "mimetype": "text/x-python",
   "name": "python",
   "nbconvert_exporter": "python",
   "pygments_lexer": "ipython3",
   "version": "3.6.4"
  }
 },
 "nbformat": 4,
 "nbformat_minor": 2
}
