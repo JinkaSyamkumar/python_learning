{
 "cells": [
  {
   "cell_type": "code",
   "execution_count": 1,
   "metadata": {},
   "outputs": [
    {
     "name": "stdout",
     "output_type": "stream",
     "text": [
      "The animal Dog says \n",
      "The animal Cat says \n",
      "The animal Cow says \n"
     ]
    }
   ],
   "source": [
    "class Animal:\n",
    "    def __init__(self,type,name,sound): # constructor\n",
    "        self._type=type   #_type & type name should be different otherwise \n",
    "        self._name=name   # in python, there is no way of saying something private variable so when we have atleast _ can indicate as private variable\n",
    "        self._sound=sound\n",
    "    \n",
    "    def type(self):\n",
    "        return self._type\n",
    "\n",
    "    \n",
    "    def name(self):\n",
    "        return self._name\n",
    "        \n",
    "    def sound(self):\n",
    "        return self._sound\n",
    "        \n",
    "def print_animal(obj):\n",
    "    if not isinstance(obj, Animal):\n",
    "        raise TypeError('print animal requires animal')\n",
    "    else:\n",
    "        print('The animal {} says '.format(obj.name(),obj.sound()))\n",
    "        \n",
    "def main():\n",
    "    dog = Animal('pet','Dog','Bow!!') #creating an object\n",
    "    cat = Animal('pet','Cat','Meow!!')\n",
    "    print_animal(dog)\n",
    "    print_animal(cat)\n",
    "    print_animal(Animal('Farm','Cow','Ba!!'))\n",
    "main()"
   ]
  },
  {
   "cell_type": "markdown",
   "metadata": {},
   "source": [
    "#### with kwargs"
   ]
  },
  {
   "cell_type": "code",
   "execution_count": 9,
   "metadata": {},
   "outputs": [
    {
     "ename": "IndentationError",
     "evalue": "unindent does not match any outer indentation level (<tokenize>, line 4)",
     "output_type": "error",
     "traceback": [
      "\u001b[0;36m  File \u001b[0;32m\"<tokenize>\"\u001b[0;36m, line \u001b[0;32m4\u001b[0m\n\u001b[0;31m    self._name=kwargs['name']   #_ helps in not accessing the variables directly\u001b[0m\n\u001b[0m    ^\u001b[0m\n\u001b[0;31mIndentationError\u001b[0m\u001b[0;31m:\u001b[0m unindent does not match any outer indentation level\n"
     ]
    }
   ],
   "source": [
    "class Animal:\n",
    "    def __init__(self,**kwargs): # constructor\n",
    "        self._type=kwargs['type']   #_type & type name should be different otherwise \n",
    "        self._name=kwargs['name']   #_ helps in not accessing the variables directly\n",
    "        self._sound=kwargs['sound']\n",
    "    \n",
    "    def type(self): #Getters or accessors which simply returns the object variables\n",
    "        return self._type\n",
    "    \n",
    "    def name(self):\n",
    "        return self._name\n",
    "        \n",
    "    def sound(self):\n",
    "        return self._sound\n",
    "        \n",
    "def print_animal(obj):\n",
    "    if not isinstance(obj, Animal):\n",
    "        raise TypeError('print animal requires animal')\n",
    "    else:\n",
    "        print('The animal {} says '.format(obj.name(),obj.sound()))\n",
    "        \n",
    "def main():\n",
    "    dog = Animal(type='pet',name='Dog',sound='Bow!!') #creating an object..using class name like Function name Animal()\n",
    "    cat = Animal(type='pet',name='Cat',sound='Meow!!')\n",
    "    print_animal(dog)\n",
    "    print_animal(cat)\n",
    "    print_animal(Animal(type='Farm',name='Cow',sound='Ba!!'))\n",
    "    \n",
    "main()"
   ]
  },
  {
   "cell_type": "markdown",
   "metadata": {},
   "source": [
    "##### giving default values"
   ]
  },
  {
   "cell_type": "code",
   "execution_count": 10,
   "metadata": {},
   "outputs": [
    {
     "ename": "SyntaxError",
     "evalue": "invalid character in identifier (<ipython-input-10-778b9e7350ee>, line 2)",
     "output_type": "error",
     "traceback": [
      "\u001b[0;36m  File \u001b[0;32m\"<ipython-input-10-778b9e7350ee>\"\u001b[0;36m, line \u001b[0;32m2\u001b[0m\n\u001b[0;31m    def __init__(self,**kwargs):\u001b[0m\n\u001b[0m      ^\u001b[0m\n\u001b[0;31mSyntaxError\u001b[0m\u001b[0;31m:\u001b[0m invalid character in identifier\n"
     ]
    }
   ],
   "source": [
    "class Animal:\n",
    "    def __init__(self,**kwargs):\n",
    "        self._type=kwargs['type'] if 'type' in kwargs else 'kitten'  #_type & type name should be different otherwise \n",
    "        self._name=kwargs['name'] if 'name' in kwargs else 'fluffy'  #_ helps in not accessing the variables directly\n",
    "        self._sound=kwargs['sound'] if 'sound' in kwargs else 'rawr'\n",
    "    \n",
    "    def type(self): #Getters or accessors which simply returns the object variables\n",
    "        return self._type\n",
    "    \n",
    "    def name(self):\n",
    "        return self._name\n",
    "        \n",
    "    def sound(self):\n",
    "        return self._sound\n",
    "        \n",
    "def print_animal(obj):\n",
    "    if not isinstance(obj, Animal):\n",
    "        raise TypeError('print animal requires animal')\n",
    "    else:\n",
    "        print('The animal {} says '.format(obj.name(),obj.sound()))\n",
    "        \n",
    "def main():\n",
    "    dog = Animal(type='pet',name='Dog',sound='Bow!!') #creating an object..using class name like Function name Animal()\n",
    "    cat = Animal(type='pet',name='Cat',sound='Meow!!')\n",
    "    print_animal(dog)\n",
    "    print_animal(cat)\n",
    "    print_animal(Animal(type='Farm',name='Cow',sound='Ba!!'))\n",
    "    \n",
    "main()"
   ]
  },
  {
   "cell_type": "markdown",
   "metadata": {},
   "source": [
    "#### creating geter and setter with the same method"
   ]
  },
  {
   "cell_type": "code",
   "execution_count": null,
   "metadata": {},
   "outputs": [],
   "source": [
    "def name(self,t=None):\n",
    "    if t:\n",
    "        self._name=t #if t is None, no setting will be \n",
    "        #done but if t has any value it will set that value\n",
    "\n",
    "    return self._name"
   ]
  }
 ],
 "metadata": {
  "kernelspec": {
   "display_name": "Python 3",
   "language": "python",
   "name": "python3"
  },
  "language_info": {
   "codemirror_mode": {
    "name": "ipython",
    "version": 3
   },
   "file_extension": ".py",
   "mimetype": "text/x-python",
   "name": "python",
   "nbconvert_exporter": "python",
   "pygments_lexer": "ipython3",
   "version": "3.6.4"
  }
 },
 "nbformat": 4,
 "nbformat_minor": 2
}
