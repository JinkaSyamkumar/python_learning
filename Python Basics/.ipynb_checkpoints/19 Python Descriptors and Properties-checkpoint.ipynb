{
 "cells": [
  {
   "cell_type": "code",
   "execution_count": null,
   "metadata": {},
   "outputs": [],
   "source": [
    "# Python descriptors allow a programmer to create managed attributes.\n",
    "# In other object-oriented languages, you will find getter and setter methods to manage attributes\n",
    "# However, Python allows a programmer to manage the attributes simply with the attribute name, without losing their protection.\n",
    "# This is achieved by defining a descriptor class, that implements any of __get__, __set__, __delete__ methods."
   ]
  },
  {
   "cell_type": "code",
   "execution_count": 9,
   "metadata": {},
   "outputs": [
    {
     "name": "stdout",
     "output_type": "stream",
     "text": [
      "[1, 2, 3]\n",
      "[7, 2, 3]\n",
      "mouse\n",
      "mouse\n"
     ]
    }
   ],
   "source": [
    "class Animal:\n",
    "    x=[1,2,3] #this is class variable not object variable\n",
    "    def __init__(self, **kwargs): #here these variables exist only on object not on class\n",
    "        self._type=kwargs['type'] \n",
    "        self._name=kwargs['name'] \n",
    "        self._sound=kwargs['sound']\n",
    "        \n",
    "    def type(self,t=None):  \n",
    "        if t:self._type=t \n",
    "        return self._type\n",
    "    \n",
    "    def name(self,n=None):\n",
    "        if n:self._name=n\n",
    "        return self._name\n",
    "    def sound(self, s=None):\n",
    "        if s:self_sound=s\n",
    "        return self._sound\n",
    "    def __str__(self): \n",
    "        return f'The {self.type()} is named {self.name()} says {self.sound()}'\n",
    "def main():\n",
    "    dog = Animal(type='pet',name='dog',sound='Bow!!')\n",
    "    cat = Animal(type='pet',name='Cat',sound='Meow!!')\n",
    "    print(dog.x)\n",
    "    cat.x[0]=7  #modified on cat but it reflects on dog too since it is class variable\n",
    "    print(dog.x)\n",
    "    print(dog.name('mouse'))\n",
    "    print(dog.name())\n",
    "if __name__=='__main__':main()"
   ]
  },
  {
   "cell_type": "code",
   "execution_count": 13,
   "metadata": {},
   "outputs": [
    {
     "name": "stdout",
     "output_type": "stream",
     "text": [
      "Setting: \n",
      "Getting: John Smith\n",
      "Deleting: John Smith\n"
     ]
    }
   ],
   "source": [
    "class Descriptor(object):\n",
    " \n",
    "    def __init__(self):\n",
    "        self._name = ''\n",
    " \n",
    "    def __get__(self, instance, owner):\n",
    "        print(\"Getting: {}\".format(self._name))\n",
    "        return self._name\n",
    " \n",
    "    def __set__(self, instance, name):\n",
    "        print(\"Setting: {}\".format(self._name))\n",
    "        self._name = name.title()\n",
    " \n",
    "    def __delete__(self, instance):\n",
    "        print(\"Deleting: {}\".format(self._name))\n",
    "        del self._name\n",
    "\n",
    "class Person(object):\n",
    "    name = Descriptor()\n",
    "    \n",
    "user = Person()\n",
    "user.name = 'john smith'\n",
    "user.name\n",
    "del user.name"
   ]
  },
  {
   "cell_type": "code",
   "execution_count": 4,
   "metadata": {},
   "outputs": [],
   "source": [
    "\n",
    "class EmpNameDescriptor:\n",
    "    \n",
    "    def __get__(self, obj, owner):\n",
    "        return self.__empname\n",
    "    \n",
    "    def __set__(self, obj, value):\n",
    "        if not isinstance(value, str):\n",
    "            raise TypeError(\"'empname' must be a string.\")\n",
    "        self.__empname = value"
   ]
  },
  {
   "cell_type": "code",
   "execution_count": 1,
   "metadata": {},
   "outputs": [],
   "source": [
    "class EmpIdDescriptor:\n",
    "\n",
    "    def __get__(self, obj, owner):\n",
    "        return self.__empid\n",
    "\n",
    "    def __set__(self, obj, value):\n",
    "        if hasattr(obj, 'empid'):\n",
    "            raise ValueError(\"'empid' is read only attribute\")\n",
    "        if not isinstance(value, int):\n",
    "            raise TypeError(\"'empid' must be an integer.\")\n",
    "        self.__empid = value"
   ]
  },
  {
   "cell_type": "code",
   "execution_count": 6,
   "metadata": {},
   "outputs": [
    {
     "name": "stdout",
     "output_type": "stream",
     "text": [
      "123456 - John\n",
      "123456 - Williams\n"
     ]
    },
    {
     "ename": "ValueError",
     "evalue": "'empid' is read only attribute",
     "output_type": "error",
     "traceback": [
      "\u001b[0;31m---------------------------------------------------------------------------\u001b[0m",
      "\u001b[0;31mValueError\u001b[0m                                Traceback (most recent call last)",
      "\u001b[0;32m<ipython-input-6-67102dfdeee3>\u001b[0m in \u001b[0;36m<module>\u001b[0;34m()\u001b[0m\n\u001b[1;32m     16\u001b[0m \u001b[0mprint\u001b[0m\u001b[0;34m(\u001b[0m\u001b[0me1\u001b[0m\u001b[0;34m.\u001b[0m\u001b[0mempid\u001b[0m\u001b[0;34m,\u001b[0m \u001b[0;34m'-'\u001b[0m\u001b[0;34m,\u001b[0m \u001b[0me1\u001b[0m\u001b[0;34m.\u001b[0m\u001b[0mempname\u001b[0m\u001b[0;34m)\u001b[0m\u001b[0;34m\u001b[0m\u001b[0m\n\u001b[1;32m     17\u001b[0m \u001b[0;34m\u001b[0m\u001b[0m\n\u001b[0;32m---> 18\u001b[0;31m \u001b[0me1\u001b[0m\u001b[0;34m.\u001b[0m\u001b[0mempid\u001b[0m \u001b[0;34m=\u001b[0m \u001b[0;36m76347322\u001b[0m\u001b[0;34m\u001b[0m\u001b[0m\n\u001b[0m",
      "\u001b[0;32m<ipython-input-5-35d8c540bfeb>\u001b[0m in \u001b[0;36m__set__\u001b[0;34m(self, obj, value)\u001b[0m\n\u001b[1;32m      6\u001b[0m     \u001b[0;32mdef\u001b[0m \u001b[0m__set__\u001b[0m\u001b[0;34m(\u001b[0m\u001b[0mself\u001b[0m\u001b[0;34m,\u001b[0m \u001b[0mobj\u001b[0m\u001b[0;34m,\u001b[0m \u001b[0mvalue\u001b[0m\u001b[0;34m)\u001b[0m\u001b[0;34m:\u001b[0m\u001b[0;34m\u001b[0m\u001b[0m\n\u001b[1;32m      7\u001b[0m         \u001b[0;32mif\u001b[0m \u001b[0mhasattr\u001b[0m\u001b[0;34m(\u001b[0m\u001b[0mobj\u001b[0m\u001b[0;34m,\u001b[0m \u001b[0;34m'empid'\u001b[0m\u001b[0;34m)\u001b[0m\u001b[0;34m:\u001b[0m\u001b[0;34m\u001b[0m\u001b[0m\n\u001b[0;32m----> 8\u001b[0;31m             \u001b[0;32mraise\u001b[0m \u001b[0mValueError\u001b[0m\u001b[0;34m(\u001b[0m\u001b[0;34m\"'empid' is read only attribute\"\u001b[0m\u001b[0;34m)\u001b[0m\u001b[0;34m\u001b[0m\u001b[0m\n\u001b[0m\u001b[1;32m      9\u001b[0m         \u001b[0;32mif\u001b[0m \u001b[0;32mnot\u001b[0m \u001b[0misinstance\u001b[0m\u001b[0;34m(\u001b[0m\u001b[0mvalue\u001b[0m\u001b[0;34m,\u001b[0m \u001b[0mint\u001b[0m\u001b[0;34m)\u001b[0m\u001b[0;34m:\u001b[0m\u001b[0;34m\u001b[0m\u001b[0m\n\u001b[1;32m     10\u001b[0m             \u001b[0;32mraise\u001b[0m \u001b[0mTypeError\u001b[0m\u001b[0;34m(\u001b[0m\u001b[0;34m\"'empid' must be an integer.\"\u001b[0m\u001b[0;34m)\u001b[0m\u001b[0;34m\u001b[0m\u001b[0m\n",
      "\u001b[0;31mValueError\u001b[0m: 'empid' is read only attribute"
     ]
    }
   ],
   "source": [
    "class Employee:\n",
    "\n",
    "    empid = EmpIdDescriptor()           \n",
    "    empname = EmpNameDescriptor()       \n",
    "\n",
    "    def __init__(self, emp_id, emp_name):\n",
    "        self.empid = emp_id\n",
    "        self.empname = emp_name\n",
    "\n",
    "        \n",
    "#creating objects\n",
    "e1 = Employee(123456, 'John')\n",
    "print(e1.empid, '-', e1.empname)  \n",
    "\n",
    "e1.empname = 'Williams'\n",
    "print(e1.empid, '-', e1.empname)\n",
    "\n",
    "e1.empid = 76347322 \n",
    "#causes error since we set it..\n",
    "#You can remove raise error..if you want it to be accessed by other\n"
   ]
  },
  {
   "cell_type": "markdown",
   "metadata": {},
   "source": [
    "### Property()"
   ]
  },
  {
   "cell_type": "code",
   "execution_count": 14,
   "metadata": {},
   "outputs": [],
   "source": [
    "# Descriptors can also be created using property() type.\n",
    "# It is easy to create a descriptor for any attribute using property() over above descriptor class\n",
    "# The syntax is creating property() - property(fget=None, fset=None, fdel=None, doc=None)\n",
    "# fget - attribute get method\n",
    "# fset - attribute set method\n",
    "# fdel - attribute delete method\n",
    "# doc - docstring"
   ]
  },
  {
   "cell_type": "code",
   "execution_count": 16,
   "metadata": {},
   "outputs": [
    {
     "name": "stdout",
     "output_type": "stream",
     "text": [
      "123456 - John\n"
     ]
    },
    {
     "ename": "AttributeError",
     "evalue": "'Employee' object has no attribute '_Employee__empname'",
     "output_type": "error",
     "traceback": [
      "\u001b[0;31m---------------------------------------------------------------------------\u001b[0m",
      "\u001b[0;31mAttributeError\u001b[0m                            Traceback (most recent call last)",
      "\u001b[0;32m<ipython-input-16-c99327bc7670>\u001b[0m in \u001b[0;36m<module>\u001b[0;34m()\u001b[0m\n\u001b[1;32m     31\u001b[0m \u001b[0mprint\u001b[0m\u001b[0;34m(\u001b[0m\u001b[0me1\u001b[0m\u001b[0;34m.\u001b[0m\u001b[0mempid\u001b[0m\u001b[0;34m,\u001b[0m \u001b[0;34m'-'\u001b[0m\u001b[0;34m,\u001b[0m \u001b[0me1\u001b[0m\u001b[0;34m.\u001b[0m\u001b[0mempname\u001b[0m\u001b[0;34m)\u001b[0m    \u001b[0;31m# -> '123456 - John'\u001b[0m\u001b[0;34m\u001b[0m\u001b[0m\n\u001b[1;32m     32\u001b[0m \u001b[0;32mdel\u001b[0m \u001b[0me1\u001b[0m\u001b[0;34m.\u001b[0m\u001b[0mempname\u001b[0m    \u001b[0;31m# Deletes 'empname'\u001b[0m\u001b[0;34m\u001b[0m\u001b[0m\n\u001b[0;32m---> 33\u001b[0;31m \u001b[0mprint\u001b[0m\u001b[0;34m(\u001b[0m\u001b[0me1\u001b[0m\u001b[0;34m.\u001b[0m\u001b[0mempname\u001b[0m\u001b[0;34m)\u001b[0m \u001b[0;31m#Raises 'AttributeError'\u001b[0m\u001b[0;34m\u001b[0m\u001b[0m\n\u001b[0m",
      "\u001b[0;32m<ipython-input-16-c99327bc7670>\u001b[0m in \u001b[0;36mgetEmpName\u001b[0;34m(self)\u001b[0m\n\u001b[1;32m     16\u001b[0m \u001b[0;34m\u001b[0m\u001b[0m\n\u001b[1;32m     17\u001b[0m     \u001b[0;32mdef\u001b[0m \u001b[0mgetEmpName\u001b[0m\u001b[0;34m(\u001b[0m\u001b[0mself\u001b[0m\u001b[0;34m)\u001b[0m\u001b[0;34m:\u001b[0m\u001b[0;34m\u001b[0m\u001b[0m\n\u001b[0;32m---> 18\u001b[0;31m         \u001b[0;32mreturn\u001b[0m \u001b[0mself\u001b[0m\u001b[0;34m.\u001b[0m\u001b[0m__empname\u001b[0m\u001b[0;34m\u001b[0m\u001b[0m\n\u001b[0m\u001b[1;32m     19\u001b[0m \u001b[0;34m\u001b[0m\u001b[0m\n\u001b[1;32m     20\u001b[0m     \u001b[0;32mdef\u001b[0m \u001b[0msetEmpName\u001b[0m\u001b[0;34m(\u001b[0m\u001b[0mself\u001b[0m\u001b[0;34m,\u001b[0m \u001b[0mvalue\u001b[0m\u001b[0;34m)\u001b[0m\u001b[0;34m:\u001b[0m\u001b[0;34m\u001b[0m\u001b[0m\n",
      "\u001b[0;31mAttributeError\u001b[0m: 'Employee' object has no attribute '_Employee__empname'"
     ]
    }
   ],
   "source": [
    "class Employee:\n",
    "\n",
    "    def __init__(self, emp_id, emp_name):\n",
    "        self.empid = emp_id\n",
    "        self.empname = emp_name\n",
    "\n",
    "    def getEmpID(self):\n",
    "        return self.__empid\n",
    "\n",
    "    def setEmpID(self, value):\n",
    "        if not isinstance(value, int):\n",
    "            raise TypeError(\"'empid' must be an integer.\")\n",
    "        self.__empid = value\n",
    "\n",
    "    empid = property(getEmpID, setEmpID)   #Created Descriptor ****\n",
    "    \n",
    "    def getEmpName(self):\n",
    "        return self.__empname\n",
    "\n",
    "    def setEmpName(self, value):\n",
    "        if not isinstance(value, str):\n",
    "            raise TypeError(\"empname' must be a string.\")\n",
    "        self.__empname = value\n",
    "\n",
    "    def delEmpName(self):\n",
    "        del self.__empname\n",
    "\n",
    "    empname = property(getEmpName, setEmpName, delEmpName) #Created Descriptor ****\n",
    "    \n",
    "e1 = Employee(123456, 'John')\n",
    "print(e1.empid, '-', e1.empname)    # -> '123456 - John'\n",
    "del e1.empname    # Deletes 'empname'\n",
    "print(e1.empname) #Raises 'AttributeError'\n"
   ]
  },
  {
   "cell_type": "code",
   "execution_count": 17,
   "metadata": {},
   "outputs": [
    {
     "name": "stdout",
     "output_type": "stream",
     "text": [
      "Setting: \n",
      "Getting: John Smith\n",
      "deleting: John Smith\n"
     ]
    }
   ],
   "source": [
    "#example 2\n",
    "class Person(object):\n",
    "    def __init__(self):\n",
    "        self._name = ''\n",
    " \n",
    "    def fget(self):\n",
    "        print(\"Getting: {}\".format(self._name))\n",
    "        return self._name\n",
    "     \n",
    "    def fset(self, value):\n",
    "        print(\"Setting: {}\".format(self._name))\n",
    "        self._name = value.title()\n",
    " \n",
    "    def fdel(self):\n",
    "        print(\"deleting: {}\".format(self._name))\n",
    "        del self._name\n",
    "    name = property(fget, fset, fdel, \"I'm the property.\")\n",
    "    \n",
    "user = Person()\n",
    "user.name = 'john smith'\n",
    "user.name\n",
    "del user.name"
   ]
  },
  {
   "cell_type": "markdown",
   "metadata": {},
   "source": [
    "### Property Decorators"
   ]
  },
  {
   "cell_type": "code",
   "execution_count": 19,
   "metadata": {},
   "outputs": [
    {
     "name": "stdout",
     "output_type": "stream",
     "text": [
      "Setting: \n",
      "Getting: John Smith\n",
      "Delting: John Smith\n"
     ]
    }
   ],
   "source": [
    "class Person(object):\n",
    " \n",
    "    def __init__(self):\n",
    "        self._name = ''\n",
    " \n",
    "    @property #Getetr will JUST have property tag\n",
    "    def name(self):\n",
    "        print(\"Getting: {}\".format(self._name))\n",
    "        return self._name\n",
    " \n",
    "    @name.setter\n",
    "    def name(self, value):\n",
    "        print(\"Setting: {}\".format(self._name))\n",
    "        self._name = value.title()\n",
    " \n",
    "    @name.deleter\n",
    "    def name(self):\n",
    "        print(\"Delting: {}\".format(self._name))\n",
    "        del self._name\n",
    "user = Person()\n",
    "user.name = 'john smith'\n",
    "user.name\n",
    "del user.name"
   ]
  },
  {
   "cell_type": "code",
   "execution_count": 2,
   "metadata": {},
   "outputs": [
    {
     "ename": "IndentationError",
     "evalue": "unindent does not match any outer indentation level (<tokenize>, line 7)",
     "output_type": "error",
     "traceback": [
      "\u001b[0;36m  File \u001b[0;32m\"<tokenize>\"\u001b[0;36m, line \u001b[0;32m7\u001b[0m\n\u001b[0;31m    @property\u001b[0m\n\u001b[0m    ^\u001b[0m\n\u001b[0;31mIndentationError\u001b[0m\u001b[0;31m:\u001b[0m unindent does not match any outer indentation level\n"
     ]
    }
   ],
   "source": [
    "class Employee:\n",
    "\n",
    "     def __init__(self, emp_id, emp_name):\n",
    "        self.empid = emp_id\n",
    "        self.empname = emp_name\n",
    "\n",
    "    @property\n",
    "    def empid(self):\n",
    "        return self.__empid\n",
    "\n",
    "    @empid.setter\n",
    "    def empid(self, value):\n",
    "        if not isinstance(value, int):\n",
    "            raise TypeError(\"'empid' must be an integer.\")\n",
    "        self.__empid = value\n",
    "    \n",
    "    @property\n",
    "    def empname(self):\n",
    "        return self.__empname\n",
    "\n",
    "    @empname.setter\n",
    "    def empname(self, value):\n",
    "        if not isinstance(value, str):\n",
    "            raise TypeError(\"'empname' must be a string.\")\n",
    "        self.__empname = value\n",
    "\n",
    "    @empname.deleter\n",
    "    def empname(self):\n",
    "        del self.__empname\n",
    "        \n",
    "e1 = Employee(123456, 'John')\n",
    "print(e1.empid, '-', e1.empname)    # -> '123456 - John'\n",
    "del e1.empname    # Deletes 'empname'\n",
    "print(e1.empname) #Raises 'AttributeError'"
   ]
  },
  {
   "cell_type": "markdown",
   "metadata": {},
   "source": [
    "#### exam"
   ]
  },
  {
   "cell_type": "code",
   "execution_count": null,
   "metadata": {},
   "outputs": [],
   "source": []
  },
  {
   "cell_type": "code",
   "execution_count": 4,
   "metadata": {},
   "outputs": [
    {
     "name": "stdout",
     "output_type": "stream",
     "text": [
      "setting\n"
     ]
    }
   ],
   "source": [
    "class Celsius:\n",
    "    def __get__(self, instance, owner):\n",
    "        print('getting')\n",
    "        return 5 * (instance.fahrenheit - 32) / 9\n",
    "\n",
    "    def __set__(self, instance, value):\n",
    "        print('setting')\n",
    "        instance.fahrenheit = 32 + 9 * value / 5\n",
    "    \n",
    "\n",
    "# Add temperature class implementation below.        \n",
    "class Temperature:\n",
    "    celsius = Celsius()\n",
    "\n",
    "    def __init__(self, initial_f):\n",
    "        self.fahrenheit = initial_f\n",
    "\n",
    "t1 = Temperature(32)\n",
    "t1.celsius = 0"
   ]
  },
  {
   "cell_type": "code",
   "execution_count": 1,
   "metadata": {},
   "outputs": [
    {
     "name": "stdout",
     "output_type": "stream",
     "text": [
      "32.0\n",
      "0.0\n"
     ]
    }
   ],
   "source": [
    "#1\n",
    "# Add Celsius class implementation below.\n",
    "class Celsius:\n",
    "    def __get__(self, instance, owner):\n",
    "        return 5 * (instance.fahrenheit - 32) / 9\n",
    "\n",
    "    def __set__(self, instance, value):\n",
    "        instance.fahrenheit = 32 + 9 * value / 5\n",
    "    \n",
    "\n",
    "# Add temperature class implementation below.        \n",
    "class Temperature:\n",
    "    celsius = Celsius()\n",
    "\n",
    "    def __init__(self, fahrenheit):\n",
    "        self.fahrenheit = fahrenheit\n",
    "\n",
    "t1 = Temperature(32)\n",
    "t1.celsius = 0\n",
    "print(t1.fahrenheit)\n",
    "print(t1.celsius)"
   ]
  },
  {
   "cell_type": "code",
   "execution_count": 6,
   "metadata": {},
   "outputs": [
    {
     "ename": "SyntaxError",
     "evalue": "invalid syntax (<ipython-input-6-8b87973824d2>, line 1)",
     "output_type": "error",
     "traceback": [
      "\u001b[0;36m  File \u001b[0;32m\"<ipython-input-6-8b87973824d2>\"\u001b[0;36m, line \u001b[0;32m1\u001b[0m\n\u001b[0;31m    Create a new property celsius using property type\u001b[0m\n\u001b[0m           ^\u001b[0m\n\u001b[0;31mSyntaxError\u001b[0m\u001b[0;31m:\u001b[0m invalid syntax\n"
     ]
    }
   ],
   "source": [
    "Create a new property celsius using property type"
   ]
  },
  {
   "cell_type": "code",
   "execution_count": 9,
   "metadata": {},
   "outputs": [
    {
     "name": "stdout",
     "output_type": "stream",
     "text": [
      "getting\n",
      "32 0.0\n",
      "setting\n",
      "getting\n",
      "203.0 95.0\n"
     ]
    },
    {
     "data": {
      "text/plain": [
       "'Check Tail section for input/output'"
      ]
     },
     "execution_count": 9,
     "metadata": {},
     "output_type": "execute_result"
    }
   ],
   "source": [
    "#2\n",
    "#add Temperature class definition here\n",
    "# Add temperature class implementation below.        \n",
    "class Temperature:\n",
    "        \n",
    "    def __init__(self, fahrenheit):\n",
    "        self.fahrenheit = fahrenheit\n",
    "        \n",
    "    def getCelsius(self):\n",
    "        f=5 * (self.fahrenheit - 32) / 9\n",
    "        return f\n",
    "\n",
    "    def setCelsius(self,  value):\n",
    "        self.fahrenheit = 32 + 9 * value / 5\n",
    "        \n",
    "    celsius = property(getCelsius, setCelsius)\n",
    "    \n",
    "t1 = Temperature(32)\n",
    "print(t1.fahrenheit, t1.celsius)\n",
    "t1.celsius = 95\n",
    "print(t1.fahrenheit, t1.celsius)\n",
    "\n",
    "'''Check Tail section for input/output'''"
   ]
  },
  {
   "cell_type": "code",
   "execution_count": 1,
   "metadata": {},
   "outputs": [
    {
     "name": "stdout",
     "output_type": "stream",
     "text": [
      "getting\n",
      "32 0.0\n",
      "setting\n",
      "getting\n",
      "203.0 95.0\n"
     ]
    }
   ],
   "source": [
    "#3\n",
    "class Temperature:\n",
    "        \n",
    "    def __init__(self, fahrenheit):\n",
    "        self.fahrenheit = fahrenheit\n",
    "    \n",
    "    @property\n",
    "    def celsius(self):\n",
    "        f=5 * (self.fahrenheit - 32) / 9\n",
    "        return f\n",
    "    @celsius.setter\n",
    "    def celsius(self,  value):\n",
    "        self.fahrenheit = 32 + 9 * value / 5\n",
    "    \n",
    "t1 = Temperature(32)\n",
    "print(t1.fahrenheit, t1.celsius)\n",
    "t1.celsius = 95\n",
    "print(t1.fahrenheit, t1.celsius)"
   ]
  },
  {
   "cell_type": "code",
   "execution_count": 10,
   "metadata": {},
   "outputs": [
    {
     "ename": "AttributeError",
     "evalue": "'A' object has no attribute '_A__x'",
     "output_type": "error",
     "traceback": [
      "\u001b[0;31m---------------------------------------------------------------------------\u001b[0m",
      "\u001b[0;31mAttributeError\u001b[0m                            Traceback (most recent call last)",
      "\u001b[0;32m<ipython-input-10-ce4d995a5163>\u001b[0m in \u001b[0;36m<module>\u001b[0;34m()\u001b[0m\n\u001b[1;32m     18\u001b[0m \u001b[0ma\u001b[0m \u001b[0;34m=\u001b[0m \u001b[0mA\u001b[0m\u001b[0;34m(\u001b[0m\u001b[0;36m7\u001b[0m\u001b[0;34m)\u001b[0m\u001b[0;34m\u001b[0m\u001b[0m\n\u001b[1;32m     19\u001b[0m \u001b[0;32mdel\u001b[0m \u001b[0ma\u001b[0m\u001b[0;34m.\u001b[0m\u001b[0mx\u001b[0m\u001b[0;34m\u001b[0m\u001b[0m\n\u001b[0;32m---> 20\u001b[0;31m \u001b[0mprint\u001b[0m\u001b[0;34m(\u001b[0m\u001b[0ma\u001b[0m\u001b[0;34m.\u001b[0m\u001b[0mx\u001b[0m\u001b[0;34m)\u001b[0m\u001b[0;34m\u001b[0m\u001b[0m\n\u001b[0m",
      "\u001b[0;32m<ipython-input-10-ce4d995a5163>\u001b[0m in \u001b[0;36mx\u001b[0;34m(self)\u001b[0m\n\u001b[1;32m      6\u001b[0m     \u001b[0;34m@\u001b[0m\u001b[0mproperty\u001b[0m\u001b[0;34m\u001b[0m\u001b[0m\n\u001b[1;32m      7\u001b[0m     \u001b[0;32mdef\u001b[0m \u001b[0mx\u001b[0m\u001b[0;34m(\u001b[0m\u001b[0mself\u001b[0m\u001b[0;34m)\u001b[0m\u001b[0;34m:\u001b[0m\u001b[0;34m\u001b[0m\u001b[0m\n\u001b[0;32m----> 8\u001b[0;31m         \u001b[0;32mreturn\u001b[0m \u001b[0mself\u001b[0m\u001b[0;34m.\u001b[0m\u001b[0m__x\u001b[0m\u001b[0;34m\u001b[0m\u001b[0m\n\u001b[0m\u001b[1;32m      9\u001b[0m \u001b[0;34m\u001b[0m\u001b[0m\n\u001b[1;32m     10\u001b[0m     \u001b[0;34m@\u001b[0m\u001b[0mx\u001b[0m\u001b[0;34m.\u001b[0m\u001b[0msetter\u001b[0m\u001b[0;34m\u001b[0m\u001b[0m\n",
      "\u001b[0;31mAttributeError\u001b[0m: 'A' object has no attribute '_A__x'"
     ]
    }
   ],
   "source": [
    "class A:\n",
    "\n",
    "    def __init__(self, val):\n",
    "        self.x = val\n",
    "\n",
    "    @property\n",
    "    def x(self):\n",
    "        return self.__x\n",
    "\n",
    "    @x.setter\n",
    "    def x(self, val):\n",
    "        self.__x = val\n",
    "        \n",
    "    @x.deleter\n",
    "    def x(self):\n",
    "        del self.__x\n",
    "\n",
    "a = A(7)\n",
    "del a.x\n",
    "print(a.x)"
   ]
  },
  {
   "cell_type": "code",
   "execution_count": 11,
   "metadata": {},
   "outputs": [
    {
     "ename": "AttributeError",
     "evalue": "can't set attribute",
     "output_type": "error",
     "traceback": [
      "\u001b[0;31m---------------------------------------------------------------------------\u001b[0m",
      "\u001b[0;31mAttributeError\u001b[0m                            Traceback (most recent call last)",
      "\u001b[0;32m<ipython-input-11-46b7292c3ea4>\u001b[0m in \u001b[0;36m<module>\u001b[0;34m()\u001b[0m\n\u001b[1;32m      9\u001b[0m \u001b[0;34m\u001b[0m\u001b[0m\n\u001b[1;32m     10\u001b[0m \u001b[0ma\u001b[0m \u001b[0;34m=\u001b[0m \u001b[0mA\u001b[0m\u001b[0;34m(\u001b[0m\u001b[0;36m7\u001b[0m\u001b[0;34m)\u001b[0m\u001b[0;34m\u001b[0m\u001b[0m\n\u001b[0;32m---> 11\u001b[0;31m \u001b[0ma\u001b[0m\u001b[0;34m.\u001b[0m\u001b[0mx\u001b[0m \u001b[0;34m=\u001b[0m \u001b[0;36m10\u001b[0m\u001b[0;34m\u001b[0m\u001b[0m\n\u001b[0m\u001b[1;32m     12\u001b[0m \u001b[0mprint\u001b[0m\u001b[0;34m(\u001b[0m\u001b[0ma\u001b[0m\u001b[0;34m.\u001b[0m\u001b[0mx\u001b[0m\u001b[0;34m)\u001b[0m\u001b[0;34m\u001b[0m\u001b[0m\n",
      "\u001b[0;31mAttributeError\u001b[0m: can't set attribute"
     ]
    }
   ],
   "source": [
    "class A:\n",
    "\n",
    "    def __init__(self, x):\n",
    "        self.__x = x\n",
    "\n",
    "    @property\n",
    "    def x(self):\n",
    "        return self.__x\n",
    "\n",
    "a = A(7)\n",
    "a.x = 10\n",
    "print(a.x)"
   ]
  },
  {
   "cell_type": "code",
   "execution_count": 12,
   "metadata": {},
   "outputs": [
    {
     "ename": "ValueError",
     "evalue": "Only Int or float is allowed",
     "output_type": "error",
     "traceback": [
      "\u001b[0;31m---------------------------------------------------------------------------\u001b[0m",
      "\u001b[0;31mValueError\u001b[0m                                Traceback (most recent call last)",
      "\u001b[0;32m<ipython-input-12-18e11f5a7be3>\u001b[0m in \u001b[0;36m<module>\u001b[0;34m()\u001b[0m\n\u001b[1;32m     15\u001b[0m \u001b[0;34m\u001b[0m\u001b[0m\n\u001b[1;32m     16\u001b[0m \u001b[0ma\u001b[0m \u001b[0;34m=\u001b[0m \u001b[0mA\u001b[0m\u001b[0;34m(\u001b[0m\u001b[0;36m7\u001b[0m\u001b[0;34m)\u001b[0m\u001b[0;34m\u001b[0m\u001b[0m\n\u001b[0;32m---> 17\u001b[0;31m \u001b[0ma\u001b[0m\u001b[0;34m.\u001b[0m\u001b[0mx\u001b[0m \u001b[0;34m=\u001b[0m \u001b[0;34m'George'\u001b[0m\u001b[0;34m\u001b[0m\u001b[0m\n\u001b[0m\u001b[1;32m     18\u001b[0m \u001b[0mprint\u001b[0m\u001b[0;34m(\u001b[0m\u001b[0ma\u001b[0m\u001b[0;34m.\u001b[0m\u001b[0mx\u001b[0m\u001b[0;34m)\u001b[0m\u001b[0;34m\u001b[0m\u001b[0m\n",
      "\u001b[0;32m<ipython-input-12-18e11f5a7be3>\u001b[0m in \u001b[0;36mx\u001b[0;34m(self, value)\u001b[0m\n\u001b[1;32m     11\u001b[0m     \u001b[0;32mdef\u001b[0m \u001b[0mx\u001b[0m\u001b[0;34m(\u001b[0m\u001b[0mself\u001b[0m\u001b[0;34m,\u001b[0m \u001b[0mvalue\u001b[0m\u001b[0;34m)\u001b[0m\u001b[0;34m:\u001b[0m\u001b[0;34m\u001b[0m\u001b[0m\n\u001b[1;32m     12\u001b[0m         \u001b[0;32mif\u001b[0m \u001b[0;32mnot\u001b[0m \u001b[0misinstance\u001b[0m\u001b[0;34m(\u001b[0m\u001b[0mvalue\u001b[0m\u001b[0;34m,\u001b[0m \u001b[0;34m(\u001b[0m\u001b[0mint\u001b[0m\u001b[0;34m,\u001b[0m \u001b[0mfloat\u001b[0m\u001b[0;34m)\u001b[0m\u001b[0;34m)\u001b[0m\u001b[0;34m:\u001b[0m\u001b[0;34m\u001b[0m\u001b[0m\n\u001b[0;32m---> 13\u001b[0;31m             \u001b[0;32mraise\u001b[0m \u001b[0mValueError\u001b[0m\u001b[0;34m(\u001b[0m\u001b[0;34m'Only Int or float is allowed'\u001b[0m\u001b[0;34m)\u001b[0m\u001b[0;34m\u001b[0m\u001b[0m\n\u001b[0m\u001b[1;32m     14\u001b[0m         \u001b[0mself\u001b[0m\u001b[0;34m.\u001b[0m\u001b[0m__x\u001b[0m \u001b[0;34m=\u001b[0m \u001b[0mvalue\u001b[0m\u001b[0;34m\u001b[0m\u001b[0m\n\u001b[1;32m     15\u001b[0m \u001b[0;34m\u001b[0m\u001b[0m\n",
      "\u001b[0;31mValueError\u001b[0m: Only Int or float is allowed"
     ]
    }
   ],
   "source": [
    "class A:\n",
    "\n",
    "    def __init__(self, value):\n",
    "        self.x = value\n",
    "\n",
    "    @property\n",
    "    def x(self):\n",
    "        return self.__x\n",
    "\n",
    "    @x.setter\n",
    "    def x(self, value):\n",
    "        if not isinstance(value, (int, float)):\n",
    "            raise ValueError('Only Int or float is allowed')\n",
    "        self.__x = value\n",
    "\n",
    "a = A(7)\n",
    "a.x = 'George'\n",
    "print(a.x)"
   ]
  },
  {
   "cell_type": "code",
   "execution_count": 13,
   "metadata": {},
   "outputs": [
    {
     "name": "stdout",
     "output_type": "stream",
     "text": [
      "25\n",
      "Hello!!!\n"
     ]
    }
   ],
   "source": [
    "class A:\n",
    "    def __init__(self, x , y):\n",
    "        self.x = x\n",
    "        self.y = y\n",
    "\n",
    "    @property\n",
    "    def z(self):\n",
    "        return self.x + self.y\n",
    "\n",
    "a = A(10, 15)\n",
    "b = A('Hello', '!!!')\n",
    "print(a.z)\n",
    "print(b.z)\n"
   ]
  },
  {
   "cell_type": "code",
   "execution_count": 14,
   "metadata": {},
   "outputs": [
    {
     "ename": "AttributeError",
     "evalue": "'A' object has no attribute '_A__x'",
     "output_type": "error",
     "traceback": [
      "\u001b[0;31m---------------------------------------------------------------------------\u001b[0m",
      "\u001b[0;31mAttributeError\u001b[0m                            Traceback (most recent call last)",
      "\u001b[0;32m<ipython-input-14-ce4d995a5163>\u001b[0m in \u001b[0;36m<module>\u001b[0;34m()\u001b[0m\n\u001b[1;32m     18\u001b[0m \u001b[0ma\u001b[0m \u001b[0;34m=\u001b[0m \u001b[0mA\u001b[0m\u001b[0;34m(\u001b[0m\u001b[0;36m7\u001b[0m\u001b[0;34m)\u001b[0m\u001b[0;34m\u001b[0m\u001b[0m\n\u001b[1;32m     19\u001b[0m \u001b[0;32mdel\u001b[0m \u001b[0ma\u001b[0m\u001b[0;34m.\u001b[0m\u001b[0mx\u001b[0m\u001b[0;34m\u001b[0m\u001b[0m\n\u001b[0;32m---> 20\u001b[0;31m \u001b[0mprint\u001b[0m\u001b[0;34m(\u001b[0m\u001b[0ma\u001b[0m\u001b[0;34m.\u001b[0m\u001b[0mx\u001b[0m\u001b[0;34m)\u001b[0m\u001b[0;34m\u001b[0m\u001b[0m\n\u001b[0m",
      "\u001b[0;32m<ipython-input-14-ce4d995a5163>\u001b[0m in \u001b[0;36mx\u001b[0;34m(self)\u001b[0m\n\u001b[1;32m      6\u001b[0m     \u001b[0;34m@\u001b[0m\u001b[0mproperty\u001b[0m\u001b[0;34m\u001b[0m\u001b[0m\n\u001b[1;32m      7\u001b[0m     \u001b[0;32mdef\u001b[0m \u001b[0mx\u001b[0m\u001b[0;34m(\u001b[0m\u001b[0mself\u001b[0m\u001b[0;34m)\u001b[0m\u001b[0;34m:\u001b[0m\u001b[0;34m\u001b[0m\u001b[0m\n\u001b[0;32m----> 8\u001b[0;31m         \u001b[0;32mreturn\u001b[0m \u001b[0mself\u001b[0m\u001b[0;34m.\u001b[0m\u001b[0m__x\u001b[0m\u001b[0;34m\u001b[0m\u001b[0m\n\u001b[0m\u001b[1;32m      9\u001b[0m \u001b[0;34m\u001b[0m\u001b[0m\n\u001b[1;32m     10\u001b[0m     \u001b[0;34m@\u001b[0m\u001b[0mx\u001b[0m\u001b[0;34m.\u001b[0m\u001b[0msetter\u001b[0m\u001b[0;34m\u001b[0m\u001b[0m\n",
      "\u001b[0;31mAttributeError\u001b[0m: 'A' object has no attribute '_A__x'"
     ]
    }
   ],
   "source": [
    "class A:\n",
    "\n",
    "    def __init__(self, val):\n",
    "        self.x = val\n",
    "\n",
    "    @property\n",
    "    def x(self):\n",
    "        return self.__x\n",
    "\n",
    "    @x.setter\n",
    "    def x(self, val):\n",
    "        self.__x = val\n",
    "        \n",
    "    @x.deleter\n",
    "    def x(self):\n",
    "        del self.__x\n",
    "\n",
    "a = A(7)\n",
    "del a.x\n",
    "print(a.x)"
   ]
  },
  {
   "cell_type": "code",
   "execution_count": 15,
   "metadata": {},
   "outputs": [
    {
     "ename": "ValueError",
     "evalue": "Only Int or float is allowed",
     "output_type": "error",
     "traceback": [
      "\u001b[0;31m---------------------------------------------------------------------------\u001b[0m",
      "\u001b[0;31mValueError\u001b[0m                                Traceback (most recent call last)",
      "\u001b[0;32m<ipython-input-15-18e11f5a7be3>\u001b[0m in \u001b[0;36m<module>\u001b[0;34m()\u001b[0m\n\u001b[1;32m     15\u001b[0m \u001b[0;34m\u001b[0m\u001b[0m\n\u001b[1;32m     16\u001b[0m \u001b[0ma\u001b[0m \u001b[0;34m=\u001b[0m \u001b[0mA\u001b[0m\u001b[0;34m(\u001b[0m\u001b[0;36m7\u001b[0m\u001b[0;34m)\u001b[0m\u001b[0;34m\u001b[0m\u001b[0m\n\u001b[0;32m---> 17\u001b[0;31m \u001b[0ma\u001b[0m\u001b[0;34m.\u001b[0m\u001b[0mx\u001b[0m \u001b[0;34m=\u001b[0m \u001b[0;34m'George'\u001b[0m\u001b[0;34m\u001b[0m\u001b[0m\n\u001b[0m\u001b[1;32m     18\u001b[0m \u001b[0mprint\u001b[0m\u001b[0;34m(\u001b[0m\u001b[0ma\u001b[0m\u001b[0;34m.\u001b[0m\u001b[0mx\u001b[0m\u001b[0;34m)\u001b[0m\u001b[0;34m\u001b[0m\u001b[0m\n",
      "\u001b[0;32m<ipython-input-15-18e11f5a7be3>\u001b[0m in \u001b[0;36mx\u001b[0;34m(self, value)\u001b[0m\n\u001b[1;32m     11\u001b[0m     \u001b[0;32mdef\u001b[0m \u001b[0mx\u001b[0m\u001b[0;34m(\u001b[0m\u001b[0mself\u001b[0m\u001b[0;34m,\u001b[0m \u001b[0mvalue\u001b[0m\u001b[0;34m)\u001b[0m\u001b[0;34m:\u001b[0m\u001b[0;34m\u001b[0m\u001b[0m\n\u001b[1;32m     12\u001b[0m         \u001b[0;32mif\u001b[0m \u001b[0;32mnot\u001b[0m \u001b[0misinstance\u001b[0m\u001b[0;34m(\u001b[0m\u001b[0mvalue\u001b[0m\u001b[0;34m,\u001b[0m \u001b[0;34m(\u001b[0m\u001b[0mint\u001b[0m\u001b[0;34m,\u001b[0m \u001b[0mfloat\u001b[0m\u001b[0;34m)\u001b[0m\u001b[0;34m)\u001b[0m\u001b[0;34m:\u001b[0m\u001b[0;34m\u001b[0m\u001b[0m\n\u001b[0;32m---> 13\u001b[0;31m             \u001b[0;32mraise\u001b[0m \u001b[0mValueError\u001b[0m\u001b[0;34m(\u001b[0m\u001b[0;34m'Only Int or float is allowed'\u001b[0m\u001b[0;34m)\u001b[0m\u001b[0;34m\u001b[0m\u001b[0m\n\u001b[0m\u001b[1;32m     14\u001b[0m         \u001b[0mself\u001b[0m\u001b[0;34m.\u001b[0m\u001b[0m__x\u001b[0m \u001b[0;34m=\u001b[0m \u001b[0mvalue\u001b[0m\u001b[0;34m\u001b[0m\u001b[0m\n\u001b[1;32m     15\u001b[0m \u001b[0;34m\u001b[0m\u001b[0m\n",
      "\u001b[0;31mValueError\u001b[0m: Only Int or float is allowed"
     ]
    }
   ],
   "source": [
    "class A:\n",
    "\n",
    "    def __init__(self, value):\n",
    "        self.x = value\n",
    "\n",
    "    @property\n",
    "    def x(self):\n",
    "        return self.__x\n",
    "\n",
    "    @x.setter\n",
    "    def x(self, value):\n",
    "        if not isinstance(value, (int, float)):\n",
    "            raise ValueError('Only Int or float is allowed')\n",
    "        self.__x = value\n",
    "\n",
    "a = A(7)\n",
    "a.x = 'George'\n",
    "print(a.x)"
   ]
  },
  {
   "cell_type": "code",
   "execution_count": null,
   "metadata": {},
   "outputs": [],
   "source": []
  }
 ],
 "metadata": {
  "kernelspec": {
   "display_name": "Python 3",
   "language": "python",
   "name": "python3"
  },
  "language_info": {
   "codemirror_mode": {
    "name": "ipython",
    "version": 3
   },
   "file_extension": ".py",
   "mimetype": "text/x-python",
   "name": "python",
   "nbconvert_exporter": "python",
   "pygments_lexer": "ipython3",
   "version": "3.6.4"
  }
 },
 "nbformat": 4,
 "nbformat_minor": 2
}
