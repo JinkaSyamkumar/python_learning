{
 "cells": [
  {
   "cell_type": "code",
   "execution_count": 1,
   "metadata": {},
   "outputs": [],
   "source": [
    "# A coroutine is generator which is capable of constantly receiving\n",
    "# input data, process input data and may or may not return any output\n",
    "\n",
    "# Coroutines are majorly used to build better Data Processing Pipelines\n",
    "# It enables building processing pipelines\n",
    "\n",
    "# Similar to a generator, execution of a coroutine stops when it reaches yield statement\n",
    "# A Coroutine uses send method to send any input value, which is captured by yield expression"
   ]
  },
  {
   "cell_type": "code",
   "execution_count": 21,
   "metadata": {},
   "outputs": [
    {
     "name": "stdout",
     "output_type": "stream",
     "text": [
      "I will be printed if just call function\n"
     ]
    }
   ],
   "source": [
    "#normal function\n",
    "#where on first call itself..it starts execution\n",
    "def hello():\n",
    "    print('I will be printed if just call function')\n",
    "s=hello()"
   ]
  },
  {
   "cell_type": "code",
   "execution_count": null,
   "metadata": {},
   "outputs": [],
   "source": [
    "#example of yield..before going coroutines\n",
    "#we are using yield\n",
    "#as stated, after calling next only, it starts execution\n",
    "#and execution continues till it next sees YIELD\n",
    "\n",
    "#Similar to a generator, execution of a coroutine stops when \n",
    "#it reaches yield statement\n",
    "\n",
    "#To master yield, you must understand that when you call the function,\n",
    "#the code you have written in the function body does not run. \n",
    "#The function only returns the coroutine/generator object, \n",
    "#this is a bit tricky"
   ]
  },
  {
   "cell_type": "markdown",
   "metadata": {},
   "source": [
    "The YIELD keyword inside the function makes it different from normal function"
   ]
  },
  {
   "cell_type": "code",
   "execution_count": 14,
   "metadata": {},
   "outputs": [],
   "source": [
    "def hello():\n",
    "    print('I will be printed only after calling \\'next\\' ')\n",
    "    name=yield\n",
    "    print('Sent name1 is ',name)\n",
    "    name2=yield\n",
    "    print('sent name2 is',name2)\n",
    "    name3=yield\n",
    "    print('sent name3 is',name3)\n",
    "    yield\n",
    "s=hello()"
   ]
  },
  {
   "cell_type": "code",
   "execution_count": 15,
   "metadata": {},
   "outputs": [
    {
     "name": "stdout",
     "output_type": "stream",
     "text": [
      "I will be printed only after calling 'next' \n"
     ]
    }
   ],
   "source": [
    "next(s)"
   ]
  },
  {
   "cell_type": "code",
   "execution_count": 16,
   "metadata": {},
   "outputs": [
    {
     "name": "stdout",
     "output_type": "stream",
     "text": [
      "Sent name1 is  jinka\n"
     ]
    }
   ],
   "source": [
    "s.send('jinka')"
   ]
  },
  {
   "cell_type": "code",
   "execution_count": 17,
   "metadata": {},
   "outputs": [
    {
     "name": "stdout",
     "output_type": "stream",
     "text": [
      "sent name2 is syam\n"
     ]
    }
   ],
   "source": [
    "s.send('syam')"
   ]
  },
  {
   "cell_type": "code",
   "execution_count": 18,
   "metadata": {},
   "outputs": [
    {
     "name": "stdout",
     "output_type": "stream",
     "text": [
      "sent name3 is kumar\n"
     ]
    }
   ],
   "source": [
    "s.send('kumar')\n",
    "#after this it will look for yield to make a halt..\n",
    "#IF YOUU DONT PROVIDE..you get error"
   ]
  },
  {
   "cell_type": "code",
   "execution_count": 23,
   "metadata": {},
   "outputs": [
    {
     "name": "stdout",
     "output_type": "stream",
     "text": [
      "initializing\n",
      "calling next\n",
      "hello\n",
      "send\n",
      "Token number of George : 1\n",
      "Token number of Rosy : 2\n",
      "Token number of Smith : 3\n"
     ]
    }
   ],
   "source": [
    "#example 1\n",
    "def TokenIssuer():\n",
    "    tokenId = 0\n",
    "    print('hello')\n",
    "    while True:\n",
    "        name = yield #using yield to accept the input\n",
    "        tokenId += 1\n",
    "        print('Token number of', name, ':', tokenId)\n",
    "        '''\n",
    "        #HERE WHILE IS infinite loop\n",
    "        #since it is yield..first executes the block\n",
    "        #goes back to while true\n",
    "        #comes inside\n",
    "        #and sees yield\n",
    "        #and waits for the send call\n",
    "        '''\n",
    "        \n",
    "\n",
    "print('initializing')\n",
    "t = TokenIssuer()\n",
    "\n",
    "#Execution of coroutine function begins only when next is called \n",
    "#on coroutine t\n",
    "print('calling next')\n",
    "next(t)\n",
    "print('send')\n",
    "t.send('George') #A Coroutine uses send method to send any input value, which is captured by yield expression\n",
    "t.send('Rosy')\n",
    "t.send('Smith')"
   ]
  },
  {
   "cell_type": "markdown",
   "metadata": {},
   "source": [
    "##### In above 'Hello' is written inside def function\n",
    "and when you call the method it should be printed\n",
    "BUT as you can see from output\n",
    "It got called only when we called next on t\n",
    "\n",
    "And also\n",
    "while true: gives infinite loop But because of yield\n",
    "it stops at the block itself "
   ]
  },
  {
   "cell_type": "code",
   "execution_count": 5,
   "metadata": {},
   "outputs": [
    {
     "name": "stdout",
     "output_type": "stream",
     "text": [
      "Token number of George : 101\n",
      "Token number of Rosy : 102\n",
      "Token number of Smith : 103\n",
      "Last issued Token is : 103\n"
     ]
    }
   ],
   "source": [
    "#example 2\n",
    "def TokenIssuer(tokenId=0): #another way of initializing with default\n",
    "\n",
    "    try:\n",
    "        while True:\n",
    "            name = yield\n",
    "            tokenId += 1\n",
    "            print('Token number of', name, ':', tokenId)\n",
    "    except GeneratorExit:\n",
    "        print('Last issued Token is :', tokenId)\n",
    "\n",
    "t = TokenIssuer(100)\n",
    "\n",
    "next(t) #Without calling next, u get TypeError\n",
    "\n",
    "t.send('George')\n",
    "t.send('Rosy')\n",
    "t.send('Smith')\n",
    "t.close() # calls statements under Generator Exit block"
   ]
  },
  {
   "cell_type": "code",
   "execution_count": 7,
   "metadata": {},
   "outputs": [
    {
     "name": "stdout",
     "output_type": "stream",
     "text": [
      "Token number of George : 101\n",
      "Token number of Rosy : 101\n",
      "101\n",
      "Token number of Smith : 102\n",
      "Last issued Token is : 102\n"
     ]
    }
   ],
   "source": [
    "#example 3\n",
    "def coroutine1_decorator(func):\n",
    "\n",
    "    def wrapper(*args, **kwdargs):\n",
    "        c = func(*args, **kwdargs)\n",
    "        next(c)\n",
    "        return c\n",
    "\n",
    "    return wrapper\n",
    "\n",
    "@coroutine1_decorator\n",
    "def TokenIssuer(tokenId=0):\n",
    "    try:\n",
    "        while True:\n",
    "            name = yield\n",
    "            tokenId += 1\n",
    "            print('Token number of', name, ':', tokenId)\n",
    "    except GeneratorExit:\n",
    "        print('Last issued Token is :', tokenId)\n",
    "\n",
    "\n",
    "t = TokenIssuer(100)\n",
    "\n",
    "t.send('George')\n",
    "t.send('Rosy')\n",
    "t.send('Smith')\n",
    "t.close()"
   ]
  },
  {
   "cell_type": "markdown",
   "metadata": {},
   "source": [
    "### FRESCO"
   ]
  },
  {
   "cell_type": "code",
   "execution_count": 27,
   "metadata": {},
   "outputs": [
    {
     "name": "stdout",
     "output_type": "stream",
     "text": [
      "Length of 'Jack' : 4\n",
      "Length of 'Black' : 5\n"
     ]
    },
    {
     "ename": "AttributeError",
     "evalue": "'NoneType' object has no attribute 'split'",
     "output_type": "error",
     "traceback": [
      "\u001b[0;31m---------------------------------------------------------------------------\u001b[0m",
      "\u001b[0;31mAttributeError\u001b[0m                            Traceback (most recent call last)",
      "\u001b[0;32m<ipython-input-27-92878fa8fde6>\u001b[0m in \u001b[0;36m<module>\u001b[0;34m()\u001b[0m\n\u001b[1;32m     19\u001b[0m \u001b[0ms\u001b[0m\u001b[0;34m.\u001b[0m\u001b[0msend\u001b[0m\u001b[0;34m(\u001b[0m\u001b[0;34m'Jack Black'\u001b[0m\u001b[0;34m)\u001b[0m\u001b[0;34m\u001b[0m\u001b[0m\n\u001b[1;32m     20\u001b[0m \u001b[0;34m\u001b[0m\u001b[0m\n\u001b[0;32m---> 21\u001b[0;31m \u001b[0mprint\u001b[0m\u001b[0;34m(\u001b[0m\u001b[0mtype\u001b[0m\u001b[0;34m(\u001b[0m\u001b[0mnext\u001b[0m\u001b[0;34m(\u001b[0m\u001b[0ms\u001b[0m\u001b[0;34m)\u001b[0m\u001b[0;34m)\u001b[0m\u001b[0;34m)\u001b[0m\u001b[0;34m\u001b[0m\u001b[0m\n\u001b[0m",
      "\u001b[0;32m<ipython-input-27-92878fa8fde6>\u001b[0m in \u001b[0;36mstringParser\u001b[0;34m()\u001b[0m\n\u001b[1;32m      2\u001b[0m     \u001b[0;32mwhile\u001b[0m \u001b[0;32mTrue\u001b[0m\u001b[0;34m:\u001b[0m\u001b[0;34m\u001b[0m\u001b[0m\n\u001b[1;32m      3\u001b[0m         \u001b[0mname\u001b[0m \u001b[0;34m=\u001b[0m \u001b[0;32myield\u001b[0m\u001b[0;34m\u001b[0m\u001b[0m\n\u001b[0;32m----> 4\u001b[0;31m         \u001b[0;34m(\u001b[0m\u001b[0mfname\u001b[0m\u001b[0;34m,\u001b[0m \u001b[0mlname\u001b[0m\u001b[0;34m)\u001b[0m \u001b[0;34m=\u001b[0m \u001b[0mname\u001b[0m\u001b[0;34m.\u001b[0m\u001b[0msplit\u001b[0m\u001b[0;34m(\u001b[0m\u001b[0;34m)\u001b[0m\u001b[0;34m\u001b[0m\u001b[0m\n\u001b[0m\u001b[1;32m      5\u001b[0m         \u001b[0mf\u001b[0m\u001b[0;34m.\u001b[0m\u001b[0msend\u001b[0m\u001b[0;34m(\u001b[0m\u001b[0mfname\u001b[0m\u001b[0;34m)\u001b[0m\u001b[0;34m\u001b[0m\u001b[0m\n\u001b[1;32m      6\u001b[0m         \u001b[0mf\u001b[0m\u001b[0;34m.\u001b[0m\u001b[0msend\u001b[0m\u001b[0;34m(\u001b[0m\u001b[0mlname\u001b[0m\u001b[0;34m)\u001b[0m\u001b[0;34m\u001b[0m\u001b[0m\n",
      "\u001b[0;31mAttributeError\u001b[0m: 'NoneType' object has no attribute 'split'"
     ]
    }
   ],
   "source": [
    "def stringParser():\n",
    "    while True:\n",
    "        name = yield\n",
    "        (fname, lname) = name.split()\n",
    "        f.send(fname)\n",
    "        f.send(lname)\n",
    "\n",
    "def stringLength():\n",
    "    while True:\n",
    "        string = yield\n",
    "        print(\"Length of '{}' : {}\".format(string, len(string)))\n",
    "\n",
    "\n",
    "f = stringLength(); \n",
    "next(f)\n",
    "\n",
    "s = stringParser()\n",
    "next(s)\n",
    "s.send('Jack Black')\n",
    "\n",
    "print(type(next(s)))"
   ]
  },
  {
   "cell_type": "code",
   "execution_count": 25,
   "metadata": {},
   "outputs": [
    {
     "name": "stdout",
     "output_type": "stream",
     "text": [
      "<class 'str'>\n",
      "Hi!!Hi!!Hi!!\n"
     ]
    }
   ],
   "source": [
    "def stringDisplay():\n",
    "    while True:\n",
    "        s = yield\n",
    "        print(type(s))\n",
    "        print(s*3)\n",
    "\n",
    "\n",
    "c = stringDisplay()\n",
    "next(c)\n",
    "c.send('Hi!!')"
   ]
  },
  {
   "cell_type": "code",
   "execution_count": 28,
   "metadata": {},
   "outputs": [
    {
     "ename": "TypeError",
     "evalue": "can't send non-None value to a just-started generator",
     "output_type": "error",
     "traceback": [
      "\u001b[0;31m---------------------------------------------------------------------------\u001b[0m",
      "\u001b[0;31mTypeError\u001b[0m                                 Traceback (most recent call last)",
      "\u001b[0;32m<ipython-input-28-300ea95d0149>\u001b[0m in \u001b[0;36m<module>\u001b[0;34m()\u001b[0m\n\u001b[1;32m      6\u001b[0m \u001b[0;34m\u001b[0m\u001b[0m\n\u001b[1;32m      7\u001b[0m \u001b[0mc\u001b[0m \u001b[0;34m=\u001b[0m \u001b[0mstringDisplay\u001b[0m\u001b[0;34m(\u001b[0m\u001b[0;34m)\u001b[0m\u001b[0;34m\u001b[0m\u001b[0m\n\u001b[0;32m----> 8\u001b[0;31m \u001b[0mc\u001b[0m\u001b[0;34m.\u001b[0m\u001b[0msend\u001b[0m\u001b[0;34m(\u001b[0m\u001b[0;34m'Hi!!'\u001b[0m\u001b[0;34m)\u001b[0m\u001b[0;34m\u001b[0m\u001b[0m\n\u001b[0m",
      "\u001b[0;31mTypeError\u001b[0m: can't send non-None value to a just-started generator"
     ]
    }
   ],
   "source": [
    "def stringDisplay():\n",
    "    while True:\n",
    "        s = yield\n",
    "        print(s*3)\n",
    "\n",
    "\n",
    "c = stringDisplay()\n",
    "c.send('Hi!!')"
   ]
  },
  {
   "cell_type": "code",
   "execution_count": 29,
   "metadata": {},
   "outputs": [
    {
     "name": "stdout",
     "output_type": "stream",
     "text": [
      "First Name: George\n",
      "Last Name: Williams\n",
      "First Name: John\n"
     ]
    }
   ],
   "source": [
    "def nameFeeder():\n",
    "    while True:\n",
    "        fname = yield\n",
    "        print('First Name:', fname)\n",
    "        lname = yield\n",
    "        print('Last Name:', lname)\n",
    "\n",
    "n = nameFeeder()\n",
    "next(n)\n",
    "n.send('George')\n",
    "n.send('Williams')\n",
    "n.send('John')"
   ]
  },
  {
   "cell_type": "markdown",
   "metadata": {},
   "source": [
    "### EXAM"
   ]
  },
  {
   "cell_type": "code",
   "execution_count": 30,
   "metadata": {},
   "outputs": [],
   "source": [
    "#1\n",
    "def linear_equation(a, b):\n",
    "    while True:\n",
    "        x=yield\n",
    "        lvalue=a*(x**2)+b\n",
    "        print('Expression, {}*x^2 + {}, with x being {} equals {}'.format(a,b,x,lvalue))\n",
    "        "
   ]
  },
  {
   "cell_type": "code",
   "execution_count": null,
   "metadata": {},
   "outputs": [],
   "source": [
    "#to run in your local\n",
    "e1=liner_equation(3,4)\n",
    "next(e1)\n",
    "e1.send(6)"
   ]
  },
  {
   "cell_type": "code",
   "execution_count": 32,
   "metadata": {},
   "outputs": [
    {
     "name": "stdout",
     "output_type": "stream",
     "text": [
      "Expression, 3*x^2 + 4, with x being 6 equals 112\n"
     ]
    }
   ],
   "source": [
    "#2\n",
    "# Define 'coroutine_decorator' below\n",
    "def coroutine_decorator(coroutine_func):\n",
    "    def wrapper(*args, **kwdargs):\n",
    "        c = coroutine_func(*args, **kwdargs)\n",
    "        next(c)\n",
    "        return c\n",
    "    return wrapper\n",
    "    \n",
    "# Define coroutine 'linear_equation' as specified in previous exercise\n",
    "@coroutine_decorator\n",
    "def linear_equation(a, b):\n",
    "    while True:\n",
    "        x=yield\n",
    "        lvalue=a*(x**2)+b\n",
    "        print('Expression, {}*x^2 + {}, with x being {} equals {}'.format(a,b,x,lvalue))"
   ]
  },
  {
   "cell_type": "code",
   "execution_count": null,
   "metadata": {},
   "outputs": [],
   "source": [
    "#to run in your local\n",
    "e1=liner_equation(3,4)\n",
    "e1.send(6)"
   ]
  },
  {
   "cell_type": "code",
   "execution_count": null,
   "metadata": {},
   "outputs": [],
   "source": [
    "# 3 level decorators\n",
    "# Define the function 'coroutine_decorator' below\n",
    "def coroutine_decorator(coroutine_func):\n",
    "    def wrapper(*args, **kwdargs):\n",
    "        c = coroutine_func(*args, **kwdargs)\n",
    "        next(c)\n",
    "        return c\n",
    "    return wrapper\n",
    "    \n",
    "# Define the coroutine function 'linear_equation' below\n",
    "@coroutine_decorator\n",
    "def linear_equation(a, b):\n",
    "    while True:\n",
    "        x=yield\n",
    "        lvalue=a*(x**2)+b\n",
    "        print('Expression, {}*x^2 + {}, with x being {} equals {}'.format(a,b,x,lvalue))\n",
    "        \n",
    "# # Define the coroutine function 'numberParser' below\n",
    "@coroutine_decorator\n",
    "def numberParser():\n",
    "    while True:\n",
    "        y=yield\n",
    "        equation1 = linear_equation(3, 4)\n",
    "        equation1.send(y)\n",
    "        equation2 = linear_equation(2, -1)\n",
    "        equation2.send(y)\n",
    "    # code to send the input number to both the linear equations\n",
    "    \n",
    "def main(x):\n",
    "    # equation1 = linear_equation(3, 4)\n",
    "    # equation1.send(x)\n",
    "    # equation2 = linear_equation(2, -1)\n",
    "    # equation2.send(x)\n",
    "    n = numberParser()\n",
    "    n.send(x)"
   ]
  }
 ],
 "metadata": {
  "kernelspec": {
   "display_name": "Python 3",
   "language": "python",
   "name": "python3"
  },
  "language_info": {
   "codemirror_mode": {
    "name": "ipython",
    "version": 3
   },
   "file_extension": ".py",
   "mimetype": "text/x-python",
   "name": "python",
   "nbconvert_exporter": "python",
   "pygments_lexer": "ipython3",
   "version": "3.6.4"
  }
 },
 "nbformat": 4,
 "nbformat_minor": 2
}
