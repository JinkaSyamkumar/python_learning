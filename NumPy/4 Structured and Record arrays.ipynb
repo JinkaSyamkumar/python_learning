{
 "cells": [
  {
   "cell_type": "code",
   "execution_count": 3,
   "metadata": {},
   "outputs": [],
   "source": [
    "import numpy as np"
   ]
  },
  {
   "cell_type": "code",
   "execution_count": 4,
   "metadata": {},
   "outputs": [],
   "source": [
    "#Structured and record arrays are designed for heterogeneous data, while maintaining NumPy's requirement that every element in an array use the same amount of memory space."
   ]
  },
  {
   "cell_type": "code",
   "execution_count": 5,
   "metadata": {},
   "outputs": [
    {
     "data": {
      "text/plain": [
       "[('name', 'S12'), ('height', 'f8'), ('weight', 'i8')]"
      ]
     },
     "execution_count": 5,
     "metadata": {},
     "output_type": "execute_result"
    }
   ],
   "source": [
    "person_data_def=[('name','S12'),('height','f8'),('weight','i8')]\n",
    "#name is string - S12 means takes max 12 chars \n",
    "#height is float f6\n",
    "#weight is int i68\n",
    "person_data_def"
   ]
  },
  {
   "cell_type": "markdown",
   "metadata": {},
   "source": [
    "### Creating structured data array"
   ]
  },
  {
   "cell_type": "code",
   "execution_count": 6,
   "metadata": {},
   "outputs": [
    {
     "data": {
      "text/plain": [
       "array([(b'', 0., 0), (b'', 0., 0), (b'', 0., 0), (b'', 0., 0)],\n",
       "      dtype=[('name', 'S12'), ('height', '<f8'), ('weight', '<i8')])"
      ]
     },
     "execution_count": 6,
     "metadata": {},
     "output_type": "execute_result"
    }
   ],
   "source": [
    "people_array=np.zeros((4),dtype=person_data_def)\n",
    "people_array\n"
   ]
  },
  {
   "cell_type": "code",
   "execution_count": 7,
   "metadata": {},
   "outputs": [],
   "source": [
    "#SO ABOVE we got 4 elements and each has 3 fields\n",
    "#one is b'' which is string\n",
    "#2nd is 0. which is float\n",
    "#3rd is 0 which is int\n"
   ]
  },
  {
   "cell_type": "code",
   "execution_count": 8,
   "metadata": {},
   "outputs": [
    {
     "data": {
      "text/plain": [
       "(b'syam', 5.11, 75)"
      ]
     },
     "execution_count": 8,
     "metadata": {},
     "output_type": "execute_result"
    }
   ],
   "source": [
    "#now lets access and add a element\n",
    "people_array[3]=('syam',5.11,75)\n",
    "people_array[3]\n",
    "#people_array[3].age ##IT FAILS!!We can not do that on structured arrays but it can be done on Record Arrays!! see below\n"
   ]
  },
  {
   "cell_type": "code",
   "execution_count": 9,
   "metadata": {},
   "outputs": [
    {
     "data": {
      "text/plain": [
       "array([(b'', 0.  ,  0), (b'', 0.  ,  0), (b'', 0.  ,  0),\n",
       "       (b'syam', 5.11, 75)],\n",
       "      dtype=[('name', 'S12'), ('height', '<f8'), ('weight', '<i8')])"
      ]
     },
     "execution_count": 9,
     "metadata": {},
     "output_type": "execute_result"
    }
   ],
   "source": [
    "#the other way accessing\n",
    "people_array[0:]#0: means zero through ...till last element or 0:2\n"
   ]
  },
  {
   "cell_type": "code",
   "execution_count": 10,
   "metadata": {},
   "outputs": [
    {
     "data": {
      "text/plain": [
       "array([b'', b'', b'', b'syam'], dtype='|S12')"
      ]
     },
     "execution_count": 10,
     "metadata": {},
     "output_type": "execute_result"
    }
   ],
   "source": [
    "#now how to access the fields\n",
    "names=people_array['name']\n",
    "names\n"
   ]
  },
  {
   "cell_type": "code",
   "execution_count": 11,
   "metadata": {},
   "outputs": [
    {
     "data": {
      "text/plain": [
       "array([b'', b'', b'syam22323232', b'syam'], dtype='|S12')"
      ]
     },
     "execution_count": 11,
     "metadata": {},
     "output_type": "execute_result"
    }
   ],
   "source": [
    "people_array[2]=('syam2232323213232',5.11,75)\n",
    "\n",
    "names\n"
   ]
  },
  {
   "cell_type": "code",
   "execution_count": 12,
   "metadata": {},
   "outputs": [
    {
     "data": {
      "text/plain": [
       "array([0.   , 0.   , 2.555, 2.555])"
      ]
     },
     "execution_count": 12,
     "metadata": {},
     "output_type": "execute_result"
    }
   ],
   "source": [
    "#Lets do mathematical operations on structured arrays\n",
    "heights=people_array['height']\n",
    "new_heights=heights/2\n",
    "new_heights\n",
    "#but above operation wont impact the original array\n"
   ]
  },
  {
   "cell_type": "code",
   "execution_count": 13,
   "metadata": {},
   "outputs": [
    {
     "data": {
      "text/plain": [
       "array([(b'', 0.  ,  0), (b'', 0.  ,  0), (b'syam22323232', 5.11, 75),\n",
       "       (b'syam', 5.11, 75)],\n",
       "      dtype=[('name', 'S12'), ('height', '<f8'), ('weight', '<i8')])"
      ]
     },
     "execution_count": 13,
     "metadata": {},
     "output_type": "execute_result"
    }
   ],
   "source": [
    "people_array"
   ]
  },
  {
   "cell_type": "code",
   "execution_count": 14,
   "metadata": {},
   "outputs": [
    {
     "data": {
      "text/plain": [
       "array([[[(b'', 0., 0), (b'', 0., 0)],\n",
       "        [(b'', 0., 0), (b'', 0., 0)],\n",
       "        [(b'', 0., 0), (b'', 0., 0)]],\n",
       "\n",
       "       [[(b'', 0., 0), (b'', 0., 0)],\n",
       "        [(b'', 0., 0), (b'', 0., 0)],\n",
       "        [(b'', 0., 0), (b'', 0., 0)]],\n",
       "\n",
       "       [[(b'', 0., 0), (b'', 0., 0)],\n",
       "        [(b'', 0., 0), (b'', 0., 0)],\n",
       "        [(b'', 0., 0), (b'', 0., 0)]],\n",
       "\n",
       "       [[(b'', 0., 0), (b'', 0., 0)],\n",
       "        [(b'', 0., 0), (b'', 0., 0)],\n",
       "        [(b'', 0., 0), (b'', 0., 0)]]],\n",
       "      dtype=[('name', 'S12'), ('height', '<f8'), ('weight', '<i8')])"
      ]
     },
     "execution_count": 14,
     "metadata": {},
     "output_type": "execute_result"
    }
   ],
   "source": [
    "### Structured arrays can be multi dimensional also\n",
    "people_big_array=np.zeros((4,3,2),dtype=person_data_def)\n",
    "people_big_array #muli dimensional - 4 2dimesional arrays -   each of which has 3 rows and 2 columns\n",
    "#ie 4 by 3 by 3\n"
   ]
  },
  {
   "cell_type": "code",
   "execution_count": 15,
   "metadata": {},
   "outputs": [
    {
     "data": {
      "text/plain": [
       "array([[[(b'',  0.,  0), (b'',  0.,  0)],\n",
       "        [(b'',  0.,  0), (b'',  0.,  0)],\n",
       "        [(b'',  0.,  0), (b'',  0.,  0)]],\n",
       "\n",
       "       [[(b'',  0.,  0), (b'',  0.,  0)],\n",
       "        [(b'',  0.,  0), (b'',  0.,  0)],\n",
       "        [(b'',  0.,  0), (b'',  0.,  0)]],\n",
       "\n",
       "       [[(b'',  0.,  0), (b'',  0.,  0)],\n",
       "        [(b'',  0.,  0), (b'',  0.,  0)],\n",
       "        [(b'',  0.,  0), (b'',  0.,  0)]],\n",
       "\n",
       "       [[(b'',  0.,  0), (b'',  0.,  0)],\n",
       "        [(b'',  0.,  0), (b'',  0.,  0)],\n",
       "        [(b'',  0.,  0), (b'hello', 70., 69)]]],\n",
       "      dtype=[('name', 'S12'), ('height', '<f8'), ('weight', '<i8')])"
      ]
     },
     "execution_count": 15,
     "metadata": {},
     "output_type": "execute_result"
    }
   ],
   "source": [
    "#we can ordinary index to access and modify\n",
    "people_big_array[3,2,1]=('hello',70.0,69)\n",
    "people_big_array\n"
   ]
  },
  {
   "cell_type": "code",
   "execution_count": 16,
   "metadata": {},
   "outputs": [
    {
     "data": {
      "text/plain": [
       "array([[[b'', b''],\n",
       "        [b'', b''],\n",
       "        [b'', b'']],\n",
       "\n",
       "       [[b'', b''],\n",
       "        [b'', b''],\n",
       "        [b'', b'']],\n",
       "\n",
       "       [[b'', b''],\n",
       "        [b'', b''],\n",
       "        [b'', b'']],\n",
       "\n",
       "       [[b'', b''],\n",
       "        [b'', b''],\n",
       "        [b'', b'hello']]], dtype='|S12')"
      ]
     },
     "execution_count": 16,
     "metadata": {},
     "output_type": "execute_result"
    }
   ],
   "source": [
    "#same like above we can use fields to access values\n",
    "people_big_array['name']\n"
   ]
  },
  {
   "cell_type": "code",
   "execution_count": 17,
   "metadata": {},
   "outputs": [
    {
     "data": {
      "text/plain": [
       "array([[[(b'',  0.), (b'',  0.)],\n",
       "        [(b'',  0.), (b'',  0.)],\n",
       "        [(b'',  0.), (b'',  0.)]],\n",
       "\n",
       "       [[(b'',  0.), (b'',  0.)],\n",
       "        [(b'',  0.), (b'',  0.)],\n",
       "        [(b'',  0.), (b'',  0.)]],\n",
       "\n",
       "       [[(b'',  0.), (b'',  0.)],\n",
       "        [(b'',  0.), (b'',  0.)],\n",
       "        [(b'',  0.), (b'',  0.)]],\n",
       "\n",
       "       [[(b'',  0.), (b'',  0.)],\n",
       "        [(b'',  0.), (b'',  0.)],\n",
       "        [(b'',  0.), (b'hello', 70.)]]],\n",
       "      dtype={'names':['name','height'], 'formats':['S12','<f8'], 'offsets':[0,12], 'itemsize':28})"
      ]
     },
     "execution_count": 17,
     "metadata": {},
     "output_type": "execute_result"
    }
   ],
   "source": [
    "# we can also use more than one name to access data within a multi dimensional arary\n",
    "people_big_array[['name','height']]\n"
   ]
  },
  {
   "cell_type": "markdown",
   "metadata": {},
   "source": [
    "## Record arrays"
   ]
  },
  {
   "cell_type": "code",
   "execution_count": 18,
   "metadata": {},
   "outputs": [],
   "source": [
    "#in addition to structured arrays, numpy also has\n",
    "#Record Arrays\n",
    "#Record arrays are similar to structured arrays but according to NumPy's documentation, record arrays are structured arrays wrapped using a sub-class of ndarray, called numpy.record array. \n"
   ]
  },
  {
   "cell_type": "code",
   "execution_count": 19,
   "metadata": {},
   "outputs": [],
   "source": [
    "#This wrapping allows field access by attribute on an array object. Record arrays are also using a special data type, a numpy.record, which allows field access by attribute on the individual elements with an array.\n",
    "#numpy.record is a thin wrapper around structured arrays. This means that most of the functionality that is available within structured arrays is available without the wrapper. The benefits of the wrapper though accrue, while you are creating code using both Python and NumPy concurrently. If you are new to Python and our NumPy, I suggest that you use structured arrays and return to record arrays at a later time.\n"
   ]
  },
  {
   "cell_type": "code",
   "execution_count": 20,
   "metadata": {},
   "outputs": [
    {
     "data": {
      "text/plain": [
       "rec.array([(b'Delta', 60.2, 90), (b'Charlie', 70.2, 70)],\n",
       "          dtype=[('name', 'S12'), ('height', '<f8'), ('weight', '<i8')])"
      ]
     },
     "execution_count": 20,
     "metadata": {},
     "output_type": "execute_result"
    }
   ],
   "source": [
    "##Using NumPy's record array function\n",
    "person_record_array=np.rec.array([('Delta',60.2,90),('Charlie',70.2,70)],dtype=person_data_def)\n",
    "person_record_array#output looks similar to structured array\n",
    "#major diff is it is DISPLAYED as rec.array([(......\n"
   ]
  },
  {
   "cell_type": "code",
   "execution_count": 21,
   "metadata": {},
   "outputs": [
    {
     "data": {
      "text/plain": [
       "b'Delta'"
      ]
     },
     "execution_count": 21,
     "metadata": {},
     "output_type": "execute_result"
    }
   ],
   "source": [
    "#The reason that this is important, is that I can use the person_record_array, and now I can select the first element and instead of using an index like height or weight, that I used above, I'm going to use an attribute. \n",
    "person_record_array[0].name\n"
   ]
  },
  {
   "cell_type": "code",
   "execution_count": 23,
   "metadata": {},
   "outputs": [
    {
     "data": {
      "text/plain": [
       "b''"
      ]
     },
     "execution_count": 23,
     "metadata": {},
     "output_type": "execute_result"
    }
   ],
   "source": [
    "\n",
    "#but you can access like below from structured\n",
    "people_array[0]['name']\n",
    "#not\n",
    "#people_array[0].name"
   ]
  },
  {
   "cell_type": "code",
   "execution_count": null,
   "metadata": {},
   "outputs": [],
   "source": []
  }
 ],
 "metadata": {
  "kernelspec": {
   "display_name": "Python 3",
   "language": "python",
   "name": "python3"
  },
  "language_info": {
   "codemirror_mode": {
    "name": "ipython",
    "version": 3
   },
   "file_extension": ".py",
   "mimetype": "text/x-python",
   "name": "python",
   "nbconvert_exporter": "python",
   "pygments_lexer": "ipython3",
   "version": "3.6.4"
  }
 },
 "nbformat": 4,
 "nbformat_minor": 2
}
