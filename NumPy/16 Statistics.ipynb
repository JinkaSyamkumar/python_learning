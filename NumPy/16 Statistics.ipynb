{
 "cells": [
  {
   "cell_type": "markdown",
   "metadata": {},
   "source": [
    "# Satistics\n",
    "\n",
    "- import statistical methods\n",
    "- find information about statistical methods\n",
    "- perform rudimentry statistical operations\n",
    "- plot output from statistical operations"
   ]
  },
  {
   "cell_type": "code",
   "execution_count": 2,
   "metadata": {},
   "outputs": [],
   "source": [
    "%matplotlib inline\n",
    "import scipy as sp\n",
    "import numpy as np\n",
    "import matplotlib.pyplot as plt\n",
    "\n",
    "from scipy.stats import norm"
   ]
  },
  {
   "cell_type": "markdown",
   "metadata": {},
   "source": [
    "#### sample data set"
   ]
  },
  {
   "cell_type": "code",
   "execution_count": 13,
   "metadata": {},
   "outputs": [
    {
     "data": {
      "text/plain": [
       "numpy.ndarray"
      ]
     },
     "execution_count": 13,
     "metadata": {},
     "output_type": "execute_result"
    }
   ],
   "source": [
    "number_of_data_plots=10000 #larger the number..more close to zero is the mean..instead\n",
    "#of 99..if you keep 10000 mean will be much more closer\n",
    "random_data_set = sp.randn(number_of_data_plots)\n",
    "type(random_data_set) #we are using scipy and the array is of numpy ndarray only"
   ]
  },
  {
   "cell_type": "code",
   "execution_count": 14,
   "metadata": {},
   "outputs": [],
   "source": [
    "#The first descriptive statistic that we look at is mean"
   ]
  },
  {
   "cell_type": "markdown",
   "metadata": {},
   "source": [
    "#### 1.mean & median\n",
    "\n",
    "- The mean is the sum of all the numbers in the set divided by the amount of numbers in the set. like the AVERAGE value\n",
    "- The median is the middle point of a number set, in which half the numbers are above the median and half are below. - CENTER Value\n"
   ]
  },
  {
   "cell_type": "code",
   "execution_count": 17,
   "metadata": {},
   "outputs": [
    {
     "data": {
      "text/plain": [
       "0.002435883569838029"
      ]
     },
     "execution_count": 17,
     "metadata": {},
     "output_type": "execute_result"
    }
   ],
   "source": [
    "# we can access it by mean() function\n",
    "#larger the random no..closer the mean to zero\n",
    "#This follows the law of large numbers.\n",
    "#The more data points that are in our random sample, \n",
    "#the closer that the mean of the sample will be to the mean of \n",
    "#the population.\n",
    "random_data_set.mean()\n",
    "#In this case, the population is all random numbers that follow \n",
    "#a Gaussian normal distribution."
   ]
  },
  {
   "cell_type": "code",
   "execution_count": 18,
   "metadata": {},
   "outputs": [
    {
     "data": {
      "text/plain": [
       "0.009189431009891998"
      ]
     },
     "execution_count": 18,
     "metadata": {},
     "output_type": "execute_result"
    }
   ],
   "source": [
    "sp.median(random_data_set)"
   ]
  },
  {
   "cell_type": "markdown",
   "metadata": {},
   "source": [
    "#### 2.min and max"
   ]
  },
  {
   "cell_type": "code",
   "execution_count": 19,
   "metadata": {},
   "outputs": [
    {
     "data": {
      "text/plain": [
       "array([-3.70651065,  4.09128771])"
      ]
     },
     "execution_count": 19,
     "metadata": {},
     "output_type": "execute_result"
    }
   ],
   "source": [
    "min_max=np.array([random_data_set.min(),random_data_set.max()])\n",
    "min_max"
   ]
  },
  {
   "cell_type": "markdown",
   "metadata": {},
   "source": [
    "#### 3.measuring spread\n",
    "- measuring standard deviation and variance"
   ]
  },
  {
   "cell_type": "code",
   "execution_count": 21,
   "metadata": {},
   "outputs": [
    {
     "data": {
      "text/plain": [
       "array([1.00135498, 1.0027118 ])"
      ]
     },
     "execution_count": 21,
     "metadata": {},
     "output_type": "execute_result"
    }
   ],
   "source": [
    "spread_measures = np.array([sp.std(random_data_set),sp.var(random_data_set)])\n",
    "spread_measures"
   ]
  },
  {
   "cell_type": "markdown",
   "metadata": {},
   "source": [
    "#### displaying all the stats"
   ]
  },
  {
   "cell_type": "code",
   "execution_count": 24,
   "metadata": {},
   "outputs": [
    {
     "data": {
      "text/plain": [
       "DescribeResult(nobs=10000, minmax=(-3.7065106480024532, 4.091287709241047), mean=0.002435883569838029, variance=1.0028120858234053, skewness=-0.006231409872019914, kurtosis=0.0007747062672964766)"
      ]
     },
     "execution_count": 24,
     "metadata": {},
     "output_type": "execute_result"
    }
   ],
   "source": [
    "sp.stats.describe(random_data_set)"
   ]
  },
  {
   "cell_type": "markdown",
   "metadata": {},
   "source": [
    "# Probability Distributions\n",
    "\n",
    "- Continuous distributions\n",
    "    - Normal distribution: norm\n",
    "    - Chi squared distribution:chi2\n",
    "    - Students distribution T:1\n",
    "    - Uniform distribution : uniform\n",
    "- Discrete districutions\n",
    "    - Poisson distribution: poisson\n",
    "    - Binominal distribution : binominal"
   ]
  },
  {
   "cell_type": "markdown",
   "metadata": {},
   "source": [
    "# Normal Distribution\n",
    "\n",
    "- norm generates normal distribution\n",
    "- The RVS method generates a random variate from a distribution."
   ]
  },
  {
   "cell_type": "code",
   "execution_count": 30,
   "metadata": {},
   "outputs": [
    {
     "name": "stdout",
     "output_type": "stream",
     "text": [
      "116.74\n",
      " 94.89\n",
      " 94.23\n",
      " 82.07\n",
      "105.27\n",
      " 98.47\n",
      " 90.22\n",
      " 80.34\n"
     ]
    }
   ],
   "source": [
    "iq_mean = 100\n",
    "iq_std_dev=15\n",
    "iq_distribution = norm(loc=iq_mean, scale=iq_std_dev) #generates Normal Distribution\n",
    "\n",
    "for n in np.arange(8):\n",
    "    print('{:6.2f}'.format(iq_distribution.rvs()))"
   ]
  },
  {
   "cell_type": "markdown",
   "metadata": {},
   "source": [
    "## generating histogram from IQ distribution"
   ]
  },
  {
   "cell_type": "code",
   "execution_count": 34,
   "metadata": {},
   "outputs": [
    {
     "data": {
      "image/png": "[encoded data removed]",
      "text/plain": [
       "<matplotlib.figure.Figure at 0x1145e3f60>"
      ]
     },
     "metadata": {},
     "output_type": "display_data"
    }
   ],
   "source": [
    "#Creating Histogram\n",
    "import numpy as np\n",
    "import matplotlib.pyplot as plt\n",
    "\n",
    "#Mu is a Greek letter often assigned to the mean of a statistical distribution and\n",
    "#Sigma is a Greek letter assigned to a standard deviation\n",
    "mu, sigma=100, 15 # making use of pythons multiple assignment capability\n",
    "data_set = mu + sigma * np.random.randn(10000)\n",
    "#above is random generates 10k data points and then these datapoints\n",
    "#are randomly distributed with a mean of 100 and standard deviation of 15\n",
    "\n",
    "# the histogram of the data\n",
    "n, bins, patches = plt.hist(data_set, 50, normed=1, facecolor='g', alpha=0.75)\n",
    "\n",
    "plt.xlabel('Smarts')\n",
    "plt.ylabel('Probability')\n",
    "plt.title('Histogram of IQ')\n",
    "plt.text(60, .025, r'$\\mu=100,\\ \\sigma=15$')\n",
    "plt.axis([40, 160, 0, 0.03])\n",
    "plt.grid(True)\n",
    "plt.show()"
   ]
  },
  {
   "cell_type": "code",
   "execution_count": null,
   "metadata": {},
   "outputs": [],
   "source": []
  }
 ],
 "metadata": {
  "kernelspec": {
   "display_name": "Python 3",
   "language": "python",
   "name": "python3"
  },
  "language_info": {
   "codemirror_mode": {
    "name": "ipython",
    "version": 3
   },
   "file_extension": ".py",
   "mimetype": "text/x-python",
   "name": "python",
   "nbconvert_exporter": "python",
   "pygments_lexer": "ipython3",
   "version": "3.6.4"
  }
 },
 "nbformat": 4,
 "nbformat_minor": 2
}
