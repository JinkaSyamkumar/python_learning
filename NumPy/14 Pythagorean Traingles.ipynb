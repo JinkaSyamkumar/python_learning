{
 "cells": [
  {
   "cell_type": "markdown",
   "metadata": {},
   "source": [
    "# Pythagorean Traingles"
   ]
  },
  {
   "cell_type": "code",
   "execution_count": 1,
   "metadata": {},
   "outputs": [],
   "source": [
    "import numpy as np"
   ]
  },
  {
   "cell_type": "code",
   "execution_count": 3,
   "metadata": {},
   "outputs": [],
   "source": [
    "def is_integer(x):\n",
    "    return np.equal(np.mod(x,1),0)"
   ]
  },
  {
   "cell_type": "code",
   "execution_count": 4,
   "metadata": {},
   "outputs": [],
   "source": [
    "#creating numpy universal function\n",
    "numpy_is_integer = np.frompyfunc(is_integer,1,1)"
   ]
  },
  {
   "cell_type": "markdown",
   "metadata": {},
   "source": [
    "<right>Pythagorean Traingle Formula:</right>\n",
    "$$ X^n + Y^n = Z^n $$ \n",
    "<br></br>\n",
    "$$ X^2 + Y^2 = Z^2 $$ "
   ]
  },
  {
   "cell_type": "code",
   "execution_count": 11,
   "metadata": {},
   "outputs": [],
   "source": [
    "#there are no integer solutions to this equation. for x^n+y^n =z^n\n",
    "#Added square it makes pythagorean traiangle formula"
   ]
  },
  {
   "cell_type": "code",
   "execution_count": 12,
   "metadata": {},
   "outputs": [],
   "source": [
    "#Pythagorean triangles are right triangles.\n",
    "#That is, they contain a 90 degree right angle,\n",
    "#where x is the base of the triangle,\n",
    "#y is the height of the triangle, \n",
    "#and z is the hypotenuse of the triangles."
   ]
  },
  {
   "cell_type": "markdown",
   "metadata": {},
   "source": [
    "#### Pythagorean Triples"
   ]
  },
  {
   "cell_type": "code",
   "execution_count": 15,
   "metadata": {},
   "outputs": [],
   "source": [
    "#Pythagorean triples are Pythagorean triangles, \n",
    "#where x, y, and z are integers."
   ]
  },
  {
   "cell_type": "code",
   "execution_count": 16,
   "metadata": {},
   "outputs": [
    {
     "data": {
      "text/plain": [
       "array([[False, False, False, False, False, False, False, False, False],\n",
       "       [False, False, False, False, False, False, False, False, False],\n",
       "       [False, False, False, True, False, False, False, False, False],\n",
       "       [False, False, True, False, False, False, False, False, False],\n",
       "       [False, False, False, False, False, False, False, False, False],\n",
       "       [False, False, False, False, False, False, False, True, False],\n",
       "       [False, False, False, False, False, False, False, False, False],\n",
       "       [False, False, False, False, False, True, False, False, False],\n",
       "       [False, False, False, False, False, False, False, False, False]],\n",
       "      dtype=object)"
      ]
     },
     "execution_count": 16,
     "metadata": {},
     "output_type": "execute_result"
    }
   ],
   "source": [
    "number_of_traingles=9\n",
    "base=np.arange(number_of_traingles)+1 # we are adding 1 bcoz arange generates from 0 we dont want traingles with zero height\n",
    "height=np.arange(number_of_traingles)+1\n",
    "\n",
    "hypotenuse_squared=np.add.outer(base **2, height**2)\n",
    "hypotenuse = np.sqrt(hypotenuse_squared)\n",
    "\n",
    "numpy_is_integer(hypotenuse)  \n",
    "#We can look at this array,\n",
    "#and most of the values are false. (some are true)\n",
    "#This means that most of the possible triangles \n",
    "#do not have integer values."
   ]
  },
  {
   "cell_type": "code",
   "execution_count": 17,
   "metadata": {},
   "outputs": [
    {
     "data": {
      "text/plain": [
       "array([[ 1.41421356,  2.23606798,  3.16227766,  4.12310563,  5.09901951,\n",
       "         6.08276253,  7.07106781,  8.06225775,  9.05538514],\n",
       "       [ 2.23606798,  2.82842712,  3.60555128,  4.47213595,  5.38516481,\n",
       "         6.32455532,  7.28010989,  8.24621125,  9.21954446],\n",
       "       [ 3.16227766,  3.60555128,  4.24264069,  5.        ,  5.83095189,\n",
       "         6.70820393,  7.61577311,  8.54400375,  9.48683298],\n",
       "       [ 4.12310563,  4.47213595,  5.        ,  5.65685425,  6.40312424,\n",
       "         7.21110255,  8.06225775,  8.94427191,  9.8488578 ],\n",
       "       [ 5.09901951,  5.38516481,  5.83095189,  6.40312424,  7.07106781,\n",
       "         7.81024968,  8.60232527,  9.43398113, 10.29563014],\n",
       "       [ 6.08276253,  6.32455532,  6.70820393,  7.21110255,  7.81024968,\n",
       "         8.48528137,  9.21954446, 10.        , 10.81665383],\n",
       "       [ 7.07106781,  7.28010989,  7.61577311,  8.06225775,  8.60232527,\n",
       "         9.21954446,  9.89949494, 10.63014581, 11.40175425],\n",
       "       [ 8.06225775,  8.24621125,  8.54400375,  8.94427191,  9.43398113,\n",
       "        10.        , 10.63014581, 11.3137085 , 12.04159458],\n",
       "       [ 9.05538514,  9.21954446,  9.48683298,  9.8488578 , 10.29563014,\n",
       "        10.81665383, 11.40175425, 12.04159458, 12.72792206]])"
      ]
     },
     "execution_count": 17,
     "metadata": {},
     "output_type": "execute_result"
    }
   ],
   "source": [
    "hypotenuse"
   ]
  },
  {
   "cell_type": "markdown",
   "metadata": {},
   "source": [
    "#### Incidentally, you don't have to go through this method to find integer values. You can use this formula\n",
    "\n",
    "$$ X=m^2-n^2; Y=2mn; Z=m^2+n^2 $$\n",
    "\n",
    "- This will find Pythagorean triples for any positive integers m and n"
   ]
  },
  {
   "cell_type": "code",
   "execution_count": 18,
   "metadata": {},
   "outputs": [],
   "source": [
    "X= 16- 9\n",
    "Y=2*4*3\n",
    "Z=16+9"
   ]
  },
  {
   "cell_type": "code",
   "execution_count": 19,
   "metadata": {},
   "outputs": [
    {
     "data": {
      "text/plain": [
       "7"
      ]
     },
     "execution_count": 19,
     "metadata": {},
     "output_type": "execute_result"
    }
   ],
   "source": [
    "X"
   ]
  },
  {
   "cell_type": "code",
   "execution_count": 20,
   "metadata": {},
   "outputs": [
    {
     "data": {
      "text/plain": [
       "24"
      ]
     },
     "execution_count": 20,
     "metadata": {},
     "output_type": "execute_result"
    }
   ],
   "source": [
    "Y"
   ]
  },
  {
   "cell_type": "code",
   "execution_count": 21,
   "metadata": {},
   "outputs": [
    {
     "data": {
      "text/plain": [
       "25"
      ]
     },
     "execution_count": 21,
     "metadata": {},
     "output_type": "execute_result"
    }
   ],
   "source": [
    "Z"
   ]
  },
  {
   "cell_type": "code",
   "execution_count": 27,
   "metadata": {},
   "outputs": [
    {
     "data": {
      "text/plain": [
       "625"
      ]
     },
     "execution_count": 27,
     "metadata": {},
     "output_type": "execute_result"
    }
   ],
   "source": [
    "7**2 + 24**2"
   ]
  },
  {
   "cell_type": "code",
   "execution_count": 29,
   "metadata": {},
   "outputs": [
    {
     "data": {
      "text/plain": [
       "625"
      ]
     },
     "execution_count": 29,
     "metadata": {},
     "output_type": "execute_result"
    }
   ],
   "source": [
    "25**2"
   ]
  },
  {
   "cell_type": "code",
   "execution_count": 30,
   "metadata": {},
   "outputs": [],
   "source": [
    "## so above equals"
   ]
  },
  {
   "cell_type": "code",
   "execution_count": null,
   "metadata": {},
   "outputs": [],
   "source": []
  }
 ],
 "metadata": {
  "kernelspec": {
   "display_name": "Python 3",
   "language": "python",
   "name": "python3"
  },
  "language_info": {
   "codemirror_mode": {
    "name": "ipython",
    "version": 3
   },
   "file_extension": ".py",
   "mimetype": "text/x-python",
   "name": "python",
   "nbconvert_exporter": "python",
   "pygments_lexer": "ipython3",
   "version": "3.6.4"
  }
 },
 "nbformat": 4,
 "nbformat_minor": 2
}
