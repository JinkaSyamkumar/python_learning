{
 "cells": [
  {
   "cell_type": "markdown",
   "metadata": {},
   "source": [
    "##### First one - Below shows the creation of closure function wish using the higher order function outer"
   ]
  },
  {
   "cell_type": "code",
   "execution_count": 1,
   "metadata": {},
   "outputs": [
    {
     "name": "stdout",
     "output_type": "stream",
     "text": [
      "Accessing : greet\n"
     ]
    },
    {
     "data": {
      "text/plain": [
       "'Hello!'"
      ]
     },
     "execution_count": 1,
     "metadata": {},
     "output_type": "execute_result"
    }
   ],
   "source": [
    "def outer(func):\n",
    "    def inner():\n",
    "        print(\"Accessing :\", \n",
    "                  func.__name__)\n",
    "        return func()\n",
    "    return inner\n",
    "\n",
    "def greet():\n",
    "    return 'Hello!'\n",
    "\n",
    "wish = outer(greet)\n",
    "wish()"
   ]
  },
  {
   "cell_type": "code",
   "execution_count": 2,
   "metadata": {},
   "outputs": [
    {
     "name": "stdout",
     "output_type": "stream",
     "text": [
      "Accessing : greet\n"
     ]
    },
    {
     "data": {
      "text/plain": [
       "'Hello!'"
      ]
     },
     "execution_count": 2,
     "metadata": {},
     "output_type": "execute_result"
    }
   ],
   "source": [
    "\n",
    "def outer(func):\n",
    "    def inner():\n",
    "        print(\"Accessing :\", \n",
    "                  func.__name__)\n",
    "        return func()\n",
    "    return inner\n",
    "\n",
    "def greet():\n",
    "    return 'Hello!'\n",
    "\n",
    "greet = outer(greet) # decorating 'greet'\n",
    "\n",
    "greet()  # calling new 'greet"
   ]
  },
  {
   "cell_type": "code",
   "execution_count": 3,
   "metadata": {},
   "outputs": [
    {
     "name": "stdout",
     "output_type": "stream",
     "text": [
      "Accessing : greet\n"
     ]
    },
    {
     "data": {
      "text/plain": [
       "'Hello!'"
      ]
     },
     "execution_count": 3,
     "metadata": {},
     "output_type": "execute_result"
    }
   ],
   "source": [
    "def outer(func):\n",
    "    def inner():\n",
    "        print(\"Accessing :\", \n",
    "                func.__name__)\n",
    "        return func()\n",
    "    return inner\n",
    "\n",
    "@outer\n",
    "def greet():\n",
    "    return 'Hello!'\n",
    "\n",
    "greet()"
   ]
  },
  {
   "cell_type": "markdown",
   "metadata": {},
   "source": [
    "##### exam"
   ]
  },
  {
   "cell_type": "code",
   "execution_count": 5,
   "metadata": {},
   "outputs": [
    {
     "name": "stdout",
     "output_type": "stream",
     "text": [
      "Accessed the function -'greet' with arguments ('hello',) {}"
     ]
    },
    {
     "data": {
      "text/plain": [
       "\"Accessed the function -'greet' with arguments ('hello',) {}\""
      ]
     },
     "execution_count": 5,
     "metadata": {},
     "output_type": "execute_result"
    }
   ],
   "source": [
    "#1\n",
    "import sys\n",
    "def log(func):\n",
    "    def inner(*args, **kwdargs):\n",
    "        str='Accessed the function -\\'{}\\' with arguments {} {}'.format(func.__name__,args,kwdargs)\n",
    "        sys.stdout.write('Accessed the function -\\'{}\\' with arguments {} {}'.format(func.__name__,args,kwdargs))\n",
    "        return str\n",
    "    return inner\n",
    "@log \n",
    "def greet(msg):\n",
    "    'Greeting Message : ' + msg\n",
    "greet('hello')"
   ]
  },
  {
   "cell_type": "code",
   "execution_count": null,
   "metadata": {},
   "outputs": [],
   "source": [
    "#2\n",
    "def log(func):\n",
    "    def inner(*args, **kwdargs):\n",
    "        str_template = \"Accessed the function -'{}' with arguments {} {}\".format(func.__name__,args,kwdargs)\n",
    "        sys.stdout.write(\"Accessed the function -'{}' with arguments {} {}\".format(func.__name__,args,kwdargs))\n",
    "        return str_template + \"\\n\" + str(func(*args, **kwdargs))\n",
    "    return inner\n",
    "\n",
    "#Add greet function definition here\n",
    "@log\n",
    "def average(n1,n2,n3):\n",
    "    return (n1+n2+n3)/3\n",
    "average(3,8,16)"
   ]
  },
  {
   "cell_type": "code",
   "execution_count": 7,
   "metadata": {},
   "outputs": [],
   "source": [
    "#3\n",
    "#Define and implement bold_tag\n",
    "def bold_tag(fn):\n",
    "    def inner(*args, **kwdargs):\n",
    "        return \"<b>\" + fn(*args, **kwdargs) + \"</b>\"\n",
    "    return inner\n",
    "@bold_tag  \n",
    "def say(msg):\n",
    "    return msg"
   ]
  },
  {
   "cell_type": "code",
   "execution_count": 8,
   "metadata": {},
   "outputs": [],
   "source": [
    "#4\n",
    "def bold_tag(func):\n",
    "    \n",
    "    def inner(*args, **kwdargs):\n",
    "        return '<b>'+func(*args, **kwdargs)+'</b>'\n",
    "        \n",
    "    return inner\n",
    "\n",
    "#Implement italic_tag below\n",
    "def italic_tag(func):\n",
    "    \n",
    "    def inner(*args, **kwdargs):\n",
    "        return '<i>'+func(*args, **kwdargs)+'</i>'\n",
    "        \n",
    "    return inner\n",
    "@italic_tag\n",
    "def say(msg):\n",
    "    return msg"
   ]
  },
  {
   "cell_type": "code",
   "execution_count": 9,
   "metadata": {},
   "outputs": [],
   "source": [
    "#5 - 2nd attempt\n",
    "def bold_tag(func):\n",
    "    \n",
    "    def inner(*args, **kwdargs):\n",
    "        return '<b>'+func(*args, **kwdargs)+'</b>'\n",
    "        \n",
    "    return inner\n",
    "\n",
    "def italic_tag(func):\n",
    "    \n",
    "    def inner(*args, **kwdargs):\n",
    "        return '<i>'+func(*args, **kwdargs)+'</i>'\n",
    "        \n",
    "    return inner\n",
    "    \n",
    "#Add greet() function definition\n",
    "@italic_tag\n",
    "def greet():\n",
    "    return sys.stdin.readline()"
   ]
  },
  {
   "cell_type": "code",
   "execution_count": 10,
   "metadata": {},
   "outputs": [],
   "source": [
    "#6 - 2nd attempt\n",
    "def bold_tag(func):\n",
    "    \n",
    "    def inner(*args, **kwdargs):\n",
    "        return '<b>'+func(*args, **kwdargs)+'</b>'\n",
    "        \n",
    "    return inner\n",
    "\n",
    "def italic_tag(func):\n",
    "    \n",
    "    def inner(*args, **kwdargs):\n",
    "        return '<i>'+func(*args, **kwdargs)+'</i>'\n",
    "        \n",
    "    return inner\n",
    "    \n",
    "#Add greet() implementation here\n",
    "\n",
    "@italic_tag\n",
    "@bold_tag\n",
    "def greet():\n",
    "    return sys.stdin.readline()"
   ]
  },
  {
   "cell_type": "code",
   "execution_count": 17,
   "metadata": {},
   "outputs": [
    {
     "name": "stdout",
     "output_type": "stream",
     "text": [
      "wrapper\n",
      "0.25\n",
      "oops! cannot divide\n"
     ]
    },
    {
     "ename": "ZeroDivisionError",
     "evalue": "division by zero",
     "output_type": "error",
     "traceback": [
      "\u001b[0;31m---------------------------------------------------------------------------\u001b[0m",
      "\u001b[0;31mZeroDivisionError\u001b[0m                         Traceback (most recent call last)",
      "\u001b[0;32m<ipython-input-17-de26711f0720>\u001b[0m in \u001b[0;36m<module>\u001b[0;34m()\u001b[0m\n\u001b[1;32m     12\u001b[0m \u001b[0mprint\u001b[0m\u001b[0;34m(\u001b[0m\u001b[0mdivide\u001b[0m\u001b[0;34m.\u001b[0m\u001b[0m__name__\u001b[0m\u001b[0;34m)\u001b[0m\u001b[0;34m\u001b[0m\u001b[0m\n\u001b[1;32m     13\u001b[0m \u001b[0mprint\u001b[0m\u001b[0;34m(\u001b[0m\u001b[0mdivide\u001b[0m\u001b[0;34m(\u001b[0m\u001b[0;36m4\u001b[0m\u001b[0;34m,\u001b[0m \u001b[0;36m16\u001b[0m\u001b[0;34m)\u001b[0m\u001b[0;34m)\u001b[0m\u001b[0;34m\u001b[0m\u001b[0m\n\u001b[0;32m---> 14\u001b[0;31m \u001b[0mprint\u001b[0m\u001b[0;34m(\u001b[0m\u001b[0mdivide\u001b[0m\u001b[0;34m(\u001b[0m\u001b[0;36m8\u001b[0m\u001b[0;34m,\u001b[0m\u001b[0;36m0\u001b[0m\u001b[0;34m)\u001b[0m\u001b[0;34m)\u001b[0m\u001b[0;34m\u001b[0m\u001b[0m\n\u001b[0m",
      "\u001b[0;32m<ipython-input-17-de26711f0720>\u001b[0m in \u001b[0;36mwrapper\u001b[0;34m(*args)\u001b[0m\n\u001b[1;32m      4\u001b[0m         \u001b[0;32mif\u001b[0m \u001b[0mb\u001b[0m \u001b[0;34m==\u001b[0m \u001b[0;36m0\u001b[0m\u001b[0;34m:\u001b[0m\u001b[0;34m\u001b[0m\u001b[0m\n\u001b[1;32m      5\u001b[0m             \u001b[0mprint\u001b[0m\u001b[0;34m(\u001b[0m\u001b[0;34m'oops! cannot divide'\u001b[0m\u001b[0;34m)\u001b[0m\u001b[0;34m\u001b[0m\u001b[0m\n\u001b[0;32m----> 6\u001b[0;31m         \u001b[0;32mreturn\u001b[0m \u001b[0mfunc\u001b[0m\u001b[0;34m(\u001b[0m\u001b[0;34m*\u001b[0m\u001b[0margs\u001b[0m\u001b[0;34m)\u001b[0m\u001b[0;34m\u001b[0m\u001b[0m\n\u001b[0m\u001b[1;32m      7\u001b[0m     \u001b[0;32mreturn\u001b[0m \u001b[0mwrapper\u001b[0m\u001b[0;34m\u001b[0m\u001b[0m\n\u001b[1;32m      8\u001b[0m \u001b[0;34m\u001b[0m\u001b[0m\n",
      "\u001b[0;32m<ipython-input-17-de26711f0720>\u001b[0m in \u001b[0;36mdivide\u001b[0;34m(a, b)\u001b[0m\n\u001b[1;32m      9\u001b[0m \u001b[0;34m@\u001b[0m\u001b[0msmart_divide\u001b[0m\u001b[0;34m\u001b[0m\u001b[0m\n\u001b[1;32m     10\u001b[0m \u001b[0;32mdef\u001b[0m \u001b[0mdivide\u001b[0m\u001b[0;34m(\u001b[0m\u001b[0ma\u001b[0m\u001b[0;34m,\u001b[0m \u001b[0mb\u001b[0m\u001b[0;34m)\u001b[0m\u001b[0;34m:\u001b[0m\u001b[0;34m\u001b[0m\u001b[0m\n\u001b[0;32m---> 11\u001b[0;31m     \u001b[0;32mreturn\u001b[0m \u001b[0ma\u001b[0m \u001b[0;34m/\u001b[0m \u001b[0mb\u001b[0m\u001b[0;34m\u001b[0m\u001b[0m\n\u001b[0m\u001b[1;32m     12\u001b[0m \u001b[0mprint\u001b[0m\u001b[0;34m(\u001b[0m\u001b[0mdivide\u001b[0m\u001b[0;34m.\u001b[0m\u001b[0m__name__\u001b[0m\u001b[0;34m)\u001b[0m\u001b[0;34m\u001b[0m\u001b[0m\n\u001b[1;32m     13\u001b[0m \u001b[0mprint\u001b[0m\u001b[0;34m(\u001b[0m\u001b[0mdivide\u001b[0m\u001b[0;34m(\u001b[0m\u001b[0;36m4\u001b[0m\u001b[0;34m,\u001b[0m \u001b[0;36m16\u001b[0m\u001b[0;34m)\u001b[0m\u001b[0;34m)\u001b[0m\u001b[0;34m\u001b[0m\u001b[0m\n",
      "\u001b[0;31mZeroDivisionError\u001b[0m: division by zero"
     ]
    }
   ],
   "source": [
    "def smart_divide(func): \n",
    "    def wrapper(*args): \n",
    "        a, b = args\n",
    "        if b == 0: \n",
    "            print('oops! cannot divide') \n",
    "        return func(*args)\n",
    "    return wrapper\n",
    "\n",
    "@smart_divide \n",
    "def divide(a, b): \n",
    "    return a / b\n",
    "print(divide.__name__) \n",
    "print(divide(4, 16))\n",
    "print(divide(8,0))\n",
    "#Answer\n",
    "wrapper\n",
    "# 0.25\n",
    "# oops! cannot divide\n",
    "# None"
   ]
  },
  {
   "cell_type": "code",
   "execution_count": 18,
   "metadata": {},
   "outputs": [
    {
     "name": "stdout",
     "output_type": "stream",
     "text": [
      "square\n"
     ]
    }
   ],
   "source": [
    "def decorator_func(func):\n",
    "    def wrapper(*args, **kwdargs):\n",
    "        return func(*args, **kwdargs)\n",
    "    wrapper.__name__ = func.__name__\n",
    "    return wrapper\n",
    "\n",
    "\n",
    "@decorator_func\n",
    "def square(x):\n",
    "    return x**2\n",
    "\n",
    "print(square.__name__)"
   ]
  },
  {
   "cell_type": "code",
   "execution_count": 27,
   "metadata": {},
   "outputs": [
    {
     "name": "stdout",
     "output_type": "stream",
     "text": [
      "***\n",
      "%%%\n",
      "Hello\n",
      "%%%\n",
      "***\n"
     ]
    }
   ],
   "source": [
    "def star(func): \n",
    "    def inner(*args, **kwargs): \n",
    "        print(\"*\" * 3) \n",
    "        func(*args, **kwargs) \n",
    "        print(\"*\" * 3) \n",
    "    return inner\n",
    "\n",
    "def percent(func): \n",
    "    def inner(*args, **kwargs): \n",
    "        print(\"%\" * 3) \n",
    "        func(*args, **kwargs) \n",
    "        print(\"%\" * 3) \n",
    "    return inner\n",
    "\n",
    "@star \n",
    "@percent \n",
    "def printer(msg): \n",
    "    print(msg) \n",
    "printer(\"Hello\")"
   ]
  },
  {
   "cell_type": "code",
   "execution_count": 28,
   "metadata": {},
   "outputs": [
    {
     "name": "stderr",
     "output_type": "stream",
     "text": [
      "UsageError: Cell magic `%%` not found.\n"
     ]
    }
   ],
   "source": [
    "%%%\n",
    "***\n",
    "Hello\n",
    "%%%\n",
    "***"
   ]
  },
  {
   "cell_type": "code",
   "execution_count": 29,
   "metadata": {},
   "outputs": [
    {
     "name": "stdout",
     "output_type": "stream",
     "text": [
      "13\n",
      "9\n"
     ]
    }
   ],
   "source": [
    "def bind(func):\n",
    "    func.data = 9\n",
    "    return func\n",
    "\n",
    "@bind\n",
    "def add(x, y):\n",
    "    return x + y\n",
    "\n",
    "print(add(3, 10))\n",
    "print(add.data)"
   ]
  },
  {
   "cell_type": "code",
   "execution_count": 37,
   "metadata": {},
   "outputs": [
    {
     "name": "stdout",
     "output_type": "stream",
     "text": [
      "square\n"
     ]
    }
   ],
   "source": [
    "def decorator_func(func):\n",
    "    def wrapper(*args, **kwdargs):\n",
    "        return func(*args, **kwdargs)\n",
    "    wrapper.__name__ = func.__name__\n",
    "    return wrapper\n",
    "\n",
    "\n",
    "@decorator_func\n",
    "def square(x):\n",
    "    return x**2\n",
    "\n",
    "print(square.__name__)"
   ]
  },
  {
   "cell_type": "code",
   "execution_count": 38,
   "metadata": {},
   "outputs": [
    {
     "name": "stdout",
     "output_type": "stream",
     "text": [
      "square\n"
     ]
    }
   ],
   "source": [
    "from functools import wraps\n",
    "\n",
    "def decorator_func(func):\n",
    "    @wraps(func)\n",
    "    def wrapper(*args, **kwargs):\n",
    "        return func(*args, **kwargs)\n",
    "    return wrapper\n",
    "\n",
    "@decorator_func\n",
    "def square(x):\n",
    "    return x**2\n",
    "\n",
    "print(square.__name__\n",
    "      \n",
    "      \n",
    "#answer is wrapper"
   ]
  },
  {
   "cell_type": "code",
   "execution_count": null,
   "metadata": {},
   "outputs": [],
   "source": []
  }
 ],
 "metadata": {
  "kernelspec": {
   "display_name": "Python 3",
   "language": "python",
   "name": "python3"
  },
  "language_info": {
   "codemirror_mode": {
    "name": "ipython",
    "version": 3
   },
   "file_extension": ".py",
   "mimetype": "text/x-python",
   "name": "python",
   "nbconvert_exporter": "python",
   "pygments_lexer": "ipython3",
   "version": "3.6.4"
  }
 },
 "nbformat": 4,
 "nbformat_minor": 2
}
