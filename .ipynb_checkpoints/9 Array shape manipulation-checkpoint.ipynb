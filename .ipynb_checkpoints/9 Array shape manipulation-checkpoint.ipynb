{
 "cells": [
  {
   "cell_type": "markdown",
   "metadata": {},
   "source": [
    "# Array Shape Manipulation\n",
    "\n",
    "- numpy.reshape(a, newshape, order='C')\n",
    "- Returns - \"This will be a new <b>view object</b> if possible, otherwise it will be a <b>copy</b>. Note there is no guarantee of the memory layout.\n",
    "- Gives a new shape to an array without changing its data."
   ]
  },
  {
   "cell_type": "code",
   "execution_count": 2,
   "metadata": {},
   "outputs": [],
   "source": [
    "import numpy as np"
   ]
  },
  {
   "cell_type": "code",
   "execution_count": 9,
   "metadata": {},
   "outputs": [
    {
     "data": {
      "text/plain": [
       "array([ 0,  1,  2,  3,  4,  5,  6,  7,  8,  9, 10, 11, 12, 13, 14, 15, 16,\n",
       "       17, 18, 19, 20, 21, 22, 23])"
      ]
     },
     "execution_count": 9,
     "metadata": {},
     "output_type": "execute_result"
    }
   ],
   "source": [
    "my_start_array=np.array(np.arange(24))\n",
    "my_start_array"
   ]
  },
  {
   "cell_type": "markdown",
   "metadata": {},
   "source": [
    "### 1.Reshape"
   ]
  },
  {
   "cell_type": "code",
   "execution_count": 6,
   "metadata": {},
   "outputs": [
    {
     "data": {
      "text/plain": [
       "array([[ 0,  1,  2,  3,  4,  5,  6,  7],\n",
       "       [ 8,  9, 10, 11, 12, 13, 14, 15],\n",
       "       [16, 17, 18, 19, 20, 21, 22, 23]])"
      ]
     },
     "execution_count": 6,
     "metadata": {},
     "output_type": "execute_result"
    }
   ],
   "source": [
    "#Lets use the reshape method\n",
    "#numpy.reshape(a, newshape, order='C')\n",
    "#newshape - parameter is an integer, or a tuple of integers, \n",
    "#that should be compatible with the original shape of the data that is being reshaped.\n",
    "#If this parameter is an integer, then the result will be a one-dimensional array.\n",
    "#If this parameter can be -1. In this case, the value is inferred from the length of the array and remaining dimensions.\n",
    "my_3_8_array=my_start_array.reshape(3,8)\n",
    "my_3_8_array"
   ]
  },
  {
   "cell_type": "code",
   "execution_count": 7,
   "metadata": {},
   "outputs": [],
   "source": [
    "#lets see the arary is VIEW or COPY\n",
    "my_3_8_array[1]=1244"
   ]
  },
  {
   "cell_type": "code",
   "execution_count": 8,
   "metadata": {},
   "outputs": [
    {
     "data": {
      "text/plain": [
       "array([   0,    1,    2,    3,    4,    5,    6,    7, 1244, 1244, 1244,\n",
       "       1244, 1244, 1244, 1244, 1244,   16,   17,   18,   19,   20,   21,\n",
       "         22,   23])"
      ]
     },
     "execution_count": 8,
     "metadata": {},
     "output_type": "execute_result"
    }
   ],
   "source": [
    "my_start_array #CHANGE GOT REFLECTED SO IT IS A VIEW THIS TIME"
   ]
  },
  {
   "cell_type": "markdown",
   "metadata": {},
   "source": [
    "### 2.ravel\n",
    "- NumPy's ravel function returns a continuous, flattened array\n",
    "- A 1-D array, containing the elements of the input, is returned. A copy is made only if needed.\n",
    "- meaning if we pass nD, WE GET 1D"
   ]
  },
  {
   "cell_type": "code",
   "execution_count": 11,
   "metadata": {},
   "outputs": [
    {
     "data": {
      "text/plain": [
       "array([   0,    1,    2,    3,    4,    5,    6,    7, 1244, 1244, 1244,\n",
       "       1244, 1244, 1244, 1244, 1244,   16,   17,   18,   19,   20,   21,\n",
       "         22,   23])"
      ]
     },
     "execution_count": 11,
     "metadata": {},
     "output_type": "execute_result"
    }
   ],
   "source": [
    "my_ravel_array=my_3_8_array.ravel()\n",
    "my_ravel_array"
   ]
  },
  {
   "cell_type": "code",
   "execution_count": 13,
   "metadata": {},
   "outputs": [
    {
     "data": {
      "text/plain": [
       "(24,)"
      ]
     },
     "execution_count": 13,
     "metadata": {},
     "output_type": "execute_result"
    }
   ],
   "source": [
    "#so above is 1D\n",
    "#lets see the shape\n",
    "my_ravel_array.shape"
   ]
  },
  {
   "cell_type": "markdown",
   "metadata": {},
   "source": [
    "### 3.flat\n",
    "-  In contrast with <b>ravel, flat does not return an array, it returns an iterator</b>."
   ]
  },
  {
   "cell_type": "code",
   "execution_count": 16,
   "metadata": {},
   "outputs": [
    {
     "name": "stdout",
     "output_type": "stream",
     "text": [
      "0\n",
      "1\n",
      "2\n",
      "3\n",
      "4\n",
      "5\n",
      "6\n",
      "7\n",
      "1244\n",
      "1244\n",
      "1244\n",
      "1244\n",
      "1244\n",
      "1244\n",
      "1244\n",
      "1244\n",
      "16\n",
      "17\n",
      "18\n",
      "19\n",
      "20\n",
      "21\n",
      "22\n",
      "23\n"
     ]
    }
   ],
   "source": [
    "#returns iterator, how?\n",
    "####very useful in printing multi dimensional array values\n",
    "for n in my_3_8_array.flat:\n",
    "    print(n)"
   ]
  },
  {
   "cell_type": "code",
   "execution_count": 17,
   "metadata": {},
   "outputs": [
    {
     "name": "stdout",
     "output_type": "stream",
     "text": [
      "0\n",
      "1\n",
      "2\n",
      "3\n",
      "4\n",
      "5\n",
      "6\n",
      "7\n",
      "1244\n",
      "1244\n",
      "1244\n",
      "1244\n",
      "1244\n",
      "1244\n",
      "1244\n",
      "1244\n",
      "16\n",
      "17\n",
      "18\n",
      "19\n",
      "20\n",
      "21\n",
      "22\n",
      "23\n"
     ]
    }
   ],
   "source": [
    "for n in my_ravel_array.flat:\n",
    "    print(n)"
   ]
  },
  {
   "cell_type": "code",
   "execution_count": null,
   "metadata": {},
   "outputs": [],
   "source": []
  }
 ],
 "metadata": {
  "kernelspec": {
   "display_name": "Python 3",
   "language": "python",
   "name": "python3"
  },
  "language_info": {
   "codemirror_mode": {
    "name": "ipython",
    "version": 3
   },
   "file_extension": ".py",
   "mimetype": "text/x-python",
   "name": "python",
   "nbconvert_exporter": "python",
   "pygments_lexer": "ipython3",
   "version": "3.6.4"
  }
 },
 "nbformat": 4,
 "nbformat_minor": 2
}
