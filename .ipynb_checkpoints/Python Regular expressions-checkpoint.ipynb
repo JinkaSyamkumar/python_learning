{
 "cells": [
  {
   "cell_type": "code",
   "execution_count": 5,
   "metadata": {},
   "outputs": [],
   "source": [
    "import re"
   ]
  },
  {
   "cell_type": "code",
   "execution_count": 7,
   "metadata": {},
   "outputs": [
    {
     "name": "stdout",
     "output_type": "stream",
     "text": [
      "Searching for \"this\" in \"does this text match the pattern\"\n",
      "found\n",
      "Searching for \"that\" in \"does this text match the pattern\"\n",
      "no match\n"
     ]
    }
   ],
   "source": [
    "patterns=['this','that']\n",
    "text='does this text match the pattern'\n",
    "\n",
    "for pattern in patterns:\n",
    "    print('Searching for \"{}\" in \"{}\"'.format(pattern,text))\n",
    "    if re.search(pattern,text):\n",
    "        print('found')\n",
    "    else:\n",
    "        print('no match')"
   ]
  },
  {
   "cell_type": "code",
   "execution_count": 8,
   "metadata": {},
   "outputs": [],
   "source": [
    "# The Match object returned by search( ) holds information about the nature of the match.It will have\n",
    "# Original input string\n",
    "# Regular expression being used\n",
    "# Location within the string where pattern occurs\n",
    "# The Match object returned by"
   ]
  },
  {
   "cell_type": "code",
   "execution_count": 11,
   "metadata": {},
   "outputs": [
    {
     "name": "stdout",
     "output_type": "stream",
     "text": [
      "Found \"this\" pattern, in \"does this text match the pattern\" from 5 to 9\n"
     ]
    }
   ],
   "source": [
    "patterns='this'\n",
    "text='does this text match the pattern'\n",
    "\n",
    "match = re.search(patterns,text)\n",
    "s=match.start()\n",
    "e=match.end()\n",
    "pt=match.re.pattern\n",
    "\n",
    "print('Found \"{}\" pattern, in \"{}\" from {} to {}'.format(pt,text,s,e))"
   ]
  },
  {
   "cell_type": "markdown",
   "metadata": {},
   "source": [
    "##### Compiling Expressions"
   ]
  },
  {
   "cell_type": "code",
   "execution_count": 12,
   "metadata": {},
   "outputs": [],
   "source": [
    "# In Python, it is more efficient to compile the patterns that are used frequently\n",
    "# The compile( ) function of a re module converts an expression string into a RegexObject\n",
    "# Once we have the regularEx Object… we can directly call the search method on it"
   ]
  },
  {
   "cell_type": "markdown",
   "metadata": {},
   "source": [
    "##### RegEx Object"
   ]
  },
  {
   "cell_type": "code",
   "execution_count": 15,
   "metadata": {},
   "outputs": [
    {
     "data": {
      "text/plain": [
       "[re.compile(r'this', re.UNICODE), re.compile(r'that', re.UNICODE)]"
      ]
     },
     "execution_count": 15,
     "metadata": {},
     "output_type": "execute_result"
    }
   ],
   "source": [
    "patterns=['this','that']\n",
    "text='Does this text match the pattern?'\n",
    "regexes=[re.compile(p) for p in patterns]\n",
    "regexes"
   ]
  },
  {
   "cell_type": "code",
   "execution_count": 16,
   "metadata": {},
   "outputs": [
    {
     "name": "stdout",
     "output_type": "stream",
     "text": [
      "Found\n",
      "not found\n"
     ]
    }
   ],
   "source": [
    "for regex in regexes:\n",
    "    if regex.search(text): #before re.search(pt,txt) NOW regex.search(text)\n",
    "        print('Found')\n",
    "    else:\n",
    "        print('not found')\n",
    "    "
   ]
  },
  {
   "cell_type": "markdown",
   "metadata": {},
   "source": [
    "##### Finding multiple matches \n",
    "- findall( ) method"
   ]
  },
  {
   "cell_type": "code",
   "execution_count": 22,
   "metadata": {},
   "outputs": [
    {
     "name": "stdout",
     "output_type": "stream",
     "text": [
      "found -  ab\n",
      "found -  ab\n",
      "found -  ab\n"
     ]
    }
   ],
   "source": [
    "pattern='ab'\n",
    "text='abbassabbbbabaaa'\n",
    "for match in re.findall(pattern,text):\n",
    "    print('found - ',match)"
   ]
  },
  {
   "cell_type": "markdown",
   "metadata": {},
   "source": [
    "##### Grouping matches"
   ]
  },
  {
   "cell_type": "code",
   "execution_count": 23,
   "metadata": {},
   "outputs": [],
   "source": [
    "# Adding groups to a pattern enables us to isolate parts of the matching text, expanding those capabilities to create a parse\n",
    "# Groups are defined by enclosing the patterns in ( )"
   ]
  },
  {
   "cell_type": "code",
   "execution_count": null,
   "metadata": {},
   "outputs": [],
   "source": []
  }
 ],
 "metadata": {
  "kernelspec": {
   "display_name": "Python 3",
   "language": "python",
   "name": "python3"
  },
  "language_info": {
   "codemirror_mode": {
    "name": "ipython",
    "version": 3
   },
   "file_extension": ".py",
   "mimetype": "text/x-python",
   "name": "python",
   "nbconvert_exporter": "python",
   "pygments_lexer": "ipython3",
   "version": "3.6.4"
  }
 },
 "nbformat": 4,
 "nbformat_minor": 2
}
