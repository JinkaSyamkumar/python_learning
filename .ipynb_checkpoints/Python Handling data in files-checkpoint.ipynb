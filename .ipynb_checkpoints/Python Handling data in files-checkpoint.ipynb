{
 "cells": [
  {
   "cell_type": "markdown",
   "metadata": {},
   "source": [
    "## Handling XML files with lxml module"
   ]
  },
  {
   "cell_type": "markdown",
   "metadata": {},
   "source": [
    "##### Lets see how to read and add content using lxml"
   ]
  },
  {
   "cell_type": "code",
   "execution_count": 1,
   "metadata": {},
   "outputs": [],
   "source": [
    "from lxml import etree"
   ]
  },
  {
   "cell_type": "markdown",
   "metadata": {},
   "source": [
    "##### lets parse the xml file\n",
    "parse -  Returns an ElementTree object loaded with source elements"
   ]
  },
  {
   "cell_type": "code",
   "execution_count": 4,
   "metadata": {},
   "outputs": [],
   "source": [
    "tree=etree.parse('/Users/syamkumarj/Documents/Workspace/python_anaconda_workspace/sample.xml')"
   ]
  },
  {
   "cell_type": "markdown",
   "metadata": {},
   "source": [
    "##### lets access the root"
   ]
  },
  {
   "cell_type": "code",
   "execution_count": 6,
   "metadata": {},
   "outputs": [
    {
     "data": {
      "text/plain": [
       "<Element employee at 0x10467c388>"
      ]
     },
     "execution_count": 6,
     "metadata": {},
     "output_type": "execute_result"
    }
   ],
   "source": [
    "root =tree.getroot()\n",
    "root"
   ]
  },
  {
   "cell_type": "markdown",
   "metadata": {},
   "source": [
    "##### lets access the skill\n",
    "- findall - Finds all elements matching the ElementPath expression.  Same as\n",
    "getroot().findall(path)."
   ]
  },
  {
   "cell_type": "code",
   "execution_count": 10,
   "metadata": {},
   "outputs": [
    {
     "name": "stdout",
     "output_type": "stream",
     "text": [
      "skill:  Python\n",
      "skill:  C#\n",
      "skill:  HTML\n",
      "skill:  Javascript\n",
      "skill:  PHP\n"
     ]
    }
   ],
   "source": [
    "skills=tree.findall('//skill')\n",
    "for skill in skills:\n",
    "    print('skill: ',skill.attrib['name'])"
   ]
  },
  {
   "cell_type": "markdown",
   "metadata": {},
   "source": [
    "##### lets add a new skillset\n",
    "- SubElement - Subelement factory.  This function creates an element instance, and\n",
    "appends it to an existing element"
   ]
  },
  {
   "cell_type": "code",
   "execution_count": 9,
   "metadata": {},
   "outputs": [
    {
     "name": "stdout",
     "output_type": "stream",
     "text": [
      "skill:  Python\n",
      "skill:  C#\n",
      "skill:  HTML\n",
      "skill:  Javascript\n",
      "skill:  PHP\n"
     ]
    }
   ],
   "source": [
    "skill=etree.SubElement(root,'skill',attrib={'name':'PHP'})\n",
    "skills=tree.findall('//skill')\n",
    "for skill in skills:\n",
    "    print('skill: ',skill.attrib['name'])"
   ]
  },
  {
   "cell_type": "markdown",
   "metadata": {},
   "source": [
    "### Handling HTML Files - using urllib module"
   ]
  },
  {
   "cell_type": "markdown",
   "metadata": {},
   "source": [
    "##### sample url - https://xkcd.com"
   ]
  },
  {
   "cell_type": "code",
   "execution_count": 12,
   "metadata": {},
   "outputs": [],
   "source": [
    "# Read the contents of sample url using “urllib” module\n",
    "# Parse the contents of the webpage to view the “Titlle” and “Caption” of displayed comic\n",
    "# Download the displayed comic to the current directory as “Comic.png”\n",
    "# And we can “lxml” package , this package is efficient in parsing HTML and XML pages"
   ]
  },
  {
   "cell_type": "code",
   "execution_count": null,
   "metadata": {},
   "outputs": [],
   "source": []
  }
 ],
 "metadata": {
  "kernelspec": {
   "display_name": "Python 3",
   "language": "python",
   "name": "python3"
  },
  "language_info": {
   "codemirror_mode": {
    "name": "ipython",
    "version": 3
   },
   "file_extension": ".py",
   "mimetype": "text/x-python",
   "name": "python",
   "nbconvert_exporter": "python",
   "pygments_lexer": "ipython3",
   "version": "3.6.4"
  }
 },
 "nbformat": 4,
 "nbformat_minor": 2
}
