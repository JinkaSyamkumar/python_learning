{
 "cells": [
  {
   "cell_type": "code",
   "execution_count": null,
   "metadata": {},
   "outputs": [],
   "source": [
    "# Python descriptors allow a programmer to create managed attributes.\n",
    "# In other object-oriented languages, you will find getter and setter methods to manage attributes\n",
    "# However, Python allows a programmer to manage the attributes simply with the attribute name, without losing their protection.\n",
    "# This is achieved by defining a descriptor class, that implements any of __get__, __set__, __delete__ methods."
   ]
  },
  {
   "cell_type": "code",
   "execution_count": 9,
   "metadata": {},
   "outputs": [
    {
     "name": "stdout",
     "output_type": "stream",
     "text": [
      "[1, 2, 3]\n",
      "[7, 2, 3]\n",
      "mouse\n",
      "mouse\n"
     ]
    }
   ],
   "source": [
    "class Animal:\n",
    "    x=[1,2,3] #this is class variable not object variable\n",
    "    def __init__(self, **kwargs): #here these variables exist only on object not on class\n",
    "        self._type=kwargs['type'] \n",
    "        self._name=kwargs['name'] \n",
    "        self._sound=kwargs['sound']\n",
    "        \n",
    "    def type(self,t=None):  \n",
    "        if t:self._type=t \n",
    "        return self._type\n",
    "    \n",
    "    def name(self,n=None):\n",
    "        if n:self._name=n\n",
    "        return self._name\n",
    "    def sound(self, s=None):\n",
    "        if s:self_sound=s\n",
    "        return self._sound\n",
    "    def __str__(self): \n",
    "        return f'The {self.type()} is named {self.name()} says {self.sound()}'\n",
    "def main():\n",
    "    dog = Animal(type='pet',name='dog',sound='Bow!!')\n",
    "    cat = Animal(type='pet',name='Cat',sound='Meow!!')\n",
    "    print(dog.x)\n",
    "    cat.x[0]=7  #modified on cat but it reflects on dog too since it is class variable\n",
    "    print(dog.x)\n",
    "    print(dog.name('mouse'))\n",
    "    print(dog.name())\n",
    "if __name__=='__main__':main()"
   ]
  },
  {
   "cell_type": "code",
   "execution_count": 13,
   "metadata": {},
   "outputs": [
    {
     "name": "stdout",
     "output_type": "stream",
     "text": [
      "Setting: \n",
      "Getting: John Smith\n",
      "Deleting: John Smith\n"
     ]
    }
   ],
   "source": [
    "class Descriptor(object):\n",
    " \n",
    "    def __init__(self):\n",
    "        self._name = ''\n",
    " \n",
    "    def __get__(self, instance, owner):\n",
    "        print(\"Getting: {}\".format(self._name))\n",
    "        return self._name\n",
    " \n",
    "    def __set__(self, instance, name):\n",
    "        print(\"Setting: {}\".format(self._name))\n",
    "        self._name = name.title()\n",
    " \n",
    "    def __delete__(self, instance):\n",
    "        print(\"Deleting: {}\".format(self._name))\n",
    "        del self._name\n",
    "\n",
    "class Person(object):\n",
    "    name = Descriptor()\n",
    "    \n",
    "user = Person()\n",
    "user.name = 'john smith'\n",
    "user.name\n",
    "del user.name"
   ]
  },
  {
   "cell_type": "code",
   "execution_count": 4,
   "metadata": {},
   "outputs": [],
   "source": [
    "\n",
    "class EmpNameDescriptor:\n",
    "    \n",
    "    def __get__(self, obj, owner):\n",
    "        return self.__empname\n",
    "    \n",
    "    def __set__(self, obj, value):\n",
    "        if not isinstance(value, str):\n",
    "            raise TypeError(\"'empname' must be a string.\")\n",
    "        self.__empname = value"
   ]
  },
  {
   "cell_type": "code",
   "execution_count": 5,
   "metadata": {},
   "outputs": [],
   "source": [
    "class EmpIdDescriptor:\n",
    "\n",
    "    def __get__(self, obj, owner):\n",
    "        return self.__empid\n",
    "\n",
    "    def __set__(self, obj, value):\n",
    "        if hasattr(obj, 'empid'):\n",
    "            raise ValueError(\"'empid' is read only attribute\")\n",
    "        if not isinstance(value, int):\n",
    "            raise TypeError(\"'empid' must be an integer.\")\n",
    "        self.__empid = value"
   ]
  },
  {
   "cell_type": "code",
   "execution_count": 6,
   "metadata": {},
   "outputs": [
    {
     "name": "stdout",
     "output_type": "stream",
     "text": [
      "123456 - John\n",
      "123456 - Williams\n"
     ]
    },
    {
     "ename": "ValueError",
     "evalue": "'empid' is read only attribute",
     "output_type": "error",
     "traceback": [
      "\u001b[0;31m---------------------------------------------------------------------------\u001b[0m",
      "\u001b[0;31mValueError\u001b[0m                                Traceback (most recent call last)",
      "\u001b[0;32m<ipython-input-6-67102dfdeee3>\u001b[0m in \u001b[0;36m<module>\u001b[0;34m()\u001b[0m\n\u001b[1;32m     16\u001b[0m \u001b[0mprint\u001b[0m\u001b[0;34m(\u001b[0m\u001b[0me1\u001b[0m\u001b[0;34m.\u001b[0m\u001b[0mempid\u001b[0m\u001b[0;34m,\u001b[0m \u001b[0;34m'-'\u001b[0m\u001b[0;34m,\u001b[0m \u001b[0me1\u001b[0m\u001b[0;34m.\u001b[0m\u001b[0mempname\u001b[0m\u001b[0;34m)\u001b[0m\u001b[0;34m\u001b[0m\u001b[0m\n\u001b[1;32m     17\u001b[0m \u001b[0;34m\u001b[0m\u001b[0m\n\u001b[0;32m---> 18\u001b[0;31m \u001b[0me1\u001b[0m\u001b[0;34m.\u001b[0m\u001b[0mempid\u001b[0m \u001b[0;34m=\u001b[0m \u001b[0;36m76347322\u001b[0m\u001b[0;34m\u001b[0m\u001b[0m\n\u001b[0m",
      "\u001b[0;32m<ipython-input-5-35d8c540bfeb>\u001b[0m in \u001b[0;36m__set__\u001b[0;34m(self, obj, value)\u001b[0m\n\u001b[1;32m      6\u001b[0m     \u001b[0;32mdef\u001b[0m \u001b[0m__set__\u001b[0m\u001b[0;34m(\u001b[0m\u001b[0mself\u001b[0m\u001b[0;34m,\u001b[0m \u001b[0mobj\u001b[0m\u001b[0;34m,\u001b[0m \u001b[0mvalue\u001b[0m\u001b[0;34m)\u001b[0m\u001b[0;34m:\u001b[0m\u001b[0;34m\u001b[0m\u001b[0m\n\u001b[1;32m      7\u001b[0m         \u001b[0;32mif\u001b[0m \u001b[0mhasattr\u001b[0m\u001b[0;34m(\u001b[0m\u001b[0mobj\u001b[0m\u001b[0;34m,\u001b[0m \u001b[0;34m'empid'\u001b[0m\u001b[0;34m)\u001b[0m\u001b[0;34m:\u001b[0m\u001b[0;34m\u001b[0m\u001b[0m\n\u001b[0;32m----> 8\u001b[0;31m             \u001b[0;32mraise\u001b[0m \u001b[0mValueError\u001b[0m\u001b[0;34m(\u001b[0m\u001b[0;34m\"'empid' is read only attribute\"\u001b[0m\u001b[0;34m)\u001b[0m\u001b[0;34m\u001b[0m\u001b[0m\n\u001b[0m\u001b[1;32m      9\u001b[0m         \u001b[0;32mif\u001b[0m \u001b[0;32mnot\u001b[0m \u001b[0misinstance\u001b[0m\u001b[0;34m(\u001b[0m\u001b[0mvalue\u001b[0m\u001b[0;34m,\u001b[0m \u001b[0mint\u001b[0m\u001b[0;34m)\u001b[0m\u001b[0;34m:\u001b[0m\u001b[0;34m\u001b[0m\u001b[0m\n\u001b[1;32m     10\u001b[0m             \u001b[0;32mraise\u001b[0m \u001b[0mTypeError\u001b[0m\u001b[0;34m(\u001b[0m\u001b[0;34m\"'empid' must be an integer.\"\u001b[0m\u001b[0;34m)\u001b[0m\u001b[0;34m\u001b[0m\u001b[0m\n",
      "\u001b[0;31mValueError\u001b[0m: 'empid' is read only attribute"
     ]
    }
   ],
   "source": [
    "class Employee:\n",
    "\n",
    "    empid = EmpIdDescriptor()           \n",
    "    empname = EmpNameDescriptor()       \n",
    "\n",
    "    def __init__(self, emp_id, emp_name):\n",
    "        self.empid = emp_id\n",
    "        self.empname = emp_name\n",
    "\n",
    "        \n",
    "#creating objects\n",
    "e1 = Employee(123456, 'John')\n",
    "print(e1.empid, '-', e1.empname)  \n",
    "\n",
    "e1.empname = 'Williams'\n",
    "print(e1.empid, '-', e1.empname)\n",
    "\n",
    "e1.empid = 76347322 \n",
    "#causes error since we set it..\n",
    "#You can remove raise error..if you want it to be accessed by other\n"
   ]
  },
  {
   "cell_type": "markdown",
   "metadata": {},
   "source": [
    "### Property()"
   ]
  },
  {
   "cell_type": "code",
   "execution_count": 14,
   "metadata": {},
   "outputs": [],
   "source": [
    "# Descriptors can also be created using property() type.\n",
    "# It is easy to create a descriptor for any attribute using property() over above descriptor class\n",
    "# The syntax is creating property() - property(fget=None, fset=None, fdel=None, doc=None)\n",
    "# fget - attribute get method\n",
    "# fset - attribute set method\n",
    "# fdel - attribute delete method\n",
    "# doc - docstring"
   ]
  },
  {
   "cell_type": "code",
   "execution_count": 16,
   "metadata": {},
   "outputs": [
    {
     "name": "stdout",
     "output_type": "stream",
     "text": [
      "123456 - John\n"
     ]
    },
    {
     "ename": "AttributeError",
     "evalue": "'Employee' object has no attribute '_Employee__empname'",
     "output_type": "error",
     "traceback": [
      "\u001b[0;31m---------------------------------------------------------------------------\u001b[0m",
      "\u001b[0;31mAttributeError\u001b[0m                            Traceback (most recent call last)",
      "\u001b[0;32m<ipython-input-16-c99327bc7670>\u001b[0m in \u001b[0;36m<module>\u001b[0;34m()\u001b[0m\n\u001b[1;32m     31\u001b[0m \u001b[0mprint\u001b[0m\u001b[0;34m(\u001b[0m\u001b[0me1\u001b[0m\u001b[0;34m.\u001b[0m\u001b[0mempid\u001b[0m\u001b[0;34m,\u001b[0m \u001b[0;34m'-'\u001b[0m\u001b[0;34m,\u001b[0m \u001b[0me1\u001b[0m\u001b[0;34m.\u001b[0m\u001b[0mempname\u001b[0m\u001b[0;34m)\u001b[0m    \u001b[0;31m# -> '123456 - John'\u001b[0m\u001b[0;34m\u001b[0m\u001b[0m\n\u001b[1;32m     32\u001b[0m \u001b[0;32mdel\u001b[0m \u001b[0me1\u001b[0m\u001b[0;34m.\u001b[0m\u001b[0mempname\u001b[0m    \u001b[0;31m# Deletes 'empname'\u001b[0m\u001b[0;34m\u001b[0m\u001b[0m\n\u001b[0;32m---> 33\u001b[0;31m \u001b[0mprint\u001b[0m\u001b[0;34m(\u001b[0m\u001b[0me1\u001b[0m\u001b[0;34m.\u001b[0m\u001b[0mempname\u001b[0m\u001b[0;34m)\u001b[0m \u001b[0;31m#Raises 'AttributeError'\u001b[0m\u001b[0;34m\u001b[0m\u001b[0m\n\u001b[0m",
      "\u001b[0;32m<ipython-input-16-c99327bc7670>\u001b[0m in \u001b[0;36mgetEmpName\u001b[0;34m(self)\u001b[0m\n\u001b[1;32m     16\u001b[0m \u001b[0;34m\u001b[0m\u001b[0m\n\u001b[1;32m     17\u001b[0m     \u001b[0;32mdef\u001b[0m \u001b[0mgetEmpName\u001b[0m\u001b[0;34m(\u001b[0m\u001b[0mself\u001b[0m\u001b[0;34m)\u001b[0m\u001b[0;34m:\u001b[0m\u001b[0;34m\u001b[0m\u001b[0m\n\u001b[0;32m---> 18\u001b[0;31m         \u001b[0;32mreturn\u001b[0m \u001b[0mself\u001b[0m\u001b[0;34m.\u001b[0m\u001b[0m__empname\u001b[0m\u001b[0;34m\u001b[0m\u001b[0m\n\u001b[0m\u001b[1;32m     19\u001b[0m \u001b[0;34m\u001b[0m\u001b[0m\n\u001b[1;32m     20\u001b[0m     \u001b[0;32mdef\u001b[0m \u001b[0msetEmpName\u001b[0m\u001b[0;34m(\u001b[0m\u001b[0mself\u001b[0m\u001b[0;34m,\u001b[0m \u001b[0mvalue\u001b[0m\u001b[0;34m)\u001b[0m\u001b[0;34m:\u001b[0m\u001b[0;34m\u001b[0m\u001b[0m\n",
      "\u001b[0;31mAttributeError\u001b[0m: 'Employee' object has no attribute '_Employee__empname'"
     ]
    }
   ],
   "source": [
    "class Employee:\n",
    "\n",
    "    def __init__(self, emp_id, emp_name):\n",
    "        self.empid = emp_id\n",
    "        self.empname = emp_name\n",
    "\n",
    "    def getEmpID(self):\n",
    "        return self.__empid\n",
    "\n",
    "    def setEmpID(self, value):\n",
    "        if not isinstance(value, int):\n",
    "            raise TypeError(\"'empid' must be an integer.\")\n",
    "        self.__empid = value\n",
    "\n",
    "    empid = property(getEmpID, setEmpID)   #Created Descriptor ****\n",
    "    \n",
    "    def getEmpName(self):\n",
    "        return self.__empname\n",
    "\n",
    "    def setEmpName(self, value):\n",
    "        if not isinstance(value, str):\n",
    "            raise TypeError(\"empname' must be a string.\")\n",
    "        self.__empname = value\n",
    "\n",
    "    def delEmpName(self):\n",
    "        del self.__empname\n",
    "\n",
    "    empname = property(getEmpName, setEmpName, delEmpName) #Created Descriptor ****\n",
    "    \n",
    "e1 = Employee(123456, 'John')\n",
    "print(e1.empid, '-', e1.empname)    # -> '123456 - John'\n",
    "del e1.empname    # Deletes 'empname'\n",
    "print(e1.empname) #Raises 'AttributeError'\n"
   ]
  },
  {
   "cell_type": "code",
   "execution_count": null,
   "metadata": {},
   "outputs": [],
   "source": [
    "#example 2\n",
    "class Person(object):\n",
    "    def __init__(self):\n",
    "        self._name = ''\n",
    " \n",
    "    def fget(self):\n",
    "        print(\"Getting: {}\".format(self._name))\n",
    "        return self._name\n",
    "     \n",
    "    def fset(self, value):\n",
    "        print(\"Setting: {}\".format(self._name))\n",
    "        self._name = value.title()\n",
    " \n",
    "    def fdel(self):\n",
    "        print(\"deleting: {}\".format(self._name))\n",
    "        del self._name\n",
    "    name = property(fget, fset, fdel, \"I'm the property.\")"
   ]
  }
 ],
 "metadata": {
  "kernelspec": {
   "display_name": "Python 3",
   "language": "python",
   "name": "python3"
  },
  "language_info": {
   "codemirror_mode": {
    "name": "ipython",
    "version": 3
   },
   "file_extension": ".py",
   "mimetype": "text/x-python",
   "name": "python",
   "nbconvert_exporter": "python",
   "pygments_lexer": "ipython3",
   "version": "3.6.4"
  }
 },
 "nbformat": 4,
 "nbformat_minor": 2
}
