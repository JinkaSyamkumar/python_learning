{
 "cells": [
  {
   "cell_type": "markdown",
   "metadata": {},
   "source": [
    "## sqlite3"
   ]
  },
  {
   "cell_type": "code",
   "execution_count": 2,
   "metadata": {},
   "outputs": [
    {
     "name": "stdout",
     "output_type": "stream",
     "text": [
      "connect to db\n",
      "creating cursor\n",
      "Executing sql to drop and create table\n",
      "insert row\n",
      "commit\n",
      "select - count\n",
      "2\n",
      "read\n",
      "(1, 'one', 9962)\n",
      "(2, 'two', 2222)\n",
      "drop\n",
      "close\n"
     ]
    }
   ],
   "source": [
    "import sqlite3\n",
    "\n",
    "def main():\n",
    "\n",
    "    # establishing  a database connection\n",
    "    print('connect to db')\n",
    "    con = sqlite3.connect('Test.db') #this file is created and is portable across all the os\n",
    "    \n",
    "    # preparing a cursor object\n",
    "    print('creating cursor')\n",
    "    cur=con.cursor()\n",
    "    \n",
    "    # preparing sql\n",
    "    del_sql = 'Drop Table If Exists test'\n",
    "    create_sql = 'Create table test(id integer primary key, name text, mob integer)'\n",
    "\n",
    "    #Executing sql to drop and create\n",
    "    print('Executing sql to drop and create table')\n",
    "    cur.execute(del_sql)\n",
    "    cur.execute(create_sql)\n",
    "    \n",
    "    #INSERT single row- directly\n",
    "    print('insert row')\n",
    "    cur.execute(\"insert into test(id,name,mob) values(1,'one',9962)\")\n",
    "    #Committing the insert\n",
    "    print('commit')\n",
    "    con.commit()\n",
    "    \n",
    "    #INSERT single row- parameter substitution\n",
    "    rec=(2,'two',2222)\n",
    "    insert_sql2='''\n",
    "        insert into test values(?,?,?) \n",
    "        '''\n",
    "    #USING try....except\n",
    "    try:   \n",
    "        cur.execute(insert_sql2,rec) \n",
    "        con.commit() #Committing\n",
    "    except Exception as e:\n",
    "        print('Error Message:',str(e))\n",
    "        con.rollback() #Rollback\n",
    "        \n",
    "    \n",
    "    #INSERT multiple row- parameter substitution\n",
    "    record_list=[\n",
    "        (3,'Three',3333),\n",
    "        (4,'Four',4444)\n",
    "    ]\n",
    "    #USING try....except\n",
    "    try:   \n",
    "        cur.executemany(insert_sql2,record_list) \n",
    "        con.commit() #Committing\n",
    "    except Exception as e:\n",
    "        print('Error Message:',str(e))\n",
    "        con.rollback() #Rollback\n",
    "    \n",
    "    #SELECT data - count\n",
    "    print('select - count')\n",
    "    cur.execute('select count(*) from test')\n",
    "    count=cur.fetchone()[0] # we are fetching one from the cursor after executing the query\n",
    "    print(f'{count}')\n",
    "    \n",
    "    #SELECT ROWS \n",
    "    print('read')\n",
    "    for row in cur.execute('select * from test'):\n",
    "        print(row)\n",
    "    print('drop')\n",
    "    cur.execute('Drop table test')\n",
    "    print('close')\n",
    "    \n",
    "    #Closing the db\n",
    "    con.close()\n",
    "    \n",
    "main()\n"
   ]
  },
  {
   "cell_type": "code",
   "execution_count": null,
   "metadata": {},
   "outputs": [],
   "source": []
  }
 ],
 "metadata": {
  "kernelspec": {
   "display_name": "Python 3",
   "language": "python",
   "name": "python3"
  },
  "language_info": {
   "codemirror_mode": {
    "name": "ipython",
    "version": 3
   },
   "file_extension": ".py",
   "mimetype": "text/x-python",
   "name": "python",
   "nbconvert_exporter": "python",
   "pygments_lexer": "ipython3",
   "version": "3.6.4"
  }
 },
 "nbformat": 4,
 "nbformat_minor": 2
}
