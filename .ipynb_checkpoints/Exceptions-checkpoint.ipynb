{
 "cells": [
  {
   "cell_type": "markdown",
   "metadata": {},
   "source": [
    "## User defined Exception"
   ]
  },
  {
   "cell_type": "code",
   "execution_count": 1,
   "metadata": {},
   "outputs": [],
   "source": [
    "#There are many built-in exceptions in Python, which are \n",
    "#directly or indirectly derived from Exception class.\n",
    "\n",
    "#Python also allows a programmer to create custom exceptions, \n",
    "#derived from base Exception class."
   ]
  },
  {
   "cell_type": "code",
   "execution_count": 3,
   "metadata": {},
   "outputs": [
    {
     "name": "stdout",
     "output_type": "stream",
     "text": [
      "Two Inputs must be integers\n"
     ]
    }
   ],
   "source": [
    "class CustomError(Exception):\n",
    "    def __init__(self,value):\n",
    "        self.value=value\n",
    "    def __str__(self):\n",
    "        return str(self.value)\n",
    "    \n",
    "try:\n",
    "    a=2,\n",
    "    b='hello'\n",
    "    if not (isinstance(a, int) and isinstance(b,int)):\n",
    "        raise CustomError('Two Inputs must be integers')\n",
    "    c=a**b\n",
    "except CustomError as e:\n",
    "    print(e)\n",
    "    "
   ]
  },
  {
   "cell_type": "markdown",
   "metadata": {},
   "source": [
    "### Using Finally cluase"
   ]
  },
  {
   "cell_type": "code",
   "execution_count": 4,
   "metadata": {},
   "outputs": [],
   "source": [
    "#finally clause is an optional one that can be used with try ... except clauses.\n",
    "#All the statements under finally clause are executed irrespective of exception occurrence"
   ]
  },
  {
   "cell_type": "code",
   "execution_count": null,
   "metadata": {},
   "outputs": [],
   "source": [
    "def divide(a,b):\n",
    "\n",
    "    try:\n",
    "\n",
    "        result = a / b\n",
    "\n",
    "        return result\n",
    "\n",
    "    except ZeroDivisionError:\n",
    "\n",
    "        print(\"Dividing by Zero.\")\n",
    "\n",
    "    finally:\n",
    "\n",
    "        print(\"In finally clause.\")"
   ]
  }
 ],
 "metadata": {
  "kernelspec": {
   "display_name": "Python 3",
   "language": "python",
   "name": "python3"
  },
  "language_info": {
   "codemirror_mode": {
    "name": "ipython",
    "version": 3
   },
   "file_extension": ".py",
   "mimetype": "text/x-python",
   "name": "python",
   "nbconvert_exporter": "python",
   "pygments_lexer": "ipython3",
   "version": "3.6.4"
  }
 },
 "nbformat": 4,
 "nbformat_minor": 2
}
