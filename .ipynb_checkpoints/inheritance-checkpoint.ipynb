{
 "cells": [
  {
   "cell_type": "code",
   "execution_count": null,
   "metadata": {},
   "outputs": [],
   "source": [
    "#Inheritance feature can be also used to extend \n",
    "#the built-in classes like list or dict."
   ]
  },
  {
   "cell_type": "code",
   "execution_count": 1,
   "metadata": {},
   "outputs": [],
   "source": [
    "class EmployeesList(list):\n",
    "\n",
    "    def search(self, name):\n",
    "\n",
    "        matching_employees = []\n",
    "\n",
    "        for employee in self:\n",
    "\n",
    "            if name in employee.fname:\n",
    "\n",
    "                matching_employees.append(employee.fname)\n",
    "\n",
    "        return matching_employees"
   ]
  },
  {
   "cell_type": "code",
   "execution_count": 3,
   "metadata": {},
   "outputs": [],
   "source": [
    "class Person:\n",
    "\n",
    "    \n",
    "\n",
    "    def __init__(self, fname, lname):\n",
    "\n",
    "        self.fname = fname\n",
    "\n",
    "        self.lname = lname"
   ]
  },
  {
   "cell_type": "code",
   "execution_count": 4,
   "metadata": {},
   "outputs": [
    {
     "name": "stdout",
     "output_type": "stream",
     "text": [
      "['George']\n"
     ]
    }
   ],
   "source": [
    "class Employee(Person):\n",
    "\n",
    "\n",
    "\n",
    "    all_employees = EmployeesList()\n",
    "\n",
    "    \n",
    "\n",
    "    def __init__(self, fname, lname, empid):\n",
    "\n",
    "        Person.__init__(self, fname, lname)\n",
    "\n",
    "        self.empid = empid\n",
    "\n",
    "        Employee.all_employees.append(self)\n",
    "\n",
    "\n",
    "\n",
    "e1 = Employee('Jack', 'simmons', 456342)\n",
    "\n",
    "e2 = Employee('George', 'Brown', 656721)\n",
    "\n",
    "print(Employee.all_employees.search('or'))"
   ]
  },
  {
   "cell_type": "code",
   "execution_count": 5,
   "metadata": {},
   "outputs": [],
   "source": [
    "class A:\n",
    "    def __init__(self):\n",
    "        print('one')\n",
    "\n",
    "    def f(self):\n",
    "        print(float())\n",
    "        print(hex(-255))\n",
    "\n",
    "class B(A):\n",
    "    def __init__(self):\n",
    "        print('two')\n",
    "\n",
    "    def f(self):\n",
    "        print(float())\n",
    "        print(hex(-42))"
   ]
  },
  {
   "cell_type": "code",
   "execution_count": 6,
   "metadata": {},
   "outputs": [
    {
     "name": "stdout",
     "output_type": "stream",
     "text": [
      "two\n",
      "0.0\n",
      "-0x2a\n"
     ]
    }
   ],
   "source": [
    "x = B()\n",
    "x.f()"
   ]
  },
  {
   "cell_type": "code",
   "execution_count": 9,
   "metadata": {},
   "outputs": [
    {
     "name": "stdout",
     "output_type": "stream",
     "text": [
      "2 2 3 2 "
     ]
    }
   ],
   "source": [
    "class class1:\n",
    "    a = 1\n",
    "\n",
    "    def f1(self):\n",
    "        a = 2 #LOCAL VARIABLE\n",
    "        class1.a += 1 #CLASS VARIABLE\n",
    "        print(class1.a, end=' ')\n",
    "        print(a, end=' ')\n",
    "\n",
    "class1().f1()\n",
    "class1().f1()"
   ]
  },
  {
   "cell_type": "code",
   "execution_count": 10,
   "metadata": {},
   "outputs": [
    {
     "name": "stdout",
     "output_type": "stream",
     "text": [
      "4 - 10\n"
     ]
    }
   ],
   "source": [
    "class A:\n",
    "    def __init__(self, a = 5):\n",
    "        self.a = a\n",
    "\n",
    "        def f1(self):\n",
    "            self.a += 10\n",
    "\n",
    "\n",
    "class B(A):\n",
    "    def __init__(self, b = 0):\n",
    "        A.__init__(self, 4 #overrides above 5\n",
    "        self.b = b\n",
    "\n",
    "    def f1(self):\n",
    "        self.b += 10\n",
    "\n",
    "x = B()\n",
    "x.f1()\n",
    "print(x.a,'-', x.b)"
   ]
  },
  {
   "cell_type": "code",
   "execution_count": null,
   "metadata": {},
   "outputs": [],
   "source": []
  }
 ],
 "metadata": {
  "kernelspec": {
   "display_name": "Python 3",
   "language": "python",
   "name": "python3"
  },
  "language_info": {
   "codemirror_mode": {
    "name": "ipython",
    "version": 3
   },
   "file_extension": ".py",
   "mimetype": "text/x-python",
   "name": "python",
   "nbconvert_exporter": "python",
   "pygments_lexer": "ipython3",
   "version": "3.6.4"
  }
 },
 "nbformat": 4,
 "nbformat_minor": 2
}
