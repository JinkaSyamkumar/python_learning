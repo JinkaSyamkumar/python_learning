{
 "cells": [
  {
   "cell_type": "markdown",
   "metadata": {},
   "source": [
    "- NumPy is a Python library, which supports efficient handling  \n",
    "of various numerical operations on arrays holding numeric data\n",
    "- These arrays are known as N-dimensional arrays or ndarrays\n",
    "- Ndarrays are capable of holding data elements in multiple dimensions.\n",
    "- Each data element of a ndarray is of fixed size\n",
    "- All elements of a ndarray are of same data type (If not the same  \n",
    "  data types, promotion of data happens)\n",
    "- N-dimensional array is an object, capable of holding data elements  \n",
    "of same type and of a fixed size in multiple dimensions"
   ]
  },
  {
   "cell_type": "markdown",
   "metadata": {},
   "source": [
    "### 1 Creation 1 D array"
   ]
  },
  {
   "cell_type": "code",
   "execution_count": 1,
   "metadata": {},
   "outputs": [],
   "source": [
    "import numpy as np"
   ]
  },
  {
   "cell_type": "code",
   "execution_count": 2,
   "metadata": {},
   "outputs": [
    {
     "data": {
      "text/plain": [
       "numpy.ndarray"
      ]
     },
     "execution_count": 2,
     "metadata": {},
     "output_type": "execute_result"
    }
   ],
   "source": [
    "x=np.array([5,8,9,101,11])\n",
    "type(x)"
   ]
  },
  {
   "cell_type": "markdown",
   "metadata": {},
   "source": [
    "### 2 Creation 2 D array\n",
    "[ [ - is *very important* - denoted 2D  \n",
    "[ [ [ - denotes 3 D"
   ]
  },
  {
   "cell_type": "code",
   "execution_count": 5,
   "metadata": {},
   "outputs": [
    {
     "name": "stdout",
     "output_type": "stream",
     "text": [
      "[[ 6  9  5]\n",
      " [10 82 34]]\n"
     ]
    }
   ],
   "source": [
    "x=np.array([[6,9,5],\n",
    "           [10,82,34]])\n",
    "print(x)"
   ]
  },
  {
   "cell_type": "markdown",
   "metadata": {},
   "source": [
    "### 3 ndarary properties\n",
    "\n",
    "1. **ndim** : Returns number of dimensions.\n",
    "1. **shape**: Returns Shape in tuple\n",
    "1. **size** : Total number of elements\n",
    "1. **dtype** : Type of each element.\n",
    "1. **itemsize** : Size of each element in Bytes.\n",
    "1. **nbytes** : Total bytes consumed by all elements."
   ]
  },
  {
   "cell_type": "code",
   "execution_count": 7,
   "metadata": {},
   "outputs": [
    {
     "name": "stdout",
     "output_type": "stream",
     "text": [
      "2 (2, 3) 6 int64 8 48\n"
     ]
    }
   ],
   "source": [
    "print(x.ndim,x.shape,x.size,x.dtype,x.itemsize,x.nbytes)"
   ]
  },
  {
   "cell_type": "markdown",
   "metadata": {},
   "source": [
    "### 4 dtypes"
   ]
  },
  {
   "cell_type": "code",
   "execution_count": 9,
   "metadata": {},
   "outputs": [
    {
     "name": "stdout",
     "output_type": "stream",
     "text": [
      "[[ 6.  9.  5.]\n",
      " [10. 82. 34.]]\n",
      "float64\n"
     ]
    }
   ],
   "source": [
    "x=np.array([[6,9,5],\n",
    "           [10,82,34]],\n",
    "          dtype='float')\n",
    "print(x)\n",
    "print(x.dtype)"
   ]
  },
  {
   "cell_type": "code",
   "execution_count": 10,
   "metadata": {},
   "outputs": [
    {
     "data": {
      "text/plain": [
       "2"
      ]
     },
     "execution_count": 10,
     "metadata": {},
     "output_type": "execute_result"
    }
   ],
   "source": [
    "len(x)"
   ]
  },
  {
   "cell_type": "code",
   "execution_count": 12,
   "metadata": {},
   "outputs": [
    {
     "data": {
      "text/plain": [
       "(2, 3)"
      ]
     },
     "execution_count": 12,
     "metadata": {},
     "output_type": "execute_result"
    }
   ],
   "source": [
    "x.shape"
   ]
  },
  {
   "cell_type": "code",
   "execution_count": 13,
   "metadata": {},
   "outputs": [
    {
     "data": {
      "text/plain": [
       "  C_CONTIGUOUS : True\n",
       "  F_CONTIGUOUS : False\n",
       "  OWNDATA : True\n",
       "  WRITEABLE : True\n",
       "  ALIGNED : True\n",
       "  WRITEBACKIFCOPY : False\n",
       "  UPDATEIFCOPY : False"
      ]
     },
     "execution_count": 13,
     "metadata": {},
     "output_type": "execute_result"
    }
   ],
   "source": [
    "x.flags"
   ]
  },
  {
   "cell_type": "markdown",
   "metadata": {},
   "source": [
    "### Try 1"
   ]
  },
  {
   "cell_type": "markdown",
   "metadata": {},
   "source": [
    "Write the statement to import numpy package as np.\n",
    "\n",
    "Define the list n = [5, 10, 15, 20, 25].\n",
    "\n",
    "Create a numpy array x, using array method of numpy package.\n",
    "\n",
    "Hint : Pass list n as argument to array method.\n",
    "Determine the type of array x.\n",
    "\n",
    "Determine the following attributes.\n",
    "\n",
    "Dimensions of x.\n",
    "\n",
    "Shape of x.\n",
    "\n",
    "Size of x"
   ]
  },
  {
   "cell_type": "code",
   "execution_count": 14,
   "metadata": {},
   "outputs": [
    {
     "data": {
      "text/plain": [
       "numpy.ndarray"
      ]
     },
     "execution_count": 14,
     "metadata": {},
     "output_type": "execute_result"
    }
   ],
   "source": [
    "import numpy as np\n",
    "n=[5, 10, 15, 20, 25]\n",
    "x=np.array(n)\n",
    "type(x)"
   ]
  },
  {
   "cell_type": "code",
   "execution_count": 15,
   "metadata": {},
   "outputs": [
    {
     "name": "stdout",
     "output_type": "stream",
     "text": [
      "1\n"
     ]
    }
   ],
   "source": [
    "print(x.ndim)"
   ]
  },
  {
   "cell_type": "code",
   "execution_count": 16,
   "metadata": {},
   "outputs": [
    {
     "name": "stdout",
     "output_type": "stream",
     "text": [
      "(5,)\n"
     ]
    }
   ],
   "source": [
    "print(x.shape)"
   ]
  },
  {
   "cell_type": "code",
   "execution_count": 17,
   "metadata": {},
   "outputs": [
    {
     "name": "stdout",
     "output_type": "stream",
     "text": [
      "5\n"
     ]
    }
   ],
   "source": [
    "print(x.size)"
   ]
  },
  {
   "cell_type": "markdown",
   "metadata": {},
   "source": [
    "### Try 2"
   ]
  },
  {
   "cell_type": "markdown",
   "metadata": {},
   "source": [
    "Import numpy package as np.\n",
    "\n",
    "Define the list of lists n = [[-1, -2, -3, -4], [-2,-4, -6, -8]].\n",
    "\n",
    "Create a numpy array y, using array method of numpy package.\n",
    "\n",
    "Hint : Pass list n as argument to array method.\n",
    "Determine the type of array y.\n",
    "\n",
    "Determine the following attributes.\n",
    "\n",
    "Dimensions of y.\n",
    "\n",
    "Shape of y.\n",
    "\n",
    "Size of y.\n",
    "\n",
    "Type of each data element of y.\n",
    "\n",
    "Number of bytes occupied by each data element of y."
   ]
  },
  {
   "cell_type": "code",
   "execution_count": 22,
   "metadata": {},
   "outputs": [
    {
     "name": "stdout",
     "output_type": "stream",
     "text": [
      "2\n",
      "(2, 4)\n",
      "8\n",
      "int64\n",
      "64\n"
     ]
    }
   ],
   "source": [
    "import numpy as np\n",
    "n=[[-1, -2, -3, -4], [-2,-4, -6, -8]] #NOT 2D its just nested list\n",
    "y=np.array(n)\n",
    "print(y.ndim)\n",
    "print(y.shape)\n",
    "print(y.size)\n",
    "print(y.dtype)\n",
    "print(y.nbytes)"
   ]
  },
  {
   "cell_type": "code",
   "execution_count": null,
   "metadata": {},
   "outputs": [],
   "source": []
  }
 ],
 "metadata": {
  "kernelspec": {
   "display_name": "Python 3",
   "language": "python",
   "name": "python3"
  },
  "language_info": {
   "codemirror_mode": {
    "name": "ipython",
    "version": 3
   },
   "file_extension": ".py",
   "mimetype": "text/x-python",
   "name": "python",
   "nbconvert_exporter": "python",
   "pygments_lexer": "ipython3",
   "version": "3.6.4"
  }
 },
 "nbformat": 4,
 "nbformat_minor": 2
}
