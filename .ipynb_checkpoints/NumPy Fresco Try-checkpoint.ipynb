{
 "cells": [
  {
   "cell_type": "markdown",
   "metadata": {},
   "source": [
    "### Try 1"
   ]
  },
  {
   "cell_type": "markdown",
   "metadata": {},
   "source": [
    "Write the statement to import numpy package as np.\n",
    "\n",
    "Define the list n = [5, 10, 15, 20, 25].\n",
    "\n",
    "Create a numpy array x, using array method of numpy package.\n",
    "\n",
    "Hint : Pass list n as argument to array method.\n",
    "Determine the type of array x.\n",
    "\n",
    "Determine the following attributes.\n",
    "\n",
    "Dimensions of x.\n",
    "\n",
    "Shape of x.\n",
    "\n",
    "Size of x"
   ]
  },
  {
   "cell_type": "code",
   "execution_count": 2,
   "metadata": {},
   "outputs": [
    {
     "name": "stdout",
     "output_type": "stream",
     "text": [
      "1\n",
      "(5,)\n",
      "5\n"
     ]
    }
   ],
   "source": [
    "import numpy as np\n",
    "n=[5, 10, 15, 20, 25]\n",
    "x=np.array(n)\n",
    "type(x)\n",
    "print(x.ndim)\n",
    "print(x.shape)\n",
    "print(x.size)"
   ]
  },
  {
   "cell_type": "markdown",
   "metadata": {},
   "source": [
    "### Try 2"
   ]
  },
  {
   "cell_type": "markdown",
   "metadata": {},
   "source": [
    "Import numpy package as np.\n",
    "\n",
    "Define the list of lists n = [[-1, -2, -3, -4], [-2,-4, -6, -8]].\n",
    "\n",
    "Create a numpy array y, using array method of numpy package.\n",
    "\n",
    "Hint : Pass list n as argument to array method.\n",
    "Determine the type of array y.\n",
    "\n",
    "Determine the following attributes.\n",
    "\n",
    "Dimensions of y.\n",
    "\n",
    "Shape of y.\n",
    "\n",
    "Size of y.\n",
    "\n",
    "Type of each data element of y.\n",
    "\n",
    "Number of bytes occupied by each data element of y."
   ]
  },
  {
   "cell_type": "code",
   "execution_count": 4,
   "metadata": {},
   "outputs": [
    {
     "name": "stdout",
     "output_type": "stream",
     "text": [
      "2\n",
      "(2, 4)\n",
      "8\n",
      "int64\n",
      "64\n"
     ]
    }
   ],
   "source": [
    "import numpy as np\n",
    "n=[[-1, -2, -3, -4], [-2,-4, -6, -8]] #NOT 2D its just nested list\n",
    "y=np.array(n)\n",
    "print(y.ndim)\n",
    "print(y.shape)\n",
    "print(y.size)\n",
    "print(y.dtype)\n",
    "print(y.nbytes)"
   ]
  },
  {
   "cell_type": "markdown",
   "metadata": {},
   "source": [
    "### Try 3"
   ]
  },
  {
   "cell_type": "code",
   "execution_count": 6,
   "metadata": {},
   "outputs": [
    {
     "name": "stdout",
     "output_type": "stream",
     "text": [
      "(2, 2)\n"
     ]
    }
   ],
   "source": [
    "import numpy as np\n",
    "\n",
    "print(np.array(([1, 2], (3,4))).shape)"
   ]
  },
  {
   "cell_type": "code",
   "execution_count": 7,
   "metadata": {},
   "outputs": [
    {
     "data": {
      "text/plain": [
       "array([[1, 2],\n",
       "       [3, 4]])"
      ]
     },
     "execution_count": 7,
     "metadata": {},
     "output_type": "execute_result"
    }
   ],
   "source": [
    "np.array(([1, 2], (3,4)))"
   ]
  },
  {
   "cell_type": "code",
   "execution_count": 10,
   "metadata": {},
   "outputs": [
    {
     "name": "stdout",
     "output_type": "stream",
     "text": [
      "[[1. 0.]\n",
      " [0. 1.]]\n"
     ]
    }
   ],
   "source": [
    "import numpy as np\n",
    "\n",
    "z = np.eye(2)\n",
    "print(z)"
   ]
  },
  {
   "cell_type": "markdown",
   "metadata": {},
   "source": [
    "### Try 4"
   ]
  },
  {
   "cell_type": "markdown",
   "metadata": {},
   "source": [
    "Import numpy package as np\n",
    "\n",
    "Define a ndarray x1 from list, `[[[-1,1],[-2,2]],[[-3 3], [-4, 4]]]\n",
    "\n",
    "Determine the following attributes of x1\n",
    "\n",
    "Number of dimensions\n",
    "\n",
    "Shape\n",
    "\n",
    "Size"
   ]
  },
  {
   "cell_type": "code",
   "execution_count": 13,
   "metadata": {},
   "outputs": [
    {
     "name": "stdout",
     "output_type": "stream",
     "text": [
      "3\n",
      "(2, 2, 2)\n",
      "8\n",
      "[[[-1  1]\n",
      "  [-2  2]]\n",
      "\n",
      " [[-3  3]\n",
      "  [-4  4]]]\n"
     ]
    }
   ],
   "source": [
    "import numpy as np\n",
    "x=[[[-1,1],[-2,2]],[[-3, 3], [-4, 4]]]\n",
    "x1=np.array(x)\n",
    "print(x1.ndim)\n",
    "print(x1.shape)\n",
    "print(x1.size)\n",
    "print(x1)"
   ]
  },
  {
   "cell_type": "markdown",
   "metadata": {},
   "source": [
    "### Try 5"
   ]
  },
  {
   "cell_type": "markdown",
   "metadata": {},
   "source": [
    "Import numpy package as np  \n",
    "Define a ndarray x2, whose shape is (3, 2, 2)  \n",
    "and contains all 1's.\n",
    "\n",
    "Define a ndarray x3, whose shape is (4,4) and  \n",
    "contains 1's on diagonal and 0's elsewhere."
   ]
  },
  {
   "cell_type": "code",
   "execution_count": 19,
   "metadata": {},
   "outputs": [
    {
     "name": "stdout",
     "output_type": "stream",
     "text": [
      "x2 [[[1. 1.]\n",
      "  [1. 1.]]\n",
      "\n",
      " [[1. 1.]\n",
      "  [1. 1.]]\n",
      "\n",
      " [[1. 1.]\n",
      "  [1. 1.]]]\n",
      "x3 [[1. 0. 0. 0.]\n",
      " [0. 1. 0. 0.]\n",
      " [0. 0. 1. 0.]\n",
      " [0. 0. 0. 1.]]\n"
     ]
    }
   ],
   "source": [
    "import numpy as np\n",
    "x2=np.ones(shape=(3,2,2))\n",
    "print('x2',x2)\n",
    "x3=np.eye(4)\n",
    "print('x3',x3)"
   ]
  },
  {
   "cell_type": "markdown",
   "metadata": {},
   "source": [
    "### Try 6"
   ]
  },
  {
   "cell_type": "markdown",
   "metadata": {},
   "source": [
    "Define a random 3-D array x4 of shape (3, 4, 2)  \n",
    "and of numbers between 0 and 1.\n",
    "\n",
    "Simulate a random normal distribution of 20 elements,  \n",
    "whose mean is 5 and standard deviation 2.5 . Capture the result in x5."
   ]
  },
  {
   "cell_type": "code",
   "execution_count": 20,
   "metadata": {},
   "outputs": [
    {
     "data": {
      "text/plain": [
       "array([0.        , 0.04347826, 0.08695652, 0.13043478, 0.17391304,\n",
       "       0.2173913 , 0.26086957, 0.30434783, 0.34782609, 0.39130435,\n",
       "       0.43478261, 0.47826087, 0.52173913, 0.56521739, 0.60869565,\n",
       "       0.65217391, 0.69565217, 0.73913043, 0.7826087 , 0.82608696,\n",
       "       0.86956522, 0.91304348, 0.95652174, 1.        ])"
      ]
     },
     "execution_count": 20,
     "metadata": {},
     "output_type": "execute_result"
    }
   ],
   "source": [
    "x4=np.linspace(0,1,num=24)\n",
    "x4"
   ]
  },
  {
   "cell_type": "code",
   "execution_count": 23,
   "metadata": {},
   "outputs": [
    {
     "data": {
      "text/plain": [
       "array([[[0.        , 0.04347826],\n",
       "        [0.08695652, 0.13043478],\n",
       "        [0.17391304, 0.2173913 ],\n",
       "        [0.26086957, 0.30434783]],\n",
       "\n",
       "       [[0.34782609, 0.39130435],\n",
       "        [0.43478261, 0.47826087],\n",
       "        [0.52173913, 0.56521739],\n",
       "        [0.60869565, 0.65217391]],\n",
       "\n",
       "       [[0.69565217, 0.73913043],\n",
       "        [0.7826087 , 0.82608696],\n",
       "        [0.86956522, 0.91304348],\n",
       "        [0.95652174, 1.        ]]])"
      ]
     },
     "execution_count": 23,
     "metadata": {},
     "output_type": "execute_result"
    }
   ],
   "source": [
    "x4.shape=(3,4,2)\n",
    "x4"
   ]
  },
  {
   "cell_type": "code",
   "execution_count": 24,
   "metadata": {},
   "outputs": [
    {
     "data": {
      "text/plain": [
       "array([0.62558632, 5.85670101, 7.88258951, 4.36890991, 7.45330197,\n",
       "       6.2855471 , 5.55294917, 2.32489167, 4.52626042, 5.63750361,\n",
       "       3.85493254, 6.08790872, 3.54101237, 7.04211768, 6.68180201,\n",
       "       4.73897214, 3.67179906, 7.57433171, 3.90466094, 2.20420438])"
      ]
     },
     "execution_count": 24,
     "metadata": {},
     "output_type": "execute_result"
    }
   ],
   "source": [
    "np.random.seed(100)\n",
    "s=5+2.5*np.random.randn(20)\n",
    "s"
   ]
  },
  {
   "cell_type": "markdown",
   "metadata": {},
   "source": [
    "### Try 7"
   ]
  },
  {
   "cell_type": "markdown",
   "metadata": {},
   "source": [
    "Define a ndarray x6, having first 20 even number  \n",
    "Define a ndarray x7, having equally spaced 30 numbers between 10 and 20."
   ]
  },
  {
   "cell_type": "code",
   "execution_count": 25,
   "metadata": {},
   "outputs": [
    {
     "data": {
      "text/plain": [
       "array([ 0,  2,  4,  6,  8, 10, 12, 14, 16, 18, 20, 22, 24, 26, 28, 30, 32,\n",
       "       34, 36, 38, 40])"
      ]
     },
     "execution_count": 25,
     "metadata": {},
     "output_type": "execute_result"
    }
   ],
   "source": [
    "x6=np.arange(0,41,step=2)\n",
    "x6"
   ]
  },
  {
   "cell_type": "code",
   "execution_count": 26,
   "metadata": {},
   "outputs": [
    {
     "data": {
      "text/plain": [
       "array([10.        , 10.34482759, 10.68965517, 11.03448276, 11.37931034,\n",
       "       11.72413793, 12.06896552, 12.4137931 , 12.75862069, 13.10344828,\n",
       "       13.44827586, 13.79310345, 14.13793103, 14.48275862, 14.82758621,\n",
       "       15.17241379, 15.51724138, 15.86206897, 16.20689655, 16.55172414,\n",
       "       16.89655172, 17.24137931, 17.5862069 , 17.93103448, 18.27586207,\n",
       "       18.62068966, 18.96551724, 19.31034483, 19.65517241, 20.        ])"
      ]
     },
     "execution_count": 26,
     "metadata": {},
     "output_type": "execute_result"
    }
   ],
   "source": [
    "x7=np.linspace(10,20,num=30)\n",
    "x7"
   ]
  },
  {
   "cell_type": "code",
   "execution_count": null,
   "metadata": {},
   "outputs": [],
   "source": []
  }
 ],
 "metadata": {
  "kernelspec": {
   "display_name": "Python 3",
   "language": "python",
   "name": "python3"
  },
  "language_info": {
   "codemirror_mode": {
    "name": "ipython",
    "version": 3
   },
   "file_extension": ".py",
   "mimetype": "text/x-python",
   "name": "python",
   "nbconvert_exporter": "python",
   "pygments_lexer": "ipython3",
   "version": "3.6.4"
  }
 },
 "nbformat": 4,
 "nbformat_minor": 2
}
