{
 "cells": [
  {
   "cell_type": "markdown",
   "metadata": {},
   "source": [
    "# universal functions\n",
    "\n",
    "- ufunc\n",
    "- A universal function (or ufunc for short) is a function that\n",
    "- operates on ndarrays in an element-by-element fashion, \n",
    "- supporting array broadcasting, type casting, \n",
    "- and several other standard features. \n",
    "\n",
    "- That is, a ufunc is a “vectorized” wrapper for a function \n",
    "- that takes a fixed number of specific inputs \n",
    "- and produces a fixed number of specific outputs."
   ]
  },
  {
   "cell_type": "code",
   "execution_count": 2,
   "metadata": {},
   "outputs": [],
   "source": [
    "import numpy as np"
   ]
  },
  {
   "cell_type": "code",
   "execution_count": 3,
   "metadata": {},
   "outputs": [],
   "source": [
    "def truncated_binomial(x):\n",
    "    return (x+1)**3 - (x)**3"
   ]
  },
  {
   "cell_type": "code",
   "execution_count": 7,
   "metadata": {},
   "outputs": [],
   "source": [
    "#lets perform elementary test\n",
    "np.testing.assert_equal(truncated_binomial(4),61) # (4+1)quebe - 4 quebe\n",
    "#125 - 64 equla to 61"
   ]
  },
  {
   "cell_type": "code",
   "execution_count": 10,
   "metadata": {},
   "outputs": [],
   "source": [
    "#above is correct..no output comes since it is testing function\n",
    "#a testing function has 2 outcomes - no output - success, exception - error\n",
    "#like below\n",
    "np.testing.assert_equal(truncated_binomial(4),62)"
   ]
  },
  {
   "cell_type": "markdown",
   "metadata": {},
   "source": [
    "#### Converting py func to UNIVERSAL Function\n",
    "\n",
    "- using NumPy's frompy function\n",
    "\n",
    "- frompyfunc(func, nin, nout)\n",
    "- Takes an arbitrary Python function and returns a NumPy ufunc.\n",
    "- func - is python function\n",
    "- nin is no of arguments we are passing to the function\n",
    "- nout is the no of scalars that our func returns"
   ]
  },
  {
   "cell_type": "code",
   "execution_count": 11,
   "metadata": {},
   "outputs": [
    {
     "data": {
      "text/plain": [
       "<ufunc '? (vectorized)'>"
      ]
     },
     "execution_count": 11,
     "metadata": {},
     "output_type": "execute_result"
    }
   ],
   "source": [
    "#Inorder to use above python function with NumPy arrays,\n",
    "#we need to convert it to a UNIVERSAL fUNCTION\n",
    "#with frompyfunc function\n",
    "\n",
    "my_numpy_function = np.frompyfunc(truncated_binomial,1,1)\n",
    "my_numpy_function"
   ]
  },
  {
   "cell_type": "code",
   "execution_count": 16,
   "metadata": {},
   "outputs": [
    {
     "data": {
      "text/plain": [
       "array([0, 1, 2, 3, 4, 5, 6, 7, 8, 9])"
      ]
     },
     "execution_count": 16,
     "metadata": {},
     "output_type": "execute_result"
    }
   ],
   "source": [
    "#lets test our universal func\n",
    "test_array=np.arange(10)\n",
    "test_array"
   ]
  },
  {
   "cell_type": "code",
   "execution_count": 13,
   "metadata": {},
   "outputs": [
    {
     "data": {
      "text/plain": [
       "array([1, 7, 19, 37, 61, 91, 127, 169, 217, 271], dtype=object)"
      ]
     },
     "execution_count": 13,
     "metadata": {},
     "output_type": "execute_result"
    }
   ],
   "source": [
    "my_numpy_function(test_array)"
   ]
  },
  {
   "cell_type": "code",
   "execution_count": 14,
   "metadata": {},
   "outputs": [
    {
     "data": {
      "text/plain": [
       "array([[ 0,  0,  0,  0,  0,  0,  0,  0,  0,  0],\n",
       "       [ 0,  1,  2,  3,  4,  5,  6,  7,  8,  9],\n",
       "       [ 0,  2,  4,  6,  8, 10, 12, 14, 16, 18],\n",
       "       [ 0,  3,  6,  9, 12, 15, 18, 21, 24, 27],\n",
       "       [ 0,  4,  8, 12, 16, 20, 24, 28, 32, 36],\n",
       "       [ 0,  5, 10, 15, 20, 25, 30, 35, 40, 45],\n",
       "       [ 0,  6, 12, 18, 24, 30, 36, 42, 48, 54],\n",
       "       [ 0,  7, 14, 21, 28, 35, 42, 49, 56, 63],\n",
       "       [ 0,  8, 16, 24, 32, 40, 48, 56, 64, 72],\n",
       "       [ 0,  9, 18, 27, 36, 45, 54, 63, 72, 81]])"
      ]
     },
     "execution_count": 14,
     "metadata": {},
     "output_type": "execute_result"
    }
   ],
   "source": [
    "big_test_array=np.outer(test_array,test_array)\n",
    "#outer - Compute the outer product of two vectors.\n",
    "# so we get output where each element in test arary multiplied by element in test arary\n",
    "big_test_array\n",
    "#what it gives is every possible product of all elements in test array times test arary\n"
   ]
  },
  {
   "cell_type": "code",
   "execution_count": null,
   "metadata": {},
   "outputs": [],
   "source": []
  }
 ],
 "metadata": {
  "kernelspec": {
   "display_name": "Python 3",
   "language": "python",
   "name": "python3"
  },
  "language_info": {
   "codemirror_mode": {
    "name": "ipython",
    "version": 3
   },
   "file_extension": ".py",
   "mimetype": "text/x-python",
   "name": "python",
   "nbconvert_exporter": "python",
   "pygments_lexer": "ipython3",
   "version": "3.6.4"
  }
 },
 "nbformat": 4,
 "nbformat_minor": 2
}
