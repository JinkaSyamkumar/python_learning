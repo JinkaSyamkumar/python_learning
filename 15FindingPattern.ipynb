{
 "cells": [
  {
   "cell_type": "markdown",
   "metadata": {},
   "source": [
    "# Finding pattern\n",
    "- illustrates an important skill, searching for patterns. This skill is used within almost all fields of data science.\n",
    "<br>\n",
    "\n",
    "\n",
    "\n",
    "- within a sequence of numbers\n",
    "- we will use <b> NumPy + SymPy </b> for this\n",
    "<br>\n",
    "\n",
    "\n",
    "\n",
    "\n",
    "- <b>SymPy is a Python library that provides symbolic calculations. </b>"
   ]
  },
  {
   "cell_type": "markdown",
   "metadata": {},
   "source": [
    "### Given this array, find the next number in the sequence"
   ]
  },
  {
   "cell_type": "code",
   "execution_count": 11,
   "metadata": {},
   "outputs": [],
   "source": [
    "import numpy as np"
   ]
  },
  {
   "cell_type": "code",
   "execution_count": 12,
   "metadata": {},
   "outputs": [
    {
     "data": {
      "text/plain": [
       "array([  1,   7,  19,  37,  61,  91, 127, 169, 217, 271, 331])"
      ]
     },
     "execution_count": 12,
     "metadata": {},
     "output_type": "execute_result"
    }
   ],
   "source": [
    "my_teaser_array=np.array([1,7,19,37,61,91,127,169,217,271,331])\n",
    "my_teaser_array"
   ]
  },
  {
   "cell_type": "code",
   "execution_count": 13,
   "metadata": {},
   "outputs": [],
   "source": [
    "#The fields of applied statistics, artificial intelligence,\n",
    "#neural networks and machine learning, have\n",
    "#multiple techniques for finding patterns within datasets."
   ]
  },
  {
   "cell_type": "code",
   "execution_count": 14,
   "metadata": {},
   "outputs": [],
   "source": [
    "#Sometimes when a pattern is not relatively apparent within a dataset,\n",
    "#the differences between \n",
    "#the elements of a dataset may provide a pattern."
   ]
  },
  {
   "cell_type": "markdown",
   "metadata": {},
   "source": [
    "#### numpy.diff\n",
    "- numpy.diff(a, [n=1], [axis=-1])\n",
    "- Calculate the n-th discrete difference along the given axis.\n",
    "- https://docs.scipy.org/doc/numpy-1.14.0/reference/generated/numpy.diff.html\n",
    "\n",
    "- n is opetional2\n",
    "- The number of times values are differenced. If zero, the input is returned as-is."
   ]
  },
  {
   "cell_type": "code",
   "execution_count": 15,
   "metadata": {},
   "outputs": [
    {
     "data": {
      "text/plain": [
       "array([ 6, 12, 18, 24, 30, 36, 42, 48, 54, 60])"
      ]
     },
     "execution_count": 15,
     "metadata": {},
     "output_type": "execute_result"
    }
   ],
   "source": [
    "np.diff(my_teaser_array) #1 order difference between n+1 -n\n",
    "#difference is 6\n",
    "#original has 11 elements\n",
    "#each time we perform diff, one element goes down"
   ]
  },
  {
   "cell_type": "code",
   "execution_count": 16,
   "metadata": {},
   "outputs": [
    {
     "data": {
      "text/plain": [
       "array([6, 6, 6, 6, 6, 6, 6, 6, 6])"
      ]
     },
     "execution_count": 16,
     "metadata": {},
     "output_type": "execute_result"
    }
   ],
   "source": [
    "#second level - diff is 6, totla lements 10\n",
    "np.diff(my_teaser_array,2) #second order difference "
   ]
  },
  {
   "cell_type": "code",
   "execution_count": 17,
   "metadata": {},
   "outputs": [
    {
     "data": {
      "text/plain": [
       "array([0, 0, 0, 0, 0, 0, 0, 0])"
      ]
     },
     "execution_count": 17,
     "metadata": {},
     "output_type": "execute_result"
    }
   ],
   "source": [
    "#third level\n",
    "np.diff(my_teaser_array,n=3)"
   ]
  },
  {
   "cell_type": "code",
   "execution_count": 18,
   "metadata": {},
   "outputs": [],
   "source": [
    "#I mentioned above that difference equations and derivatives \n",
    "#are similar. \n",
    "\n",
    "#We can use SymPy to calculate derivatives symbolically."
   ]
  },
  {
   "cell_type": "markdown",
   "metadata": {},
   "source": [
    "## SymPy\n",
    "- if sympy not included in computer, use conda sympy to get\n",
    "- <b> The first thing that we'll do is we'll initialize SymPy. We do this with an import statement from SymPy import init_session, and then we execute init_session. </b>"
   ]
  },
  {
   "cell_type": "code",
   "execution_count": 19,
   "metadata": {},
   "outputs": [],
   "source": [
    "# from sympy import init_session\n",
    "# init_session()\n"
   ]
  },
  {
   "cell_type": "code",
   "execution_count": 20,
   "metadata": {},
   "outputs": [],
   "source": [
    "#MultipleInstanceError: Multiple incompatible subclass instances of TerminalInteractiveShell are being created.\n",
    "\n",
    "# use python not ipython \n",
    "\n",
    "# for this python manage.py shell\n",
    "# not\n",
    "# ipython manage.py shell"
   ]
  },
  {
   "cell_type": "code",
   "execution_count": 21,
   "metadata": {},
   "outputs": [],
   "source": [
    "#RUN ALL BELOW IN COMMAND PROMPT"
   ]
  },
  {
   "cell_type": "code",
   "execution_count": 22,
   "metadata": {},
   "outputs": [],
   "source": [
    "# sympy.init_printing(use_unicode=True)\n",
    "# diff(x**3)\n"
   ]
  },
  {
   "cell_type": "code",
   "execution_count": 23,
   "metadata": {},
   "outputs": [],
   "source": [
    "# >>> diff(x**3)\n",
    "#    2\n",
    "# 3⋅x \n",
    "# >>> diff(x**3,x,2)\n",
    "# 6⋅x\n",
    "# >>> diff(x**3,x,3)\n",
    "# 6\n",
    "# >>> diff(x**3,x,4)\n",
    "# 0\n",
    "\n",
    "#>>> #above corresponds to relation with our data set"
   ]
  },
  {
   "cell_type": "markdown",
   "metadata": {},
   "source": [
    "###  In order to test our hypothesis that our dataset was generated by a cubic polynomial, we will use Python and NumPy to create some empirical data."
   ]
  },
  {
   "cell_type": "code",
   "execution_count": 24,
   "metadata": {},
   "outputs": [],
   "source": [
    "#To do this, we'll define a function called my guess, \n",
    "#which takes one parameter and it calculates \n",
    "#the difference between n plus one cubed, minus n cubed. "
   ]
  },
  {
   "cell_type": "code",
   "execution_count": 25,
   "metadata": {},
   "outputs": [],
   "source": [
    "def my_guess(n):\n",
    "    return (n+1)**3 - n**3"
   ]
  },
  {
   "cell_type": "code",
   "execution_count": 26,
   "metadata": {},
   "outputs": [],
   "source": [
    "#I'll create an argument using NumPy's arrange function\n",
    "#with 20 values. We can test our observations by \n",
    "#replicating our initial array. "
   ]
  },
  {
   "cell_type": "code",
   "execution_count": 27,
   "metadata": {},
   "outputs": [
    {
     "data": {
      "text/plain": [
       "array([   1,    7,   19,   37,   61,   91,  127,  169,  217,  271,  331,\n",
       "        397,  469,  547,  631,  721,  817,  919, 1027, 1141])"
      ]
     },
     "execution_count": 27,
     "metadata": {},
     "output_type": "execute_result"
    }
   ],
   "source": [
    "my_guess(np.arange(20)) "
   ]
  },
  {
   "cell_type": "code",
   "execution_count": 28,
   "metadata": {},
   "outputs": [],
   "source": [
    "#In above We see that the first \n",
    "#line of my guess function returned all of the elements \n",
    "#that were in our teaser array."
   ]
  },
  {
   "cell_type": "code",
   "execution_count": 29,
   "metadata": {},
   "outputs": [],
   "source": [
    "#This confirms that the pattern was generated by a \n",
    "#function n plus one cubed, minus n cubed."
   ]
  },
  {
   "cell_type": "code",
   "execution_count": null,
   "metadata": {},
   "outputs": [],
   "source": []
  }
 ],
 "metadata": {
  "kernelspec": {
   "display_name": "Python 3",
   "language": "python",
   "name": "python3"
  },
  "language_info": {
   "codemirror_mode": {
    "name": "ipython",
    "version": 3
   },
   "file_extension": ".py",
   "mimetype": "text/x-python",
   "name": "python",
   "nbconvert_exporter": "python",
   "pygments_lexer": "ipython3",
   "version": "3.6.4"
  }
 },
 "nbformat": 4,
 "nbformat_minor": 2
}
